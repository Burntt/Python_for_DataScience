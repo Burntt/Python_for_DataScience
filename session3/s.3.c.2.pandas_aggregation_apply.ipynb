{
 "cells": [
  {
   "cell_type": "markdown",
   "metadata": {
    "id": "4Me_wtW99F0U"
   },
   "source": [
    "#### General imports"
   ]
  },
  {
   "cell_type": "code",
   "execution_count": 1,
   "metadata": {
    "id": "b9O0xVnW9F0Y"
   },
   "outputs": [
    {
     "ename": "ModuleNotFoundError",
     "evalue": "No module named 'pandas'",
     "output_type": "error",
     "traceback": [
      "\u001b[0;31m---------------------------------------------------------------------------\u001b[0m",
      "\u001b[0;31mModuleNotFoundError\u001b[0m                       Traceback (most recent call last)",
      "\u001b[0;32m<ipython-input-1-baf368f80de7>\u001b[0m in \u001b[0;36m<module>\u001b[0;34m\u001b[0m\n\u001b[0;32m----> 1\u001b[0;31m \u001b[0;32mimport\u001b[0m \u001b[0mpandas\u001b[0m \u001b[0;32mas\u001b[0m \u001b[0mpd\u001b[0m\u001b[0;34m\u001b[0m\u001b[0;34m\u001b[0m\u001b[0m\n\u001b[0m\u001b[1;32m      2\u001b[0m \u001b[0;32mimport\u001b[0m \u001b[0mnumpy\u001b[0m \u001b[0;32mas\u001b[0m \u001b[0mnp\u001b[0m\u001b[0;34m\u001b[0m\u001b[0;34m\u001b[0m\u001b[0m\n",
      "\u001b[0;31mModuleNotFoundError\u001b[0m: No module named 'pandas'"
     ]
    }
   ],
   "source": [
    "import pandas as pd\n",
    "import numpy as np"
   ]
  },
  {
   "cell_type": "code",
   "execution_count": null,
   "metadata": {
    "id": "welXcP269F0e",
    "scrolled": true
   },
   "outputs": [],
   "source": [
    "titanic_df = pd.read_csv('https://raw.githubusercontent.com/ObozniyMaksym/HS_data/main/titanic.csv')\n",
    "titanic_df"
   ]
  },
  {
   "cell_type": "markdown",
   "metadata": {
    "id": "99eWCOud9F0j"
   },
   "source": [
    "#### Exercise 2.1: Snapshot of aggregation apply"
   ]
  },
  {
   "cell_type": "code",
   "execution_count": null,
   "metadata": {
    "id": "piICVZf59F0k",
    "outputId": "e64494c6-de3a-4ea1-e923-acc99d82e91b"
   },
   "outputs": [
    {
     "data": {
      "text/plain": [
       "Pclass\n",
       "1         PassengerId  Survived  Pclass  \\\\n1      ...\n",
       "2         PassengerId  Survived  Pclass  \\\\n9      ...\n",
       "3         PassengerId  Survived  Pclass  \\\\n0      ...\n",
       "dtype: object"
      ]
     },
     "execution_count": 3,
     "metadata": {
      "tags": []
     },
     "output_type": "execute_result"
    }
   ],
   "source": [
    "titanic_df.groupby(['Pclass']).apply(lambda x: str(x))"
   ]
  },
  {
   "cell_type": "code",
   "execution_count": null,
   "metadata": {
    "id": "GL2ahEVt9F0p",
    "outputId": "cb4eb0ea-28b1-4bd7-f543-043ade209907"
   },
   "outputs": [
    {
     "data": {
      "text/plain": [
       "pandas.core.series.Series"
      ]
     },
     "execution_count": 7,
     "metadata": {
      "tags": []
     },
     "output_type": "execute_result"
    }
   ],
   "source": [
    "type(titanic_df.groupby(['Pclass']).apply(lambda x: str(x)))"
   ]
  },
  {
   "cell_type": "code",
   "execution_count": null,
   "metadata": {
    "id": "2DDlfbEX9F0t",
    "outputId": "bfadcd96-2f4e-48e1-84a1-ed36443a3531",
    "scrolled": true
   },
   "outputs": [
    {
     "data": {
      "text/plain": [
       "'     PassengerId  Survived  Pclass  \\\\\\n1              2         1       1   \\n3              4         1       1   \\n6              7         0       1   \\n11            12         1       1   \\n23            24         1       1   \\n27            28         0       1   \\n30            31         0       1   \\n31            32         1       1   \\n34            35         0       1   \\n35            36         0       1   \\n52            53         1       1   \\n54            55         0       1   \\n55            56         1       1   \\n61            62         1       1   \\n62            63         0       1   \\n64            65         0       1   \\n83            84         0       1   \\n88            89         1       1   \\n92            93         0       1   \\n96            97         0       1   \\n97            98         1       1   \\n102          103         0       1   \\n110          111         0       1   \\n118          119         0       1   \\n124          125         0       1   \\n136          137         1       1   \\n137          138         0       1   \\n139          140         0       1   \\n151          152         1       1   \\n155          156         0       1   \\n..           ...       ...     ...   \\n763          764         1       1   \\n765          766         1       1   \\n766          767         0       1   \\n779          780         1       1   \\n781          782         1       1   \\n782          783         0       1   \\n789          790         0       1   \\n793          794         0       1   \\n796          797         1       1   \\n802          803         1       1   \\n806          807         0       1   \\n809          810         1       1   \\n815          816         0       1   \\n820          821         1       1   \\n822          823         0       1   \\n829          830         1       1   \\n835          836         1       1   \\n839          840         1       1   \\n842          843         1       1   \\n849          850         1       1   \\n853          854         1       1   \\n856          857         1       1   \\n857          858         1       1   \\n862          863         1       1   \\n867          868         0       1   \\n871          872         1       1   \\n872          873         0       1   \\n879          880         1       1   \\n887          888         1       1   \\n889          890         1       1   \\n\\n                                                  Name     Sex   Age  SibSp  \\\\\\n1    Cumings, Mrs. John Bradley (Florence Briggs Th...  female  38.0      1   \\n3         Futrelle, Mrs. Jacques Heath (Lily May Peel)  female  35.0      1   \\n6                              McCarthy, Mr. Timothy J    male  54.0      0   \\n11                            Bonnell, Miss. Elizabeth  female  58.0      0   \\n23                        Sloper, Mr. William Thompson    male  28.0      0   \\n27                      Fortune, Mr. Charles Alexander    male  19.0      3   \\n30                            Uruchurtu, Don. Manuel E    male  40.0      0   \\n31      Spencer, Mrs. William Augustus (Marie Eugenie)  female   NaN      1   \\n34                             Meyer, Mr. Edgar Joseph    male  28.0      1   \\n35                      Holverson, Mr. Alexander Oskar    male  42.0      1   \\n52            Harper, Mrs. Henry Sleeper (Myna Haxtun)  female  49.0      1   \\n54                      Ostby, Mr. Engelhart Cornelius    male  65.0      0   \\n55                                   Woolner, Mr. Hugh    male   NaN      0   \\n61                                 Icard, Miss. Amelie  female  38.0      0   \\n62                         Harris, Mr. Henry Birkhardt    male  45.0      1   \\n64                               Stewart, Mr. Albert A    male   NaN      0   \\n83                             Carrau, Mr. Francisco M    male  28.0      0   \\n88                          Fortune, Miss. Mabel Helen  female  23.0      3   \\n92                         Chaffee, Mr. Herbert Fuller    male  46.0      1   \\n96                           Goldschmidt, Mr. George B    male  71.0      0   \\n97                     Greenfield, Mr. William Bertram    male  23.0      0   \\n102                          White, Mr. Richard Frasar    male  21.0      0   \\n110                     Porter, Mr. Walter Chamberlain    male  47.0      0   \\n118                           Baxter, Mr. Quigg Edmond    male  24.0      0   \\n124                        White, Mr. Percival Wayland    male  54.0      0   \\n136                       Newsom, Miss. Helen Monypeny  female  19.0      0   \\n137                        Futrelle, Mr. Jacques Heath    male  37.0      1   \\n139                                 Giglio, Mr. Victor    male  24.0      0   \\n151                  Pears, Mrs. Thomas (Edith Wearne)  female  22.0      1   \\n155                        Williams, Mr. Charles Duane    male  51.0      0   \\n..                                                 ...     ...   ...    ...   \\n763          Carter, Mrs. William Ernest (Lucile Polk)  female  36.0      1   \\n765               Hogeboom, Mrs. John C (Anna Andrews)  female  51.0      1   \\n766                          Brewe, Dr. Arthur Jackson    male   NaN      0   \\n779  Robert, Mrs. Edward Scott (Elisabeth Walton Mc...  female  43.0      0   \\n781          Dick, Mrs. Albert Adrian (Vera Gillespie)  female  17.0      1   \\n782                             Long, Mr. Milton Clyde    male  29.0      0   \\n789                           Guggenheim, Mr. Benjamin    male  46.0      0   \\n793                           Hoyt, Mr. William Fisher    male   NaN      0   \\n796                        Leader, Dr. Alice (Farnham)  female  49.0      0   \\n802                Carter, Master. William Thornton II    male  11.0      1   \\n806                             Andrews, Mr. Thomas Jr    male  39.0      0   \\n809     Chambers, Mrs. Norman Campbell (Bertha Griggs)  female  33.0      1   \\n815                                   Fry, Mr. Richard    male   NaN      0   \\n820  Hays, Mrs. Charles Melville (Clara Jennings Gr...  female  52.0      1   \\n822                    Reuchlin, Jonkheer. John George    male  38.0      0   \\n829          Stone, Mrs. George Nelson (Martha Evelyn)  female  62.0      0   \\n835                        Compton, Miss. Sara Rebecca  female  39.0      1   \\n839                               Marechal, Mr. Pierre    male   NaN      0   \\n842                            Serepeca, Miss. Augusta  female  30.0      0   \\n849       Goldenberg, Mrs. Samuel L (Edwiga Grabowska)  female   NaN      1   \\n853                          Lines, Miss. Mary Conover  female  16.0      0   \\n856         Wick, Mrs. George Dennick (Mary Hitchcock)  female  45.0      1   \\n857                             Daly, Mr. Peter Denis     male  51.0      0   \\n862  Swift, Mrs. Frederick Joel (Margaret Welles Ba...  female  48.0      0   \\n867               Roebling, Mr. Washington Augustus II    male  31.0      0   \\n871   Beckwith, Mrs. Richard Leonard (Sallie Monypeny)  female  47.0      1   \\n872                           Carlsson, Mr. Frans Olof    male  33.0      0   \\n879      Potter, Mrs. Thomas Jr (Lily Alexenia Wilson)  female  56.0      0   \\n887                       Graham, Miss. Margaret Edith  female  19.0      0   \\n889                              Behr, Mr. Karl Howell    male  26.0      0   \\n\\n     Parch       Ticket      Fare        Cabin Embarked  \\n1        0     PC 17599   71.2833          C85        C  \\n3        0       113803   53.1000         C123        S  \\n6        0        17463   51.8625          E46        S  \\n11       0       113783   26.5500         C103        S  \\n23       0       113788   35.5000           A6        S  \\n27       2        19950  263.0000  C23 C25 C27        S  \\n30       0     PC 17601   27.7208          NaN        C  \\n31       0     PC 17569  146.5208          B78        C  \\n34       0     PC 17604   82.1708          NaN        C  \\n35       0       113789   52.0000          NaN        S  \\n52       0     PC 17572   76.7292          D33        C  \\n54       1       113509   61.9792          B30        C  \\n55       0        19947   35.5000          C52        S  \\n61       0       113572   80.0000          B28      NaN  \\n62       0        36973   83.4750          C83        S  \\n64       0     PC 17605   27.7208          NaN        C  \\n83       0       113059   47.1000          NaN        S  \\n88       2        19950  263.0000  C23 C25 C27        S  \\n92       0  W.E.P. 5734   61.1750          E31        S  \\n96       0     PC 17754   34.6542           A5        C  \\n97       1     PC 17759   63.3583      D10 D12        C  \\n102      1        35281   77.2875          D26        S  \\n110      0       110465   52.0000         C110        S  \\n118      1     PC 17558  247.5208      B58 B60        C  \\n124      1        35281   77.2875          D26        S  \\n136      2        11752   26.2833          D47        S  \\n137      0       113803   53.1000         C123        S  \\n139      0     PC 17593   79.2000          B86        C  \\n151      0       113776   66.6000           C2        S  \\n155      1     PC 17597   61.3792          NaN        C  \\n..     ...          ...       ...          ...      ...  \\n763      2       113760  120.0000      B96 B98        S  \\n765      0        13502   77.9583          D11        S  \\n766      0       112379   39.6000          NaN        C  \\n779      1        24160  211.3375           B3        S  \\n781      0        17474   57.0000          B20        S  \\n782      0       113501   30.0000           D6        S  \\n789      0     PC 17593   79.2000      B82 B84        C  \\n793      0     PC 17600   30.6958          NaN        C  \\n796      0        17465   25.9292          D17        S  \\n802      2       113760  120.0000      B96 B98        S  \\n806      0       112050    0.0000          A36        S  \\n809      0       113806   53.1000           E8        S  \\n815      0       112058    0.0000         B102        S  \\n820      1        12749   93.5000          B69        S  \\n822      0        19972    0.0000          NaN        S  \\n829      0       113572   80.0000          B28      NaN  \\n835      1     PC 17756   83.1583          E49        C  \\n839      0        11774   29.7000          C47        C  \\n842      0       113798   31.0000          NaN        C  \\n849      0        17453   89.1042          C92        C  \\n853      1     PC 17592   39.4000          D28        S  \\n856      1        36928  164.8667          NaN        S  \\n857      0       113055   26.5500          E17        S  \\n862      0        17466   25.9292          D17        S  \\n867      0     PC 17590   50.4958          A24        S  \\n871      1        11751   52.5542          D35        S  \\n872      0          695    5.0000  B51 B53 B55        S  \\n879      1        11767   83.1583          C50        C  \\n887      0       112053   30.0000          B42        S  \\n889      0       111369   30.0000         C148        C  \\n\\n[216 rows x 12 columns]'"
      ]
     },
     "execution_count": 5,
     "metadata": {
      "tags": []
     },
     "output_type": "execute_result"
    }
   ],
   "source": [
    "titanic_df.groupby(['Pclass']).apply(lambda x: str(x)).iloc[0]"
   ]
  },
  {
   "cell_type": "code",
   "execution_count": null,
   "metadata": {
    "id": "ctZuqYS59F0w"
   },
   "outputs": [],
   "source": []
  },
  {
   "cell_type": "code",
   "execution_count": null,
   "metadata": {
    "id": "gH4ZMbgJ9F00",
    "outputId": "ba10d848-3bc4-4988-bb84-3dc14d2966a5"
   },
   "outputs": [
    {
     "data": {
      "text/plain": [
       "Pclass\n",
       "1    <class 'pandas.core.frame.DataFrame'>\n",
       "2    <class 'pandas.core.frame.DataFrame'>\n",
       "3    <class 'pandas.core.frame.DataFrame'>\n",
       "dtype: object"
      ]
     },
     "execution_count": 10,
     "metadata": {
      "tags": []
     },
     "output_type": "execute_result"
    }
   ],
   "source": [
    "titanic_df.groupby(['Pclass']).apply(lambda x: type(x))"
   ]
  },
  {
   "cell_type": "markdown",
   "metadata": {
    "id": "Xax_k4KB9F07"
   },
   "source": [
    "#### Writing a function for aggregation apply"
   ]
  },
  {
   "cell_type": "code",
   "execution_count": null,
   "metadata": {
    "id": "659cPy3v9F08"
   },
   "outputs": [],
   "source": [
    "def aggregation_apply_1(chunk_df):\n",
    "    \n",
    "    return chunk_df['Fare'].mean()"
   ]
  },
  {
   "cell_type": "code",
   "execution_count": null,
   "metadata": {
    "id": "p0RMTxzn9F0_",
    "outputId": "c728878a-078a-4490-810d-0741f9879ac0"
   },
   "outputs": [
    {
     "data": {
      "text/plain": [
       "Pclass\n",
       "1    84.154687\n",
       "2    20.662183\n",
       "3    13.675550\n",
       "dtype: float64"
      ]
     },
     "execution_count": 12,
     "metadata": {
      "tags": []
     },
     "output_type": "execute_result"
    }
   ],
   "source": [
    "titanic_df.groupby(['Pclass']).apply(aggregation_apply_1)"
   ]
  },
  {
   "cell_type": "code",
   "execution_count": null,
   "metadata": {
    "id": "ba1jrbkH9F1D",
    "outputId": "774c5787-ddca-4528-ed8f-6c3a8471ed25"
   },
   "outputs": [
    {
     "data": {
      "text/plain": [
       "pandas.core.series.Series"
      ]
     },
     "execution_count": 13,
     "metadata": {
      "tags": []
     },
     "output_type": "execute_result"
    }
   ],
   "source": [
    "type(titanic_df.groupby(['Pclass']).apply(aggregation_apply))"
   ]
  },
  {
   "cell_type": "code",
   "execution_count": null,
   "metadata": {
    "id": "xS9Op4O29F1I"
   },
   "outputs": [],
   "source": [
    "def aggregation_apply_2(chunk_df):\n",
    "    \n",
    "    return chunk_df[ ['Fare','Survived']].mean()"
   ]
  },
  {
   "cell_type": "code",
   "execution_count": null,
   "metadata": {
    "id": "64La0rEi9F1M",
    "outputId": "e630a7b9-c8ae-43e2-d28a-996b9bd9a9b8"
   },
   "outputs": [
    {
     "data": {
      "text/html": [
       "<div>\n",
       "<style scoped>\n",
       "    .dataframe tbody tr th:only-of-type {\n",
       "        vertical-align: middle;\n",
       "    }\n",
       "\n",
       "    .dataframe tbody tr th {\n",
       "        vertical-align: top;\n",
       "    }\n",
       "\n",
       "    .dataframe thead th {\n",
       "        text-align: right;\n",
       "    }\n",
       "</style>\n",
       "<table border=\"1\" class=\"dataframe\">\n",
       "  <thead>\n",
       "    <tr style=\"text-align: right;\">\n",
       "      <th></th>\n",
       "      <th>Fare</th>\n",
       "      <th>Survived</th>\n",
       "    </tr>\n",
       "    <tr>\n",
       "      <th>Pclass</th>\n",
       "      <th></th>\n",
       "      <th></th>\n",
       "    </tr>\n",
       "  </thead>\n",
       "  <tbody>\n",
       "    <tr>\n",
       "      <th>1</th>\n",
       "      <td>84.154687</td>\n",
       "      <td>0.629630</td>\n",
       "    </tr>\n",
       "    <tr>\n",
       "      <th>2</th>\n",
       "      <td>20.662183</td>\n",
       "      <td>0.472826</td>\n",
       "    </tr>\n",
       "    <tr>\n",
       "      <th>3</th>\n",
       "      <td>13.675550</td>\n",
       "      <td>0.242363</td>\n",
       "    </tr>\n",
       "  </tbody>\n",
       "</table>\n",
       "</div>"
      ],
      "text/plain": [
       "             Fare  Survived\n",
       "Pclass                     \n",
       "1       84.154687  0.629630\n",
       "2       20.662183  0.472826\n",
       "3       13.675550  0.242363"
      ]
     },
     "execution_count": 15,
     "metadata": {
      "tags": []
     },
     "output_type": "execute_result"
    }
   ],
   "source": [
    "titanic_df.groupby(['Pclass']).apply(aggregation_apply_2)"
   ]
  },
  {
   "cell_type": "code",
   "execution_count": null,
   "metadata": {
    "id": "l-5DucJF9F1P"
   },
   "outputs": [],
   "source": [
    "def aggregation_apply_3(chunk_df):\n",
    "    \n",
    "    out_series = chunk_df[ ['Fare','Survived']].mean()\n",
    "    out_series['my_var'] = chunk_df['Pclass'].iloc[0]\n",
    "    \n",
    "    return out_series"
   ]
  },
  {
   "cell_type": "code",
   "execution_count": null,
   "metadata": {
    "id": "MPVISjMw9F1T",
    "outputId": "7de5ee85-1dba-4644-ed1b-569a3e9d725b"
   },
   "outputs": [
    {
     "data": {
      "text/html": [
       "<div>\n",
       "<style scoped>\n",
       "    .dataframe tbody tr th:only-of-type {\n",
       "        vertical-align: middle;\n",
       "    }\n",
       "\n",
       "    .dataframe tbody tr th {\n",
       "        vertical-align: top;\n",
       "    }\n",
       "\n",
       "    .dataframe thead th {\n",
       "        text-align: right;\n",
       "    }\n",
       "</style>\n",
       "<table border=\"1\" class=\"dataframe\">\n",
       "  <thead>\n",
       "    <tr style=\"text-align: right;\">\n",
       "      <th></th>\n",
       "      <th>Fare</th>\n",
       "      <th>Survived</th>\n",
       "      <th>my_var</th>\n",
       "    </tr>\n",
       "    <tr>\n",
       "      <th>Pclass</th>\n",
       "      <th></th>\n",
       "      <th></th>\n",
       "      <th></th>\n",
       "    </tr>\n",
       "  </thead>\n",
       "  <tbody>\n",
       "    <tr>\n",
       "      <th>1</th>\n",
       "      <td>84.154687</td>\n",
       "      <td>0.629630</td>\n",
       "      <td>1.0</td>\n",
       "    </tr>\n",
       "    <tr>\n",
       "      <th>2</th>\n",
       "      <td>20.662183</td>\n",
       "      <td>0.472826</td>\n",
       "      <td>2.0</td>\n",
       "    </tr>\n",
       "    <tr>\n",
       "      <th>3</th>\n",
       "      <td>13.675550</td>\n",
       "      <td>0.242363</td>\n",
       "      <td>3.0</td>\n",
       "    </tr>\n",
       "  </tbody>\n",
       "</table>\n",
       "</div>"
      ],
      "text/plain": [
       "             Fare  Survived  my_var\n",
       "Pclass                             \n",
       "1       84.154687  0.629630     1.0\n",
       "2       20.662183  0.472826     2.0\n",
       "3       13.675550  0.242363     3.0"
      ]
     },
     "execution_count": 21,
     "metadata": {
      "tags": []
     },
     "output_type": "execute_result"
    }
   ],
   "source": [
    "titanic_df.groupby(['Pclass']).apply(aggregation_apply_3)"
   ]
  },
  {
   "cell_type": "markdown",
   "metadata": {
    "id": "Om3Kv2nc9F1W"
   },
   "source": [
    "#### Exercise 2.2: Construct another aggregation apply function"
   ]
  },
  {
   "cell_type": "code",
   "execution_count": null,
   "metadata": {
    "id": "vaG28LOid80X"
   },
   "outputs": [],
   "source": [
    "def my_groupby(df, ind, col):\n",
    "  if df[col].loc[ind] > 19:\n",
    "    return \"Adults\"\n",
    "  elif df[col].loc[ind] > 12:\n",
    "    return \"Teenagers\"\n",
    "  else:\n",
    "    return \"Children\""
   ]
  },
  {
   "cell_type": "code",
   "execution_count": null,
   "metadata": {
    "colab": {
     "base_uri": "https://localhost:8080/",
     "height": 34
    },
    "executionInfo": {
     "elapsed": 660,
     "status": "ok",
     "timestamp": 1603383472006,
     "user": {
      "displayName": "Максим Обозный",
      "photoUrl": "",
      "userId": "10001040208738997252"
     },
     "user_tz": -180
    },
    "id": "E9ouC1eX8WuS",
    "outputId": "ad795896-490c-488b-84ad-dc42df607788"
   },
   "outputs": [
    {
     "data": {
      "text/plain": [
       "<pandas.core.groupby.generic.DataFrameGroupBy object at 0x7f8b30ef9940>"
      ]
     },
     "execution_count": 75,
     "metadata": {
      "tags": []
     },
     "output_type": "execute_result"
    }
   ],
   "source": [
    "new_aggr = titanic_df.groupby(lambda x : my_groupby(titanic_df, x, 'Age'))\n",
    "new_aggr"
   ]
  },
  {
   "cell_type": "code",
   "execution_count": null,
   "metadata": {
    "colab": {
     "base_uri": "https://localhost:8080/",
     "height": 153
    },
    "executionInfo": {
     "elapsed": 644,
     "status": "ok",
     "timestamp": 1603382151745,
     "user": {
      "displayName": "Максим Обозный",
      "photoUrl": "",
      "userId": "10001040208738997252"
     },
     "user_tz": -180
    },
    "id": "8QxPjkEx9F1e",
    "outputId": "bef71cea-2e2c-4587-ed58-8ae3bf8a6ba5"
   },
   "outputs": [
    {
     "data": {
      "text/plain": [
       "PassengerId    440.221053\n",
       "Survived         0.410526\n",
       "Pclass           2.452632\n",
       "Age             17.215789\n",
       "SibSp            0.568421\n",
       "Parch            0.400000\n",
       "Fare            31.982414\n",
       "Name: Teenagers, dtype: float64"
      ]
     },
     "execution_count": 17,
     "metadata": {
      "tags": []
     },
     "output_type": "execute_result"
    }
   ],
   "source": [
    "new_aggr.loc['Teenagers']"
   ]
  },
  {
   "cell_type": "code",
   "execution_count": null,
   "metadata": {
    "colab": {
     "base_uri": "https://localhost:8080/",
     "height": 34
    },
    "executionInfo": {
     "elapsed": 648,
     "status": "ok",
     "timestamp": 1603382138105,
     "user": {
      "displayName": "Максим Обозный",
      "photoUrl": "",
      "userId": "10001040208738997252"
     },
     "user_tz": -180
    },
    "id": "c_L8lQ-S9F1i",
    "outputId": "57ea9e21-7477-405e-d22c-9c73a5043844"
   },
   "outputs": [
    {
     "data": {
      "text/plain": [
       "0.3836363636363636"
      ]
     },
     "execution_count": 14,
     "metadata": {
      "tags": []
     },
     "output_type": "execute_result"
    }
   ],
   "source": [
    "new_aggr.loc['Adults', 'Survived']"
   ]
  },
  {
   "cell_type": "markdown",
   "metadata": {
    "id": "V5GwT38m9F1m"
   },
   "source": [
    "#### Exercise 1.3 Perform agregation on new set of parameters"
   ]
  },
  {
   "cell_type": "code",
   "execution_count": null,
   "metadata": {
    "id": "1mzavxMo9F1n"
   },
   "outputs": [],
   "source": [
    "def my_apply_func(chunk_df):\n",
    "  status = 'Rich'\n",
    "  \n",
    "  out_series = chunk_df[ ['Fare','Survived']].mean()\n",
    "  out_series['Status'] = chunk_df['Fare'] > 50\n",
    "  return  out_series"
   ]
  },
  {
   "cell_type": "code",
   "execution_count": null,
   "metadata": {
    "colab": {
     "base_uri": "https://localhost:8080/",
     "height": 142
    },
    "executionInfo": {
     "elapsed": 656,
     "status": "ok",
     "timestamp": 1603383895601,
     "user": {
      "displayName": "Максим Обозный",
      "photoUrl": "",
      "userId": "10001040208738997252"
     },
     "user_tz": -180
    },
    "id": "yFsvowCMCEsJ",
    "outputId": "7c72a155-6dd1-4ba0-da1c-a16f4ed0bfdc"
   },
   "outputs": [
    {
     "data": {
      "text/html": [
       "<div>\n",
       "<style scoped>\n",
       "    .dataframe tbody tr th:only-of-type {\n",
       "        vertical-align: middle;\n",
       "    }\n",
       "\n",
       "    .dataframe tbody tr th {\n",
       "        vertical-align: top;\n",
       "    }\n",
       "\n",
       "    .dataframe thead th {\n",
       "        text-align: right;\n",
       "    }\n",
       "</style>\n",
       "<table border=\"1\" class=\"dataframe\">\n",
       "  <thead>\n",
       "    <tr style=\"text-align: right;\">\n",
       "      <th></th>\n",
       "      <th>Fare</th>\n",
       "      <th>Survived</th>\n",
       "      <th>Status</th>\n",
       "    </tr>\n",
       "  </thead>\n",
       "  <tbody>\n",
       "    <tr>\n",
       "      <th>Adults</th>\n",
       "      <td>35.559173</td>\n",
       "      <td>0.383636</td>\n",
       "      <td>9      False\n",
       "14      True\n",
       "22     False\n",
       "27     ...</td>\n",
       "    </tr>\n",
       "    <tr>\n",
       "      <th>Children</th>\n",
       "      <td>24.788921</td>\n",
       "      <td>0.373984</td>\n",
       "      <td>9      False\n",
       "14     False\n",
       "22     False\n",
       "27     ...</td>\n",
       "    </tr>\n",
       "    <tr>\n",
       "      <th>Teenagers</th>\n",
       "      <td>31.982414</td>\n",
       "      <td>0.410526</td>\n",
       "      <td>9      False\n",
       "14     False\n",
       "22     False\n",
       "27     ...</td>\n",
       "    </tr>\n",
       "  </tbody>\n",
       "</table>\n",
       "</div>"
      ],
      "text/plain": [
       "                Fare  ...                                             Status\n",
       "Adults     35.559173  ...  9      False\n",
       "14      True\n",
       "22     False\n",
       "27     ...\n",
       "Children   24.788921  ...  9      False\n",
       "14     False\n",
       "22     False\n",
       "27     ...\n",
       "Teenagers  31.982414  ...  9      False\n",
       "14     False\n",
       "22     False\n",
       "27     ...\n",
       "\n",
       "[3 rows x 3 columns]"
      ]
     },
     "execution_count": 89,
     "metadata": {
      "tags": []
     },
     "output_type": "execute_result"
    }
   ],
   "source": [
    "kek = titanic_df.groupby(lambda x : my_groupby(titanic_df, x, 'Age')).apply(lambda x : my_apply_func(x))\n",
    "kek"
   ]
  },
  {
   "cell_type": "code",
   "execution_count": null,
   "metadata": {
    "colab": {
     "base_uri": "https://localhost:8080/",
     "height": 85
    },
    "executionInfo": {
     "elapsed": 705,
     "status": "ok",
     "timestamp": 1603382646841,
     "user": {
      "displayName": "Максим Обозный",
      "photoUrl": "",
      "userId": "10001040208738997252"
     },
     "user_tz": -180
    },
    "id": "qgJ_YBB_DYYw",
    "outputId": "48029f02-7bdf-4009-a8b1-97a313670f29"
   },
   "outputs": [
    {
     "data": {
      "text/plain": [
       "Adults       550\n",
       "Children     246\n",
       "Teenagers     95\n",
       "dtype: int64"
      ]
     },
     "execution_count": 41,
     "metadata": {
      "tags": []
     },
     "output_type": "execute_result"
    }
   ],
   "source": []
  }
 ],
 "metadata": {
  "colab": {
   "collapsed_sections": [],
   "name": "s.3.c.2.pandas_aggregation_apply.ipynb",
   "provenance": []
  },
  "kernelspec": {
   "display_name": "Python 3",
   "language": "python",
   "name": "python3"
  },
  "language_info": {
   "codemirror_mode": {
    "name": "ipython",
    "version": 3
   },
   "file_extension": ".py",
   "mimetype": "text/x-python",
   "name": "python",
   "nbconvert_exporter": "python",
   "pygments_lexer": "ipython3",
   "version": "3.8.5"
  }
 },
 "nbformat": 4,
 "nbformat_minor": 1
}
