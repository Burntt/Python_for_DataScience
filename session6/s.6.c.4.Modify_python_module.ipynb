{
 "cells": [
  {
   "cell_type": "code",
   "execution_count": 15,
   "metadata": {},
   "outputs": [
    {
     "name": "stdout",
     "output_type": "stream",
     "text": [
      "/home/ubuntu/Berend_Gort/session_6\r\n"
     ]
    }
   ],
   "source": [
    "!pwd"
   ]
  },
  {
   "cell_type": "code",
   "execution_count": 16,
   "metadata": {},
   "outputs": [
    {
     "name": "stdout",
     "output_type": "stream",
     "text": [
      "/home/ubuntu/Berend_Gort/session_6\n"
     ]
    }
   ],
   "source": [
    "%cd /home/ubuntu/Berend_Gort/session_6"
   ]
  },
  {
   "cell_type": "code",
   "execution_count": 17,
   "metadata": {},
   "outputs": [],
   "source": [
    "import pandas as pd"
   ]
  },
  {
   "cell_type": "code",
   "execution_count": 18,
   "metadata": {},
   "outputs": [],
   "source": [
    "pokemon_df = pd.read_csv('new_data_pokemon_classification.csv')"
   ]
  },
  {
   "cell_type": "markdown",
   "metadata": {},
   "source": [
    "#### Exercise 4.1: User reload function to  "
   ]
  },
  {
   "cell_type": "code",
   "execution_count": 22,
   "metadata": {},
   "outputs": [],
   "source": [
    "from importlib import reload"
   ]
  },
  {
   "cell_type": "code",
   "execution_count": 24,
   "metadata": {},
   "outputs": [],
   "source": [
    "from exp_1 import exp_1_1"
   ]
  },
  {
   "cell_type": "code",
   "execution_count": 26,
   "metadata": {},
   "outputs": [
    {
     "data": {
      "text/plain": [
       "<module 'exp_1.exp_1_1' from '/home/ubuntu/Berend_Gort/session_6/exp_1/exp_1_1.py'>"
      ]
     },
     "execution_count": 26,
     "metadata": {},
     "output_type": "execute_result"
    }
   ],
   "source": [
    "reload(exp_1_1)"
   ]
  },
  {
   "cell_type": "markdown",
   "metadata": {},
   "source": [
    "#### Exercise 4.2: Modify experiment 1_1"
   ]
  },
  {
   "cell_type": "code",
   "execution_count": 28,
   "metadata": {},
   "outputs": [
    {
     "name": "stdout",
     "output_type": "stream",
     "text": [
      "Overwriting exp_1/exp_1_2.py\n"
     ]
    }
   ],
   "source": [
    "%%writefile exp_1/exp_1_2.py\n",
    "\n",
    "from sklearn import preprocessing\n",
    "from sklearn import linear_model\n",
    "from exp_1.exp_1_1 import feature_transformation, train, predict, classifier, fit_classifier\n",
    "from exp_1 import exp_1_1\n",
    "\n",
    "def init_classifier():\n",
    "#     global classifier\n",
    "    exp_1_1.classifier = linear_model.LogisticRegression(\n",
    "        penalty = 'l1',\n",
    "        random_state = 2022\n",
    "    )\n",
    "    print('Exp_1_2 classifier initialized')"
   ]
  },
  {
   "cell_type": "code",
   "execution_count": 31,
   "metadata": {},
   "outputs": [
    {
     "name": "stdout",
     "output_type": "stream",
     "text": [
      "Exp_1_2 classifier initialized\n"
     ]
    },
    {
     "data": {
      "text/plain": [
       "array([0, 1, 0, 1, 1, 1, 1, 1, 1, 1, 0, 0, 0, 0, 0, 1, 0, 1, 1, 0, 1, 1,\n",
       "       1, 0, 1, 1, 0, 1, 0, 0, 1])"
      ]
     },
     "execution_count": 31,
     "metadata": {},
     "output_type": "execute_result"
    }
   ],
   "source": [
    "%store -r train\n",
    "%store -r test\n",
    "\n",
    "from exp_1 import exp_1_2\n",
    "\n",
    "exp_1_2.init_classifier()\n",
    "\n",
    "exp_1_2.train(train)\n",
    "\n",
    "exp_1_2.predict(test)"
   ]
  },
  {
   "cell_type": "markdown",
   "metadata": {},
   "source": [
    "#### Exercise 4.3: Create and modify classifier via class structure"
   ]
  },
  {
   "cell_type": "markdown",
   "metadata": {},
   "source": [
    "???????????????????????????????????"
   ]
  },
  {
   "cell_type": "code",
   "execution_count": 32,
   "metadata": {},
   "outputs": [
    {
     "name": "stdout",
     "output_type": "stream",
     "text": [
      "Writing exp_1/exp_1_1_class_version.py\n"
     ]
    }
   ],
   "source": [
    "%%writefile exp_1/exp_1_1_class_version.py\n",
    "\n",
    "from sklearn import preprocessing\n",
    "from sklearn import linear_model\n",
    "from sklearn.base import BaseEstimator, ClassifierMixin\n",
    "\n",
    "class Exp1_1Classifier(BaseEstimator, ClassifierMixin):\n",
    "    \n",
    "    classifier = None\n",
    "    fit_classifier = None\n",
    "    \n",
    "    \n",
    "    def __init__(self):\n",
    "        self.classifier = linear_model.LogisticRegression(\n",
    "            penalty = 'l2',\n",
    "            random_state = 2019\n",
    "        )\n",
    "    \n",
    "    def feature_transformation(self, train_df):\n",
    "\n",
    "        numeric_features_sudataset = train_df[ \n",
    "            ['HP', 'Attack','Defense', 'Sp_Atk', 'Sp_Def', 'Speed'] ]\n",
    "        numeric_features_sudataset\n",
    "\n",
    "        preprocessor_exp_1_1 = preprocessing.PolynomialFeatures(\n",
    "            degree = 4)\n",
    "\n",
    "        polynomial_features_pokemon = \\\n",
    "            preprocessor_exp_1_1.fit_transform(numeric_features_sudataset)\n",
    "\n",
    "        return polynomial_features_pokemon\n",
    "\n",
    "\n",
    "\n",
    "    def fit(self, train_df):\n",
    "\n",
    "        transformed_features = self.feature_transformation(train_df)\n",
    "        self.fit_classifier = self.classifier.fit(\n",
    "            transformed_features, train_df['HighStage'])\n",
    "\n",
    "    def predict(self, test_df):\n",
    "\n",
    "        transformed_features = self.feature_transformation(test_df)\n",
    "        return self.fit_classifier.predict(transformed_features)\n",
    "    \n",
    "    def predict_proba(self, test_df):\n",
    "        transformed_features = self.feature_transformation(test_df)\n",
    "        return self.fit_classifier.predict_proba(transformed_features)"
   ]
  },
  {
   "cell_type": "code",
   "execution_count": 33,
   "metadata": {},
   "outputs": [],
   "source": [
    "from exp_1 import exp_1_1_class_version"
   ]
  },
  {
   "cell_type": "code",
   "execution_count": 34,
   "metadata": {},
   "outputs": [
    {
     "data": {
      "text/plain": [
       "<module 'exp_1.exp_1_1_class_version' from '/home/ubuntu/Berend_Gort/session_6/exp_1/exp_1_1_class_version.py'>"
      ]
     },
     "execution_count": 34,
     "metadata": {},
     "output_type": "execute_result"
    }
   ],
   "source": [
    "reload(exp_1_1_class_version)"
   ]
  },
  {
   "cell_type": "code",
   "execution_count": 41,
   "metadata": {},
   "outputs": [
    {
     "name": "stdout",
     "output_type": "stream",
     "text": [
      "[0 1 1 1 1 0 1 0 0 0 0 1 0 0 0 0 0 1 1 0 1 0 1 1 1 1 0 1 0 0 1]\n",
      "(31,)\n",
      "[[6.34378032e-01 3.65621968e-01]\n",
      " [4.58092045e-03 9.95419080e-01]\n",
      " [0.00000000e+00 1.00000000e+00]\n",
      " [1.53749062e-08 9.99999985e-01]\n",
      " [6.04955373e-04 9.99395045e-01]\n",
      " [9.41217455e-01 5.87825455e-02]\n",
      " [0.00000000e+00 1.00000000e+00]\n",
      " [7.88175746e-01 2.11824254e-01]\n",
      " [5.30583519e-01 4.69416481e-01]\n",
      " [7.66075339e-01 2.33924661e-01]\n",
      " [5.68305349e-01 4.31694651e-01]\n",
      " [3.22525118e-04 9.99677475e-01]\n",
      " [9.99744715e-01 2.55285027e-04]\n",
      " [6.59237221e-01 3.40762779e-01]\n",
      " [9.31089463e-01 6.89105369e-02]\n",
      " [7.78633237e-01 2.21366763e-01]\n",
      " [7.68781401e-01 2.31218599e-01]\n",
      " [0.00000000e+00 1.00000000e+00]\n",
      " [2.23707719e-11 1.00000000e+00]\n",
      " [7.73006508e-01 2.26993492e-01]\n",
      " [3.05906930e-01 6.94093070e-01]\n",
      " [8.00914098e-01 1.99085902e-01]\n",
      " [0.00000000e+00 1.00000000e+00]\n",
      " [7.21734129e-05 9.99927827e-01]\n",
      " [1.27913623e-02 9.87208638e-01]\n",
      " [3.47617038e-03 9.96523830e-01]\n",
      " [9.99999538e-01 4.61700866e-07]\n",
      " [6.85769347e-02 9.31423065e-01]\n",
      " [6.38910579e-01 3.61089421e-01]\n",
      " [9.99274580e-01 7.25420064e-04]\n",
      " [2.43709209e-01 7.56290791e-01]]\n",
      "(31, 2)\n"
     ]
    }
   ],
   "source": [
    "exp_1_1_class_instance = exp_1_1_class_version.Exp1_1Classifier()\n",
    "\n",
    "exp_1_1_class_instance.fit(train)\n",
    "\n",
    "exp_1_1_test = exp_1_1_class_instance.predict(test)\n",
    "\n",
    "exp_1_1_test_proba = exp_1_1_class_instance.predict_proba(test)\n",
    "\n",
    "print(exp_1_1_test)\n",
    "print(exp_1_1_test.shape)\n",
    "print(exp_1_1_test_proba)\n",
    "print(exp_1_1_test_proba.shape)"
   ]
  },
  {
   "cell_type": "code",
   "execution_count": 43,
   "metadata": {},
   "outputs": [
    {
     "name": "stdout",
     "output_type": "stream",
     "text": [
      "Overwriting exp_1/exp_1_2_class_version.py\n"
     ]
    }
   ],
   "source": [
    "%%writefile exp_1/exp_1_2_class_version.py\n",
    "\n",
    "from exp_1.exp_1_1_class_version import Exp1_1Classifier\n",
    "\n",
    "from sklearn import linear_model\n",
    "\n",
    "class Exp1_2Classifier(Exp1_1Classifier):\n",
    "    \n",
    "    def __init__(self):\n",
    "        self.classifier = linear_model.LogisticRegression(\n",
    "            penalty = 'l1',\n",
    "            random_state = 2019\n",
    "        )\n",
    "        print('Exp_1_2 classifier initialized') "
   ]
  },
  {
   "cell_type": "code",
   "execution_count": 44,
   "metadata": {},
   "outputs": [],
   "source": [
    "from exp_1 import exp_1_2_class_version"
   ]
  },
  {
   "cell_type": "code",
   "execution_count": 45,
   "metadata": {},
   "outputs": [
    {
     "data": {
      "text/plain": [
       "<module 'exp_1.exp_1_2_class_version' from '/home/ubuntu/Berend_Gort/session_6/exp_1/exp_1_2_class_version.py'>"
      ]
     },
     "execution_count": 45,
     "metadata": {},
     "output_type": "execute_result"
    }
   ],
   "source": [
    "reload(exp_1_2_class_version)"
   ]
  },
  {
   "cell_type": "code",
   "execution_count": 46,
   "metadata": {},
   "outputs": [
    {
     "name": "stdout",
     "output_type": "stream",
     "text": [
      "Exp_1_2 classifier initialized\n"
     ]
    },
    {
     "data": {
      "text/plain": [
       "array([[9.99998435e-01, 1.56488353e-06],\n",
       "       [0.00000000e+00, 1.00000000e+00],\n",
       "       [1.00000000e+00, 3.89047981e-20],\n",
       "       [0.00000000e+00, 1.00000000e+00],\n",
       "       [3.94755644e-01, 6.05244356e-01],\n",
       "       [5.17882223e-07, 9.99999482e-01],\n",
       "       [0.00000000e+00, 1.00000000e+00],\n",
       "       [6.54319625e-06, 9.99993457e-01],\n",
       "       [6.08895491e-06, 9.99993911e-01],\n",
       "       [1.59223655e-07, 9.99999841e-01],\n",
       "       [9.98107894e-01, 1.89210578e-03],\n",
       "       [9.99992631e-01, 7.36870488e-06],\n",
       "       [9.99999981e-01, 1.90535400e-08],\n",
       "       [9.99993427e-01, 6.57324925e-06],\n",
       "       [9.98744633e-01, 1.25536668e-03],\n",
       "       [7.14193917e-02, 9.28580608e-01],\n",
       "       [9.99999660e-01, 3.40211674e-07],\n",
       "       [9.67563758e-08, 9.99999903e-01],\n",
       "       [2.22044605e-16, 1.00000000e+00],\n",
       "       [1.00000000e+00, 5.18261818e-11],\n",
       "       [2.49407162e-11, 1.00000000e+00],\n",
       "       [7.71296081e-06, 9.99992287e-01],\n",
       "       [0.00000000e+00, 1.00000000e+00],\n",
       "       [9.99987572e-01, 1.24282998e-05],\n",
       "       [1.84916168e-01, 8.15083832e-01],\n",
       "       [1.31006317e-14, 1.00000000e+00],\n",
       "       [1.00000000e+00, 1.03762570e-13],\n",
       "       [1.28045089e-03, 9.98719549e-01],\n",
       "       [9.11478083e-01, 8.85219172e-02],\n",
       "       [1.00000000e+00, 2.88404467e-14],\n",
       "       [4.69624339e-13, 1.00000000e+00]])"
      ]
     },
     "execution_count": 46,
     "metadata": {},
     "output_type": "execute_result"
    }
   ],
   "source": [
    "exp_1_2_class_instance = exp_1_2_class_version.Exp1_2Classifier()\n",
    "\n",
    "exp_1_2_class_instance.fit(train)\n",
    "\n",
    "exp_1_2_test = exp_1_2_class_instance.predict(test)\n",
    "\n",
    "exp_1_2_test_proba = exp_1_2_class_instance.predict_proba(test)\n",
    "\n",
    "exp_1_2_test_proba"
   ]
  }
 ],
 "metadata": {
  "kernelspec": {
   "display_name": "Python 3",
   "language": "python",
   "name": "python3"
  },
  "language_info": {
   "codemirror_mode": {
    "name": "ipython",
    "version": 3
   },
   "file_extension": ".py",
   "mimetype": "text/x-python",
   "name": "python",
   "nbconvert_exporter": "python",
   "pygments_lexer": "ipython3",
   "version": "3.6.6"
  }
 },
 "nbformat": 4,
 "nbformat_minor": 2
}
