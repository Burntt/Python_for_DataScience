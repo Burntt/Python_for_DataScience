{
 "cells": [
  {
   "cell_type": "code",
   "execution_count": 43,
   "metadata": {
    "scrolled": true
   },
   "outputs": [
    {
     "name": "stdout",
     "output_type": "stream",
     "text": [
      "/home/ubuntu/Berend_Gort\r\n"
     ]
    }
   ],
   "source": [
    "!pwd"
   ]
  },
  {
   "cell_type": "code",
   "execution_count": 42,
   "metadata": {
    "scrolled": true
   },
   "outputs": [
    {
     "name": "stdout",
     "output_type": "stream",
     "text": [
      "/home/ubuntu/Berend_Gort\n"
     ]
    }
   ],
   "source": [
    "%cd /home/ubuntu/Berend_Gort"
   ]
  },
  {
   "cell_type": "code",
   "execution_count": 6,
   "metadata": {},
   "outputs": [],
   "source": [
    "import pandas as pd"
   ]
  },
  {
   "cell_type": "markdown",
   "metadata": {},
   "source": [
    "#### Exercise 1.1: Read pokemon dataset and create new field"
   ]
  },
  {
   "cell_type": "code",
   "execution_count": 7,
   "metadata": {},
   "outputs": [],
   "source": [
    "pokemon_df = pd.read_csv(\"Pokemon_m.csv\")\n",
    "\n",
    "pokemon_df['HighStage'] = 1*(pokemon_df['Stage'] >= 2)"
   ]
  },
  {
   "cell_type": "markdown",
   "metadata": {},
   "source": [
    "#### Exercise 1.2: Save modified dataset as new_data_pokemon_classification.csv "
   ]
  },
  {
   "cell_type": "code",
   "execution_count": 9,
   "metadata": {},
   "outputs": [],
   "source": [
    "pokemon_df.to_csv('new_data_pokemon_classification.csv')"
   ]
  },
  {
   "cell_type": "markdown",
   "metadata": {},
   "source": [
    "#### Exercise 1.3: Store at new_data_pokemon_classification.exp.1.yaml parameters of train/test splitting:\n",
    "test_size = 0.2,\n",
    "random_state = 2019"
   ]
  },
  {
   "cell_type": "code",
   "execution_count": 1,
   "metadata": {},
   "outputs": [
    {
     "name": "stdout",
     "output_type": "stream",
     "text": [
      "Overwriting exp_1/new_data_pokemon_classification.exp.1.yaml\n"
     ]
    }
   ],
   "source": [
    "%%writefile exp_1/new_data_pokemon_classification.exp.1.yaml\n",
    "\n",
    "test_size: 0.2\n",
    "random_state : 2020"
   ]
  },
  {
   "cell_type": "markdown",
   "metadata": {},
   "source": [
    "#### Exercise 1.4: Read data from new_data_pokemon_classification.exp.1.yaml "
   ]
  },
  {
   "cell_type": "code",
   "execution_count": 48,
   "metadata": {},
   "outputs": [
    {
     "name": "stdout",
     "output_type": "stream",
     "text": [
      "{'test_size': 0.2, 'random_state': 2020}\n"
     ]
    }
   ],
   "source": [
    "import yaml\n",
    "with open('new_data_pokemon_classification.exp.1.yaml') as f:\n",
    "    yaml_sample_conf = yaml.load(f, Loader=yaml.Loader)\n",
    "print(yaml_sample_conf)"
   ]
  }
 ],
 "metadata": {
  "kernelspec": {
   "display_name": "Python 3",
   "language": "python",
   "name": "python3"
  },
  "language_info": {
   "codemirror_mode": {
    "name": "ipython",
    "version": 3
   },
   "file_extension": ".py",
   "mimetype": "text/x-python",
   "name": "python",
   "nbconvert_exporter": "python",
   "pygments_lexer": "ipython3",
   "version": "3.6.6"
  }
 },
 "nbformat": 4,
 "nbformat_minor": 2
}
