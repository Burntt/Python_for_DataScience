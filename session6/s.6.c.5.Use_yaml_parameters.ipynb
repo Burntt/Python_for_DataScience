{
 "cells": [
  {
   "cell_type": "code",
   "execution_count": 1,
   "metadata": {},
   "outputs": [
    {
     "name": "stdout",
     "output_type": "stream",
     "text": [
      "/home/ubuntu/Berend_Gort/session_6\n",
      "/home/ubuntu/Berend_Gort/session_6\n"
     ]
    }
   ],
   "source": [
    "!pwd\n",
    "% cd /home/ubuntu/Berend_Gort/session_6"
   ]
  },
  {
   "cell_type": "code",
   "execution_count": 2,
   "metadata": {},
   "outputs": [],
   "source": [
    "import pandas as pd"
   ]
  },
  {
   "cell_type": "code",
   "execution_count": 3,
   "metadata": {},
   "outputs": [],
   "source": [
    "pokemon_df = pd.read_csv('new_data_pokemon_classification.csv')"
   ]
  },
  {
   "cell_type": "markdown",
   "metadata": {},
   "source": [
    "#### Exercise 5.1: Create and read YAML file "
   ]
  },
  {
   "cell_type": "code",
   "execution_count": 4,
   "metadata": {
    "scrolled": true
   },
   "outputs": [
    {
     "name": "stdout",
     "output_type": "stream",
     "text": [
      "Overwriting exp_1/exp_1_3_configs.yaml\n"
     ]
    }
   ],
   "source": [
    "%%writefile exp_1/exp_1_3_configs.yaml\n",
    "\n",
    "description: >\n",
    "    Features and regularization paramteres are moved to yaml file. \n",
    "    \n",
    "    Everything else is similar to exp_1_1 and exp_1_2\n",
    "    \n",
    "regularization: l2\n",
    "\n",
    "features:\n",
    "\n",
    "  - HP\n",
    "  - Attack\n",
    "  - Defense\n",
    "  - Sp_Atk\n",
    "  - Sp_Def\n",
    "  - Speed\n",
    "    \n",
    "polynomial_degree: 4\n",
    "    \n",
    "test_size : 3\n",
    "\n",
    "random_state: 2022"
   ]
  },
  {
   "cell_type": "code",
   "execution_count": 5,
   "metadata": {},
   "outputs": [],
   "source": [
    "import yaml"
   ]
  },
  {
   "cell_type": "code",
   "execution_count": 6,
   "metadata": {},
   "outputs": [
    {
     "name": "stdout",
     "output_type": "stream",
     "text": [
      "{'description': 'Features and regularization paramteres are moved to yaml file. \\nEverything else is similar to exp_1_1 and exp_1_2\\n', 'regularization': 'l2', 'features': ['HP', 'Attack', 'Defense', 'Sp_Atk', 'Sp_Def', 'Speed'], 'polynomial_degree': 4, 'test_size': 3, 'random_state': 2022}\n"
     ]
    }
   ],
   "source": [
    "with open('exp_1/exp_1_3_configs.yaml') as f:\n",
    "    configs = yaml.load(f, Loader=yaml.Loader)\n",
    "\n",
    "print(configs)"
   ]
  },
  {
   "cell_type": "markdown",
   "metadata": {},
   "source": [
    "#### Exercise 5.2: Create modification for parametric experiment"
   ]
  },
  {
   "cell_type": "code",
   "execution_count": 7,
   "metadata": {},
   "outputs": [
    {
     "name": "stdout",
     "output_type": "stream",
     "text": [
      "Overwriting exp_1/exp_1_3_class_version.py\n"
     ]
    }
   ],
   "source": [
    "%%writefile exp_1/exp_1_3_class_version.py\n",
    "\n",
    "from exp_1.exp_1_1_Classifier import Exp1_1Classifier\n",
    "\n",
    "import yaml\n",
    "\n",
    "from sklearn import preprocessing\n",
    "from sklearn import linear_model\n",
    "\n",
    "class Exp1_3Classifier(Exp1_1Classifier):\n",
    "    \n",
    "    configs = None\n",
    "    \n",
    "    def __init__(self, yaml_config_file):\n",
    "        \n",
    "        with open(yaml_config_file) as f:\n",
    "            self.configs = yaml.load(f, Loader=yaml.Loader)\n",
    "    \n",
    "        \n",
    "        self.classifier = linear_model.LogisticRegression(\n",
    "            penalty = self.configs['regularization'],\n",
    "            random_state = 2019\n",
    "        )\n",
    "        print('Usign configuration file %s:'%yaml_config_file)\n",
    "        print(self.configs)\n",
    "        \n",
    "    \n",
    "    def feature_transformation(self, train_df):\n",
    "\n",
    "        numeric_features_sudataset = train_df[  self.configs['features'] ]\n",
    "        numeric_features_sudataset\n",
    "\n",
    "        preprocessor_exp_1_1 = preprocessing.PolynomialFeatures(\n",
    "            degree = self.configs['polynomial_degree'])\n",
    "\n",
    "        polynomial_features_pokemon = preprocessor_exp_1_1.fit_transform(numeric_features_sudataset)\n",
    "\n",
    "        return polynomial_features_pokemon\n",
    "\n",
    "    "
   ]
  },
  {
   "cell_type": "code",
   "execution_count": 8,
   "metadata": {},
   "outputs": [],
   "source": [
    "from exp_1 import exp_1_3_class_version\n",
    "from importlib import reload"
   ]
  },
  {
   "cell_type": "code",
   "execution_count": 9,
   "metadata": {},
   "outputs": [
    {
     "data": {
      "text/plain": [
       "<module 'exp_1.exp_1_3_class_version' from '/home/ubuntu/Berend_Gort/session_6/exp_1/exp_1_3_class_version.py'>"
      ]
     },
     "execution_count": 9,
     "metadata": {},
     "output_type": "execute_result"
    }
   ],
   "source": [
    "reload(exp_1_3_class_version)"
   ]
  },
  {
   "cell_type": "code",
   "execution_count": 10,
   "metadata": {},
   "outputs": [],
   "source": [
    "from sklearn import model_selection\n",
    "\n",
    "train, test = model_selection.train_test_split(pokemon_df, \n",
    "                                test_size = configs['test_size'],\n",
    "                                random_state = configs['random_state'])"
   ]
  },
  {
   "cell_type": "code",
   "execution_count": 11,
   "metadata": {},
   "outputs": [
    {
     "name": "stdout",
     "output_type": "stream",
     "text": [
      "Usign configuration file exp_1/exp_1_3_configs.yaml:\n",
      "{'description': 'Features and regularization paramteres are moved to yaml file. \\nEverything else is similar to exp_1_1 and exp_1_2\\n', 'regularization': 'l2', 'features': ['HP', 'Attack', 'Defense', 'Sp_Atk', 'Sp_Def', 'Speed'], 'polynomial_degree': 4, 'test_size': 3, 'random_state': 2022}\n"
     ]
    }
   ],
   "source": [
    "exp_1_3_class_instance = \\\n",
    "    exp_1_3_class_version.Exp1_3Classifier('exp_1/exp_1_3_configs.yaml')\n",
    "\n",
    "exp_1_3_class_instance.fit(train)\n",
    "\n",
    "exp_1_3_test = exp_1_3_class_instance.predict(test)\n",
    "\n",
    "exp_1_3_test_proba = exp_1_3_class_instance.predict_proba(test)"
   ]
  }
 ],
 "metadata": {
  "kernelspec": {
   "display_name": "Python 3",
   "language": "python",
   "name": "python3"
  },
  "language_info": {
   "codemirror_mode": {
    "name": "ipython",
    "version": 3
   },
   "file_extension": ".py",
   "mimetype": "text/x-python",
   "name": "python",
   "nbconvert_exporter": "python",
   "pygments_lexer": "ipython3",
   "version": "3.6.6"
  }
 },
 "nbformat": 4,
 "nbformat_minor": 2
}
