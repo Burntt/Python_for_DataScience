{
 "cells": [
  {
   "cell_type": "markdown",
   "metadata": {},
   "source": [
    "## Debugging"
   ]
  },
  {
   "cell_type": "markdown",
   "metadata": {},
   "source": [
    "#### Exercise 10.1 switch debug mode on"
   ]
  },
  {
   "cell_type": "code",
   "execution_count": null,
   "metadata": {},
   "outputs": [],
   "source": [
    "%pdb\n"
   ]
  },
  {
   "cell_type": "markdown",
   "metadata": {},
   "source": [
    "#### Exercise 10.2 debug the following code and write listing to the following cell"
   ]
  },
  {
   "cell_type": "code",
   "execution_count": null,
   "metadata": {},
   "outputs": [],
   "source": [
    "cumulative_array = []\n",
    "\n",
    "def process_i(i):\n",
    "    j = i*i\n",
    "    assert i<50\n",
    "    return j\n",
    "\n",
    "for i in range(100):\n",
    "    cumulative_array.append(process_i(i))\n",
    "    "
   ]
  },
  {
   "cell_type": "code",
   "execution_count": null,
   "metadata": {},
   "outputs": [],
   "source": [
    "---------------------------------------------------------------------------\n",
    "AssertionError                            Traceback (most recent call last)\n",
    "<ipython-input-13-fb0354317c7d> in <module>\n",
    "      7 \n",
    "      8 for i in range(100):\n",
    "----> 9     cumulative_array.append(process_i(i))\n",
    "     10 \n",
    "\n",
    "<ipython-input-13-fb0354317c7d> in process_i(i)\n",
    "      3 def process_i(i):\n",
    "      4     j = i*i\n",
    "----> 5     assert i<50\n",
    "      6     return j\n",
    "      7 \n",
    "\n",
    "AssertionError: \n",
    "\n",
    "> <ipython-input-13-fb0354317c7d>(5)process_i()\n",
    "      3 def process_i(i):\n",
    "      4     j = i*i\n",
    "----> 5     assert i<50\n",
    "      6     return j\n",
    "      7 \n",
    "\n",
    "ipdb> H\n",
    "*** NameError: name 'H' is not defined\n",
    "ipdb> h\n",
    "\n",
    "Documented commands (type help <topic>):\n",
    "========================================\n",
    "EOF    cl         disable  interact  next    psource  rv         unt   \n",
    "a      clear      display  j         p       q        s          until \n",
    "alias  commands   down     jump      pdef    quit     source     up    \n",
    "args   condition  enable   l         pdoc    r        step       w     \n",
    "b      cont       exit     list      pfile   restart  tbreak     whatis\n",
    "break  continue   h        ll        pinfo   return   u          where \n",
    "bt     d          help     longlist  pinfo2  retval   unalias  \n",
    "c      debug      ignore   n         pp      run      undisplay\n",
    "\n",
    "Miscellaneous help topics:\n",
    "==========================\n",
    "exec  pdb\n",
    "\n",
    "ipdb> d\n",
    "*** Newest frame\n",
    "ipdb> u\n",
    "> <ipython-input-13-fb0354317c7d>(9)<module>()\n",
    "      6     return j\n",
    "      7 \n",
    "      8 for i in range(100):\n",
    "----> 9     cumulative_array.append(process_i(i))\n",
    "     10 \n",
    "\n",
    "ipdb> u\n",
    "*** Oldest frame\n",
    "ipdb> d\n",
    "> <ipython-input-13-fb0354317c7d>(5)process_i()\n",
    "      3 def process_i(i):\n",
    "      4     j = i*i\n",
    "----> 5     assert i<50\n",
    "      6     return j\n",
    "      7 "
   ]
  }
 ],
 "metadata": {
  "kernelspec": {
   "display_name": "Python 3",
   "language": "python",
   "name": "python3"
  },
  "language_info": {
   "codemirror_mode": {
    "name": "ipython",
    "version": 3
   },
   "file_extension": ".py",
   "mimetype": "text/x-python",
   "name": "python",
   "nbconvert_exporter": "python",
   "pygments_lexer": "ipython3",
   "version": "3.6.6"
  }
 },
 "nbformat": 4,
 "nbformat_minor": 2
}
