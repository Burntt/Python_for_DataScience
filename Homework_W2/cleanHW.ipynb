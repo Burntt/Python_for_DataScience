{
 "cells": [
  {
   "cell_type": "code",
   "execution_count": 1,
   "metadata": {},
   "outputs": [],
   "source": [
    "# imports\n",
    "\n",
    "# pandas\n",
    "import pandas as pd\n",
    "import numpy as np\n",
    "from pandas import Series,DataFrame\n",
    "from sklearn import *"
   ]
  },
  {
   "cell_type": "markdown",
   "metadata": {},
   "source": [
    "#### Exercise 1: Download the dataset"
   ]
  },
  {
   "cell_type": "markdown",
   "metadata": {},
   "source": [
    "https://www.kaggle.com/kavita5/twitter-dataset-avengersendgame/download"
   ]
  },
  {
   "cell_type": "markdown",
   "metadata": {},
   "source": [
    "#### Exercise 2: \n",
    "Create Target column from retweetCount > np.median[retweetCount] \n",
    "Create dataset in .csv file with new features along with .yaml file with it's descritpion, median[retweetCount] value stored in retweetCount_median variable, preferably store data in data folder"
   ]
  },
  {
   "cell_type": "code",
   "execution_count": 2,
   "metadata": {
    "scrolled": false
   },
   "outputs": [
    {
     "data": {
      "text/html": [
       "<div>\n",
       "<style scoped>\n",
       "    .dataframe tbody tr th:only-of-type {\n",
       "        vertical-align: middle;\n",
       "    }\n",
       "\n",
       "    .dataframe tbody tr th {\n",
       "        vertical-align: top;\n",
       "    }\n",
       "\n",
       "    .dataframe thead th {\n",
       "        text-align: right;\n",
       "    }\n",
       "</style>\n",
       "<table border=\"1\" class=\"dataframe\">\n",
       "  <thead>\n",
       "    <tr style=\"text-align: right;\">\n",
       "      <th></th>\n",
       "      <th>Unnamed: 0</th>\n",
       "      <th>text</th>\n",
       "      <th>favorited</th>\n",
       "      <th>favoriteCount</th>\n",
       "      <th>replyToSN</th>\n",
       "      <th>created</th>\n",
       "      <th>truncated</th>\n",
       "      <th>replyToSID</th>\n",
       "      <th>id</th>\n",
       "      <th>replyToUID</th>\n",
       "      <th>statusSource</th>\n",
       "      <th>screenName</th>\n",
       "      <th>retweetCount</th>\n",
       "      <th>isRetweet</th>\n",
       "      <th>retweeted</th>\n",
       "      <th>longitude</th>\n",
       "      <th>latitude</th>\n",
       "    </tr>\n",
       "  </thead>\n",
       "  <tbody>\n",
       "    <tr>\n",
       "      <th>0</th>\n",
       "      <td>1</td>\n",
       "      <td>RT @mrvelstan: literally nobody:\\r\\nme:\\r\\n\\r\\...</td>\n",
       "      <td>False</td>\n",
       "      <td>0</td>\n",
       "      <td>NaN</td>\n",
       "      <td>2019-04-23 10:43:30</td>\n",
       "      <td>False</td>\n",
       "      <td>NaN</td>\n",
       "      <td>1120639328034676737</td>\n",
       "      <td>NaN</td>\n",
       "      <td>&lt;a href=\"http://twitter.com/download/android\" ...</td>\n",
       "      <td>DavidAc96</td>\n",
       "      <td>637</td>\n",
       "      <td>True</td>\n",
       "      <td>False</td>\n",
       "      <td>NaN</td>\n",
       "      <td>NaN</td>\n",
       "    </tr>\n",
       "    <tr>\n",
       "      <th>1</th>\n",
       "      <td>2</td>\n",
       "      <td>RT @agntecarter: i’m emotional, sorry!!\\r\\n\\r\\...</td>\n",
       "      <td>False</td>\n",
       "      <td>0</td>\n",
       "      <td>NaN</td>\n",
       "      <td>2019-04-23 10:43:30</td>\n",
       "      <td>False</td>\n",
       "      <td>NaN</td>\n",
       "      <td>1120639325199196160</td>\n",
       "      <td>NaN</td>\n",
       "      <td>&lt;a href=\"http://twitter.com/download/iphone\" r...</td>\n",
       "      <td>NRmalaa</td>\n",
       "      <td>302</td>\n",
       "      <td>True</td>\n",
       "      <td>False</td>\n",
       "      <td>NaN</td>\n",
       "      <td>NaN</td>\n",
       "    </tr>\n",
       "    <tr>\n",
       "      <th>2</th>\n",
       "      <td>3</td>\n",
       "      <td>saving these bingo cards for tomorrow \\r\\n©\\r\\...</td>\n",
       "      <td>False</td>\n",
       "      <td>0</td>\n",
       "      <td>NaN</td>\n",
       "      <td>2019-04-23 10:43:30</td>\n",
       "      <td>False</td>\n",
       "      <td>NaN</td>\n",
       "      <td>1120639324683292674</td>\n",
       "      <td>NaN</td>\n",
       "      <td>&lt;a href=\"http://twitter.com/download/iphone\" r...</td>\n",
       "      <td>jijitsuu</td>\n",
       "      <td>0</td>\n",
       "      <td>False</td>\n",
       "      <td>False</td>\n",
       "      <td>NaN</td>\n",
       "      <td>NaN</td>\n",
       "    </tr>\n",
       "  </tbody>\n",
       "</table>\n",
       "</div>"
      ],
      "text/plain": [
       "   Unnamed: 0                                               text  favorited  \\\n",
       "0           1  RT @mrvelstan: literally nobody:\\r\\nme:\\r\\n\\r\\...      False   \n",
       "1           2  RT @agntecarter: i’m emotional, sorry!!\\r\\n\\r\\...      False   \n",
       "2           3  saving these bingo cards for tomorrow \\r\\n©\\r\\...      False   \n",
       "\n",
       "   favoriteCount replyToSN              created  truncated  replyToSID  \\\n",
       "0              0       NaN  2019-04-23 10:43:30      False         NaN   \n",
       "1              0       NaN  2019-04-23 10:43:30      False         NaN   \n",
       "2              0       NaN  2019-04-23 10:43:30      False         NaN   \n",
       "\n",
       "                    id  replyToUID  \\\n",
       "0  1120639328034676737         NaN   \n",
       "1  1120639325199196160         NaN   \n",
       "2  1120639324683292674         NaN   \n",
       "\n",
       "                                        statusSource screenName  retweetCount  \\\n",
       "0  <a href=\"http://twitter.com/download/android\" ...  DavidAc96           637   \n",
       "1  <a href=\"http://twitter.com/download/iphone\" r...    NRmalaa           302   \n",
       "2  <a href=\"http://twitter.com/download/iphone\" r...   jijitsuu             0   \n",
       "\n",
       "   isRetweet  retweeted  longitude  latitude  \n",
       "0       True      False        NaN       NaN  \n",
       "1       True      False        NaN       NaN  \n",
       "2      False      False        NaN       NaN  "
      ]
     },
     "execution_count": 2,
     "metadata": {},
     "output_type": "execute_result"
    }
   ],
   "source": [
    "tweets_df = pd.read_csv('tweets.csv', encoding='cp1252')\n",
    "tweets_df.head(3)"
   ]
  },
  {
   "cell_type": "code",
   "execution_count": 3,
   "metadata": {
    "scrolled": false
   },
   "outputs": [
    {
     "data": {
      "text/plain": [
       "0        False\n",
       "1        False\n",
       "2        False\n",
       "3         True\n",
       "4         True\n",
       "         ...  \n",
       "14995    False\n",
       "14996     True\n",
       "14997    False\n",
       "14998     True\n",
       "14999     True\n",
       "Name: retweetCount, Length: 15000, dtype: bool"
      ]
     },
     "execution_count": 3,
     "metadata": {},
     "output_type": "execute_result"
    }
   ],
   "source": [
    "tweets_df['retweetCount'] > np.median(tweets_df['retweetCount'])"
   ]
  },
  {
   "cell_type": "code",
   "execution_count": 4,
   "metadata": {
    "scrolled": false
   },
   "outputs": [
    {
     "data": {
      "text/html": [
       "<div>\n",
       "<style scoped>\n",
       "    .dataframe tbody tr th:only-of-type {\n",
       "        vertical-align: middle;\n",
       "    }\n",
       "\n",
       "    .dataframe tbody tr th {\n",
       "        vertical-align: top;\n",
       "    }\n",
       "\n",
       "    .dataframe thead th {\n",
       "        text-align: right;\n",
       "    }\n",
       "</style>\n",
       "<table border=\"1\" class=\"dataframe\">\n",
       "  <thead>\n",
       "    <tr style=\"text-align: right;\">\n",
       "      <th></th>\n",
       "      <th>Unnamed: 0</th>\n",
       "      <th>text</th>\n",
       "      <th>favorited</th>\n",
       "      <th>favoriteCount</th>\n",
       "      <th>replyToSN</th>\n",
       "      <th>created</th>\n",
       "      <th>truncated</th>\n",
       "      <th>replyToSID</th>\n",
       "      <th>id</th>\n",
       "      <th>replyToUID</th>\n",
       "      <th>statusSource</th>\n",
       "      <th>screenName</th>\n",
       "      <th>retweetCount</th>\n",
       "      <th>isRetweet</th>\n",
       "      <th>retweeted</th>\n",
       "      <th>longitude</th>\n",
       "      <th>latitude</th>\n",
       "      <th>High_Retweet_Count</th>\n",
       "    </tr>\n",
       "  </thead>\n",
       "  <tbody>\n",
       "    <tr>\n",
       "      <th>0</th>\n",
       "      <td>1</td>\n",
       "      <td>RT @mrvelstan: literally nobody:\\r\\nme:\\r\\n\\r\\...</td>\n",
       "      <td>False</td>\n",
       "      <td>0</td>\n",
       "      <td>NaN</td>\n",
       "      <td>2019-04-23 10:43:30</td>\n",
       "      <td>False</td>\n",
       "      <td>NaN</td>\n",
       "      <td>1120639328034676737</td>\n",
       "      <td>NaN</td>\n",
       "      <td>&lt;a href=\"http://twitter.com/download/android\" ...</td>\n",
       "      <td>DavidAc96</td>\n",
       "      <td>637</td>\n",
       "      <td>True</td>\n",
       "      <td>False</td>\n",
       "      <td>NaN</td>\n",
       "      <td>NaN</td>\n",
       "      <td>0</td>\n",
       "    </tr>\n",
       "    <tr>\n",
       "      <th>1</th>\n",
       "      <td>2</td>\n",
       "      <td>RT @agntecarter: i’m emotional, sorry!!\\r\\n\\r\\...</td>\n",
       "      <td>False</td>\n",
       "      <td>0</td>\n",
       "      <td>NaN</td>\n",
       "      <td>2019-04-23 10:43:30</td>\n",
       "      <td>False</td>\n",
       "      <td>NaN</td>\n",
       "      <td>1120639325199196160</td>\n",
       "      <td>NaN</td>\n",
       "      <td>&lt;a href=\"http://twitter.com/download/iphone\" r...</td>\n",
       "      <td>NRmalaa</td>\n",
       "      <td>302</td>\n",
       "      <td>True</td>\n",
       "      <td>False</td>\n",
       "      <td>NaN</td>\n",
       "      <td>NaN</td>\n",
       "      <td>0</td>\n",
       "    </tr>\n",
       "    <tr>\n",
       "      <th>2</th>\n",
       "      <td>3</td>\n",
       "      <td>saving these bingo cards for tomorrow \\r\\n©\\r\\...</td>\n",
       "      <td>False</td>\n",
       "      <td>0</td>\n",
       "      <td>NaN</td>\n",
       "      <td>2019-04-23 10:43:30</td>\n",
       "      <td>False</td>\n",
       "      <td>NaN</td>\n",
       "      <td>1120639324683292674</td>\n",
       "      <td>NaN</td>\n",
       "      <td>&lt;a href=\"http://twitter.com/download/iphone\" r...</td>\n",
       "      <td>jijitsuu</td>\n",
       "      <td>0</td>\n",
       "      <td>False</td>\n",
       "      <td>False</td>\n",
       "      <td>NaN</td>\n",
       "      <td>NaN</td>\n",
       "      <td>0</td>\n",
       "    </tr>\n",
       "  </tbody>\n",
       "</table>\n",
       "</div>"
      ],
      "text/plain": [
       "   Unnamed: 0                                               text  favorited  \\\n",
       "0           1  RT @mrvelstan: literally nobody:\\r\\nme:\\r\\n\\r\\...      False   \n",
       "1           2  RT @agntecarter: i’m emotional, sorry!!\\r\\n\\r\\...      False   \n",
       "2           3  saving these bingo cards for tomorrow \\r\\n©\\r\\...      False   \n",
       "\n",
       "   favoriteCount replyToSN              created  truncated  replyToSID  \\\n",
       "0              0       NaN  2019-04-23 10:43:30      False         NaN   \n",
       "1              0       NaN  2019-04-23 10:43:30      False         NaN   \n",
       "2              0       NaN  2019-04-23 10:43:30      False         NaN   \n",
       "\n",
       "                    id  replyToUID  \\\n",
       "0  1120639328034676737         NaN   \n",
       "1  1120639325199196160         NaN   \n",
       "2  1120639324683292674         NaN   \n",
       "\n",
       "                                        statusSource screenName  retweetCount  \\\n",
       "0  <a href=\"http://twitter.com/download/android\" ...  DavidAc96           637   \n",
       "1  <a href=\"http://twitter.com/download/iphone\" r...    NRmalaa           302   \n",
       "2  <a href=\"http://twitter.com/download/iphone\" r...   jijitsuu             0   \n",
       "\n",
       "   isRetweet  retweeted  longitude  latitude  High_Retweet_Count  \n",
       "0       True      False        NaN       NaN                   0  \n",
       "1       True      False        NaN       NaN                   0  \n",
       "2      False      False        NaN       NaN                   0  "
      ]
     },
     "execution_count": 4,
     "metadata": {},
     "output_type": "execute_result"
    }
   ],
   "source": [
    "tweets_df['High_Retweet_Count'] = 0\n",
    "tweets_df.head(3)"
   ]
  },
  {
   "cell_type": "code",
   "execution_count": 5,
   "metadata": {
    "scrolled": true
   },
   "outputs": [
    {
     "data": {
      "text/html": [
       "<div>\n",
       "<style scoped>\n",
       "    .dataframe tbody tr th:only-of-type {\n",
       "        vertical-align: middle;\n",
       "    }\n",
       "\n",
       "    .dataframe tbody tr th {\n",
       "        vertical-align: top;\n",
       "    }\n",
       "\n",
       "    .dataframe thead th {\n",
       "        text-align: right;\n",
       "    }\n",
       "</style>\n",
       "<table border=\"1\" class=\"dataframe\">\n",
       "  <thead>\n",
       "    <tr style=\"text-align: right;\">\n",
       "      <th></th>\n",
       "      <th>Unnamed: 0</th>\n",
       "      <th>text</th>\n",
       "      <th>favorited</th>\n",
       "      <th>favoriteCount</th>\n",
       "      <th>replyToSN</th>\n",
       "      <th>created</th>\n",
       "      <th>truncated</th>\n",
       "      <th>replyToSID</th>\n",
       "      <th>id</th>\n",
       "      <th>replyToUID</th>\n",
       "      <th>statusSource</th>\n",
       "      <th>screenName</th>\n",
       "      <th>retweetCount</th>\n",
       "      <th>isRetweet</th>\n",
       "      <th>retweeted</th>\n",
       "      <th>longitude</th>\n",
       "      <th>latitude</th>\n",
       "      <th>High_Retweet_Count</th>\n",
       "    </tr>\n",
       "  </thead>\n",
       "  <tbody>\n",
       "    <tr>\n",
       "      <th>0</th>\n",
       "      <td>1</td>\n",
       "      <td>RT @mrvelstan: literally nobody:\\r\\nme:\\r\\n\\r\\...</td>\n",
       "      <td>False</td>\n",
       "      <td>0</td>\n",
       "      <td>NaN</td>\n",
       "      <td>2019-04-23 10:43:30</td>\n",
       "      <td>False</td>\n",
       "      <td>NaN</td>\n",
       "      <td>1120639328034676737</td>\n",
       "      <td>NaN</td>\n",
       "      <td>&lt;a href=\"http://twitter.com/download/android\" ...</td>\n",
       "      <td>DavidAc96</td>\n",
       "      <td>637</td>\n",
       "      <td>True</td>\n",
       "      <td>False</td>\n",
       "      <td>NaN</td>\n",
       "      <td>NaN</td>\n",
       "      <td>False</td>\n",
       "    </tr>\n",
       "    <tr>\n",
       "      <th>1</th>\n",
       "      <td>2</td>\n",
       "      <td>RT @agntecarter: i’m emotional, sorry!!\\r\\n\\r\\...</td>\n",
       "      <td>False</td>\n",
       "      <td>0</td>\n",
       "      <td>NaN</td>\n",
       "      <td>2019-04-23 10:43:30</td>\n",
       "      <td>False</td>\n",
       "      <td>NaN</td>\n",
       "      <td>1120639325199196160</td>\n",
       "      <td>NaN</td>\n",
       "      <td>&lt;a href=\"http://twitter.com/download/iphone\" r...</td>\n",
       "      <td>NRmalaa</td>\n",
       "      <td>302</td>\n",
       "      <td>True</td>\n",
       "      <td>False</td>\n",
       "      <td>NaN</td>\n",
       "      <td>NaN</td>\n",
       "      <td>False</td>\n",
       "    </tr>\n",
       "    <tr>\n",
       "      <th>2</th>\n",
       "      <td>3</td>\n",
       "      <td>saving these bingo cards for tomorrow \\r\\n©\\r\\...</td>\n",
       "      <td>False</td>\n",
       "      <td>0</td>\n",
       "      <td>NaN</td>\n",
       "      <td>2019-04-23 10:43:30</td>\n",
       "      <td>False</td>\n",
       "      <td>NaN</td>\n",
       "      <td>1120639324683292674</td>\n",
       "      <td>NaN</td>\n",
       "      <td>&lt;a href=\"http://twitter.com/download/iphone\" r...</td>\n",
       "      <td>jijitsuu</td>\n",
       "      <td>0</td>\n",
       "      <td>False</td>\n",
       "      <td>False</td>\n",
       "      <td>NaN</td>\n",
       "      <td>NaN</td>\n",
       "      <td>False</td>\n",
       "    </tr>\n",
       "    <tr>\n",
       "      <th>3</th>\n",
       "      <td>4</td>\n",
       "      <td>RT @HelloBoon: Man these #AvengersEndgame ads ...</td>\n",
       "      <td>False</td>\n",
       "      <td>0</td>\n",
       "      <td>NaN</td>\n",
       "      <td>2019-04-23 10:43:29</td>\n",
       "      <td>False</td>\n",
       "      <td>NaN</td>\n",
       "      <td>1120639323328540672</td>\n",
       "      <td>NaN</td>\n",
       "      <td>&lt;a href=\"http://twitter.com/download/iphone\" r...</td>\n",
       "      <td>SahapunB</td>\n",
       "      <td>23781</td>\n",
       "      <td>True</td>\n",
       "      <td>False</td>\n",
       "      <td>NaN</td>\n",
       "      <td>NaN</td>\n",
       "      <td>True</td>\n",
       "    </tr>\n",
       "    <tr>\n",
       "      <th>4</th>\n",
       "      <td>5</td>\n",
       "      <td>RT @Marvel: We salute you, @ChrisEvans! #Capta...</td>\n",
       "      <td>False</td>\n",
       "      <td>0</td>\n",
       "      <td>NaN</td>\n",
       "      <td>2019-04-23 10:43:29</td>\n",
       "      <td>False</td>\n",
       "      <td>NaN</td>\n",
       "      <td>1120639321571074048</td>\n",
       "      <td>NaN</td>\n",
       "      <td>&lt;a href=\"http://twitter.com/download/iphone\" r...</td>\n",
       "      <td>stella22_97</td>\n",
       "      <td>13067</td>\n",
       "      <td>True</td>\n",
       "      <td>False</td>\n",
       "      <td>NaN</td>\n",
       "      <td>NaN</td>\n",
       "      <td>True</td>\n",
       "    </tr>\n",
       "  </tbody>\n",
       "</table>\n",
       "</div>"
      ],
      "text/plain": [
       "   Unnamed: 0                                               text  favorited  \\\n",
       "0           1  RT @mrvelstan: literally nobody:\\r\\nme:\\r\\n\\r\\...      False   \n",
       "1           2  RT @agntecarter: i’m emotional, sorry!!\\r\\n\\r\\...      False   \n",
       "2           3  saving these bingo cards for tomorrow \\r\\n©\\r\\...      False   \n",
       "3           4  RT @HelloBoon: Man these #AvengersEndgame ads ...      False   \n",
       "4           5  RT @Marvel: We salute you, @ChrisEvans! #Capta...      False   \n",
       "\n",
       "   favoriteCount replyToSN              created  truncated  replyToSID  \\\n",
       "0              0       NaN  2019-04-23 10:43:30      False         NaN   \n",
       "1              0       NaN  2019-04-23 10:43:30      False         NaN   \n",
       "2              0       NaN  2019-04-23 10:43:30      False         NaN   \n",
       "3              0       NaN  2019-04-23 10:43:29      False         NaN   \n",
       "4              0       NaN  2019-04-23 10:43:29      False         NaN   \n",
       "\n",
       "                    id  replyToUID  \\\n",
       "0  1120639328034676737         NaN   \n",
       "1  1120639325199196160         NaN   \n",
       "2  1120639324683292674         NaN   \n",
       "3  1120639323328540672         NaN   \n",
       "4  1120639321571074048         NaN   \n",
       "\n",
       "                                        statusSource   screenName  \\\n",
       "0  <a href=\"http://twitter.com/download/android\" ...    DavidAc96   \n",
       "1  <a href=\"http://twitter.com/download/iphone\" r...      NRmalaa   \n",
       "2  <a href=\"http://twitter.com/download/iphone\" r...     jijitsuu   \n",
       "3  <a href=\"http://twitter.com/download/iphone\" r...     SahapunB   \n",
       "4  <a href=\"http://twitter.com/download/iphone\" r...  stella22_97   \n",
       "\n",
       "   retweetCount  isRetweet  retweeted  longitude  latitude  High_Retweet_Count  \n",
       "0           637       True      False        NaN       NaN               False  \n",
       "1           302       True      False        NaN       NaN               False  \n",
       "2             0      False      False        NaN       NaN               False  \n",
       "3         23781       True      False        NaN       NaN                True  \n",
       "4         13067       True      False        NaN       NaN                True  "
      ]
     },
     "execution_count": 5,
     "metadata": {},
     "output_type": "execute_result"
    }
   ],
   "source": [
    "tweets_df['High_Retweet_Count'] = tweets_df['retweetCount'] > np.median(tweets_df['retweetCount'])\n",
    "tweets_df.head()"
   ]
  },
  {
   "cell_type": "code",
   "execution_count": 6,
   "metadata": {},
   "outputs": [
    {
     "name": "stdout",
     "output_type": "stream",
     "text": [
      "mkdir: data: File exists\r\n"
     ]
    }
   ],
   "source": [
    "!mkdir data"
   ]
  },
  {
   "cell_type": "code",
   "execution_count": 7,
   "metadata": {},
   "outputs": [],
   "source": [
    "tweets_df.to_csv('./data/new_tweets.csv')"
   ]
  },
  {
   "cell_type": "code",
   "execution_count": 8,
   "metadata": {},
   "outputs": [
    {
     "name": "stdout",
     "output_type": "stream",
     "text": [
      "Overwriting ./data/tweets.yaml\n"
     ]
    }
   ],
   "source": [
    "%%writefile './data/tweets.yaml'\n",
    "\n",
    "description: median[retweetCount] value stored in retweetCount_median variable\n",
    "    \n",
    "median_retweet_count: 1755"
   ]
  },
  {
   "cell_type": "markdown",
   "metadata": {},
   "source": [
    "#### Exercise 3: Collaborate at github account\n",
    "\n",
    "https://github.com/maxmmsu/harbour.space.DS.402\n",
    "\n",
    "Create an .md file in it with the table of participants (one for a group), select a short acronim for your name (e.g. Maxim Musin --> mm) and write down the acronim to the table."
   ]
  },
  {
   "cell_type": "markdown",
   "metadata": {},
   "source": [
    "#### Exercise 4: Сreate a folder with your first exeperimet, name it exp_[your name acronim]_1, make it a python package, organize all transformers and classifiers wih python modules and .yaml files. "
   ]
  },
  {
   "cell_type": "markdown",
   "metadata": {},
   "source": [
    "#### Exercise 5: Select one of the following feature creation technics, write it down to collaboration table\n",
    "\n",
    "##### Step 1 create 3 of the following features\n",
    "- Extract lenght of the sentence\n",
    "- Extract number of words\n",
    "- Extract number of characters\n",
    "- Extract number of hastags\n",
    "\n",
    "- Create a dummy variable for RT at the beginning of the twit\n",
    "- Creatu dummy variable from first letter of twit being A, B, C or D\n",
    "\n",
    "##### Step 2 preform polynomial feature generation with parameter k = 2..6 \n",
    "\n",
    "##### Step 3 perform dimensionality reduction to limit number of vatiables\n",
    "- perform PCA dimensionality reduction\n",
    "- *prefromr PCA dimensionality reduction according to covered variance\n",
    "- select features with maximum mutual information with target variable\n",
    "- *select features according to sum of adjusted mutual info score"
   ]
  },
  {
   "cell_type": "markdown",
   "metadata": {},
   "source": [
    "### Step 1: \n",
    "#### Extract number of words"
   ]
  },
  {
   "cell_type": "code",
   "execution_count": 13,
   "metadata": {},
   "outputs": [
    {
     "name": "stderr",
     "output_type": "stream",
     "text": [
      "[nltk_data] Downloading package punkt to\n",
      "[nltk_data]     /Users/macbookpro/nltk_data...\n",
      "[nltk_data]   Package punkt is already up-to-date!\n"
     ]
    }
   ],
   "source": [
    "import nltk\n",
    "nltk.download('punkt')\n",
    "from nltk.tokenize import word_tokenize\n",
    "import re"
   ]
  },
  {
   "cell_type": "code",
   "execution_count": 14,
   "metadata": {},
   "outputs": [],
   "source": [
    "def number_of_words(sentence):\n",
    "    sentence_array = word_tokenize(sentence)\n",
    "    words = [word for word in sentence_array if word.isalpha()]\n",
    "    return len(words)\n",
    "\n",
    "tweets_df['number_of_words'] = tweets_df['text'].apply(number_of_words)"
   ]
  },
  {
   "cell_type": "markdown",
   "metadata": {},
   "source": [
    "#### Extract number of characters"
   ]
  },
  {
   "cell_type": "code",
   "execution_count": 15,
   "metadata": {},
   "outputs": [],
   "source": [
    "def number_of_chars(sentence):\n",
    "    return len(sentence)\n",
    "\n",
    "tweets_df['number_of_chars'] = tweets_df['text'].apply(number_of_chars)"
   ]
  },
  {
   "cell_type": "markdown",
   "metadata": {},
   "source": [
    "#### Extract number of hashtags"
   ]
  },
  {
   "cell_type": "code",
   "execution_count": 16,
   "metadata": {},
   "outputs": [],
   "source": [
    "def number_of_hashtags(sentence):\n",
    "    return len(re.findall('#\\w+', sentence))\n",
    "\n",
    "tweets_df['number_of_hashtags'] = tweets_df['text'].apply(number_of_hashtags)"
   ]
  },
  {
   "cell_type": "markdown",
   "metadata": {},
   "source": [
    "### Step 2:\n",
    "#### Polynomial features, degree = 3"
   ]
  },
  {
   "cell_type": "code",
   "execution_count": 17,
   "metadata": {},
   "outputs": [
    {
     "data": {
      "text/plain": [
       "Index(['Unnamed: 0', 'text', 'favorited', 'favoriteCount', 'replyToSN',\n",
       "       'created', 'truncated', 'replyToSID', 'id', 'replyToUID',\n",
       "       'statusSource', 'screenName', 'retweetCount', 'isRetweet', 'retweeted',\n",
       "       'longitude', 'latitude', 'High_Retweet_Count', 'number_of_words',\n",
       "       'number_of_chars', 'number_of_hashtags'],\n",
       "      dtype='object')"
      ]
     },
     "execution_count": 17,
     "metadata": {},
     "output_type": "execute_result"
    }
   ],
   "source": [
    "tweets_df.columns"
   ]
  },
  {
   "cell_type": "code",
   "execution_count": 45,
   "metadata": {},
   "outputs": [
    {
     "data": {
      "text/plain": [
       "(15000, 56)"
      ]
     },
     "execution_count": 45,
     "metadata": {},
     "output_type": "execute_result"
    }
   ],
   "source": [
    "numerical_features = ['favoriteCount', 'retweetCount', 'number_of_words', 'number_of_chars', 'number_of_hashtags']\n",
    "\n",
    "poly = preprocessing.PolynomialFeatures(degree=3)\n",
    "\n",
    "transformed_df = poly.fit_transform(tweets_df[numerical_features])\n",
    "\n",
    "transformed_df.shape"
   ]
  },
  {
   "cell_type": "markdown",
   "metadata": {},
   "source": [
    "### Step 3:\n",
    "#### Perform PCA reduction"
   ]
  },
  {
   "cell_type": "code",
   "execution_count": 55,
   "metadata": {},
   "outputs": [],
   "source": [
    "pca = decomposition.PCA()\n",
    "transformed_df = pca.fit_transform(transformed_df)\n",
    "\n",
    "transformed_df.shape\n",
    "\n",
    "pca_variance = pca.explained_variance_ / np.sum(pca.explained_variance_)\n",
    "# 90% of variance array\n",
    "pca_variance"
   ]
  },
  {
   "cell_type": "markdown",
   "metadata": {},
   "source": [
    "#### Exercise 6: Extract names of avengers endgame characters from text \n",
    "\n",
    "Examples of tags in quetion:\n",
    "#Thanos \n",
    "#WinterSoldier \n",
    "#CaptainAmerica \n",
    "#blackwidow\n",
    "#CaptainMarvel\n",
    "#Mantis \n",
    "\n",
    "store the resulting dataset in data folder with .yaml description, preferable naming for variable names is lowercase name of the tag"
   ]
  },
  {
   "cell_type": "markdown",
   "metadata": {},
   "source": [
    "#### Exercise 7: Create set of classifiers for logistic regression with different features for feature generation. \n",
    "use the following methods of feature generation\n",
    "\n",
    " - word tokenization with 1-gram, f\n",
    " - pos tokenization with extraction of all NP \n",
    " - pos tokenization with 2-gram bag of tokens for all NNP\n",
    " - 2-gram bag of characters for screenName features\n",
    " - polynomial features for presence of avenger character names \n",
    " \n",
    "Organize classes of transformers in various .py files"
   ]
  },
  {
   "cell_type": "markdown",
   "metadata": {},
   "source": [
    "#### Exercise 8: Apply PCA dimensionality reduction and LogisticRegression to predict Target, construct pipelines for all transformers from Exercise 5 and 7 (name them exp_[your name acronim]\\_6_1, ... exp_[your name acronim]\\_6_...) implement them as custom classifiers."
   ]
  },
  {
   "cell_type": "markdown",
   "metadata": {},
   "source": [
    "#### Exercise 9: Split dataset to train and test (it is up to you which features you will include in it) and store it data folder along with .yaml description"
   ]
  },
  {
   "cell_type": "markdown",
   "metadata": {},
   "source": [
    "#### Exercise 10: Add intialization from .yaml descriptions of classifiers to implementations of classifiers at Exercise 7. "
   ]
  },
  {
   "cell_type": "markdown",
   "metadata": {},
   "source": [
    "#### Exercise 11: Train classifiers with various PCA dimensionality, bag of words and polynomial paramters paramteres on train, test them on test and store in .yaml files for every experiment with resulting metrics\n",
    "\n",
    "- accuracy\n",
    "- precision\n",
    "- recall\n",
    "- adjusted_mutual_information"
   ]
  },
  {
   "cell_type": "markdown",
   "metadata": {},
   "source": [
    "#### Exercise 12*: Read urls on dataset follow them with the following example, download attached images and count people on them with cv features"
   ]
  },
  {
   "cell_type": "markdown",
   "metadata": {},
   "source": [
    "#### Exercise 13*: Add new features to all PCA output on Exercise 6, train classifiers, test quality and store results in proper .yaml files"
   ]
  },
  {
   "cell_type": "markdown",
   "metadata": {},
   "source": [
    "#### Exercise 14*: Perform topic modelings on text feature, add it to PCA features from Exercise 8, train classifiers, test quality and store results in proper .yaml files"
   ]
  },
  {
   "cell_type": "markdown",
   "metadata": {},
   "source": [
    "#### Exercise 15: Combine all combinations of features from Exercise 8, measure the results of improvement of classifier"
   ]
  },
  {
   "cell_type": "markdown",
   "metadata": {},
   "source": [
    "#### Exercise 16*: For 5 best of prevous experiments, change LinearRegression to XGBClassifier. Try several XGB configurations, store results and parameters in .yaml files"
   ]
  },
  {
   "cell_type": "markdown",
   "metadata": {},
   "source": [
    "#### Exercise 17: in collaboration with classmates create the best possible classifier for the data using various technics"
   ]
  }
 ],
 "metadata": {
  "kernelspec": {
   "display_name": "Python 3",
   "language": "python",
   "name": "python3"
  },
  "language_info": {
   "codemirror_mode": {
    "name": "ipython",
    "version": 3
   },
   "file_extension": ".py",
   "mimetype": "text/x-python",
   "name": "python",
   "nbconvert_exporter": "python",
   "pygments_lexer": "ipython3",
   "version": "3.7.9"
  }
 },
 "nbformat": 4,
 "nbformat_minor": 2
}
