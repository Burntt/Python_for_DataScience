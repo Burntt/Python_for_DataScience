{
 "cells": [
  {
   "cell_type": "code",
   "execution_count": 6,
   "metadata": {},
   "outputs": [
    {
     "name": "stdout",
     "output_type": "stream",
     "text": [
      "mkdir: experiments/base: File exists\r\n"
     ]
    }
   ],
   "source": [
    "!mkdir experiments/base"
   ]
  },
  {
   "cell_type": "markdown",
   "metadata": {},
   "source": [
    "## Base __init__"
   ]
  },
  {
   "cell_type": "code",
   "execution_count": 7,
   "metadata": {},
   "outputs": [
    {
     "name": "stdout",
     "output_type": "stream",
     "text": [
      "Overwriting experiments/base/__init__.py\n"
     ]
    }
   ],
   "source": [
    "%%writefile experiments/base/__init__.py\n",
    "\n",
    "# just an empty python file"
   ]
  },
  {
   "cell_type": "markdown",
   "metadata": {},
   "source": [
    "## Base Transformer"
   ]
  },
  {
   "cell_type": "code",
   "execution_count": 8,
   "metadata": {},
   "outputs": [
    {
     "name": "stdout",
     "output_type": "stream",
     "text": [
      "Overwriting experiments/base/transformer.py\n"
     ]
    }
   ],
   "source": [
    "%%writefile experiments/base/transformer.py\n",
    "import numpy as np \n",
    "import pandas as pd\n",
    "import nltk\n",
    "import unicodedata\n",
    "import re\n",
    "from sklearn.base import BaseEstimator, TransformerMixin\n",
    "from sklearn.feature_extraction.text import CountVectorizer\n",
    "\n",
    "class BaseTransformer(BaseEstimator, TransformerMixin):\n",
    "    def __init__(self):\n",
    "        return None\n",
    "\n",
    "    def fit_transform(self, X):\n",
    "        return X\n",
    "    \n",
    "    def clean_text(self, text):\n",
    "        wnl = nltk.stem.WordNetLemmatizer()\n",
    "        stopwords = nltk.corpus.stopwords.words('english') + ['RT']\n",
    "        text = (unicodedata.normalize('NFKD', text)\n",
    "            .encode('ascii', 'ignore')\n",
    "            .decode('utf-8', 'ignore'))\n",
    "        words = re.sub(r'[^\\w\\s]', '', text) \n",
    "        words = re.sub(r'(http.+)', '', words).split()\n",
    "        return ' '.join([word for word in words if word not in stopwords])"
   ]
  },
  {
   "cell_type": "markdown",
   "metadata": {},
   "source": [
    "## Base Classifier"
   ]
  },
  {
   "cell_type": "code",
   "execution_count": 35,
   "metadata": {},
   "outputs": [
    {
     "name": "stdout",
     "output_type": "stream",
     "text": [
      "Overwriting experiments/base/classifier.py\n"
     ]
    }
   ],
   "source": [
    "%%writefile experiments/base/classifier.py\n",
    "\n",
    "from sklearn import preprocessing, decomposition, linear_model\n",
    "from sklearn.base import BaseEstimator, ClassifierMixin\n",
    "from datetime import datetime\n",
    "import scipy\n",
    "import numpy as np\n",
    "import yaml\n",
    "from sklearn import metrics\n",
    "\n",
    "class LogisticCustomClassifier(BaseEstimator, ClassifierMixin):\n",
    "    def __init__(self, yaml_config_file, transformer, result_folder_path):\n",
    "        with open(yaml_config_file) as f:\n",
    "            self.configs = yaml.load(f, Loader=yaml.Loader)\n",
    "        \n",
    "        self.classifier = linear_model.LogisticRegression(\n",
    "            penalty = self.configs['logistic_penalty'],\n",
    "            random_state = self.configs['logistic_rand_state'],\n",
    "            solver = 'saga'\n",
    "        )\n",
    "        \n",
    "        self.transformer = transformer\n",
    "        \n",
    "        if self.configs['pca_components'] != None:\n",
    "            self.n_components = self.configs['pca_components']\n",
    "        else:\n",
    "            self.n_components = None\n",
    "        \n",
    "        self.result_folder_path = result_folder_path\n",
    "        \n",
    "        print('Using configuration file %s:'%yaml_config_file)\n",
    "        \n",
    "    \n",
    "    def feature_transformation(self, X):        \n",
    "        # custom transformation\n",
    "        t = self.transformer()\n",
    "        transformed_X = t.fit_transform(X)\n",
    "        \n",
    "        # check sparse\n",
    "        if scipy.sparse.issparse(transformed_X):\n",
    "            transformed_X = transformed_X.todense()\n",
    "        \n",
    "        # scale data / optional, better to do it separately\n",
    "#         scaler = preprocessing.StandardScaler(with_mean=False)\n",
    "#         transformed_df = scaler.fit_transform(transformed_X)\n",
    "\n",
    "        pca = decomposition.PCA()\n",
    "        transformed_df = pca.fit_transform(transformed_X)\n",
    "        \n",
    "        # select components with sum variance > 0.9 to determine the n_components var\n",
    "        if self.n_components == 'None':\n",
    "            ratios_sum = 0\n",
    "            ratios_index = 0\n",
    "            ratios = list(pca.explained_variance_ratio_)\n",
    "\n",
    "            while ratios_sum < 0.9 and ratios_index < len(ratios) - 1:\n",
    "                ratios_index += 1\n",
    "                ratios_sum += ratios[ratios_index]\n",
    "                \n",
    "            self.n_components = ratios_index\n",
    "        \n",
    "        # PCA reduction\n",
    "        pca = decomposition.PCA(n_components=self.n_components)\n",
    "        transformed_X = pca.fit_transform(transformed_X)\n",
    "        \n",
    "        return transformed_X\n",
    "    \n",
    "    def generate_results(self, y_pred, y_test):\n",
    "        results = {\n",
    "            'values': {\n",
    "                'pca_components': self.n_components,\n",
    "                'accuracy': metrics.accuracy_score(y_pred, y_test).item(),\n",
    "                'precision': metrics.precision_score(y_pred, y_test).item(),\n",
    "                'recall': metrics.recall_score(y_pred, y_test).item(),\n",
    "                'mutual_info_score': metrics.adjusted_mutual_info_score(y_pred, y_test).item()\n",
    "            },\n",
    "            'config': self.configs\n",
    "        }\n",
    "        \n",
    "        time_obj = datetime.now()\n",
    "        file_path = self.result_folder_path + 'result_' + time_obj.strftime(\"%d-%b-%Y-%H-%M-%S\") + '.yaml'\n",
    "\n",
    "        with open(file_path, 'w') as file:\n",
    "            yaml.dump(results, file)\n",
    "            \n",
    "        print('------------------')\n",
    "        print(results['values'])\n",
    "        print('------------------')\n",
    "        print(\"Results are saved to:\", file_path)\n",
    "        \n",
    "    \n",
    "    def fit(self, X, y):\n",
    "        transformed_features = self.feature_transformation(X)\n",
    "        self.fit_classifier = self.classifier.fit(transformed_features, y)\n",
    "\n",
    "    def predict(self, X):\n",
    "        transformed_features = self.feature_transformation(X)\n",
    "        return self.fit_classifier.predict(transformed_features)"
   ]
  }
 ],
 "metadata": {
  "kernelspec": {
   "display_name": "Python 3",
   "language": "python",
   "name": "python3"
  },
  "language_info": {
   "codemirror_mode": {
    "name": "ipython",
    "version": 3
   },
   "file_extension": ".py",
   "mimetype": "text/x-python",
   "name": "python",
   "nbconvert_exporter": "python",
   "pygments_lexer": "ipython3",
   "version": "3.7.9"
  }
 },
 "nbformat": 4,
 "nbformat_minor": 4
}
