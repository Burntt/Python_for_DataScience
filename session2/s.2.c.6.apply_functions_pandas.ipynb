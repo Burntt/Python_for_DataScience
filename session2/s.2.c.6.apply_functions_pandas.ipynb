{
 "cells": [
  {
   "cell_type": "code",
   "execution_count": 4,
   "metadata": {},
   "outputs": [],
   "source": [
    "import pandas as pd"
   ]
  },
  {
   "cell_type": "code",
   "execution_count": 6,
   "metadata": {},
   "outputs": [],
   "source": [
    "%store -r titanic_m_df"
   ]
  },
  {
   "cell_type": "code",
   "execution_count": 2,
   "metadata": {},
   "outputs": [
    {
     "data": {
      "text/html": [
       "<div>\n",
       "<style scoped>\n",
       "    .dataframe tbody tr th:only-of-type {\n",
       "        vertical-align: middle;\n",
       "    }\n",
       "\n",
       "    .dataframe tbody tr th {\n",
       "        vertical-align: top;\n",
       "    }\n",
       "\n",
       "    .dataframe thead th {\n",
       "        text-align: right;\n",
       "    }\n",
       "</style>\n",
       "<table border=\"1\" class=\"dataframe\">\n",
       "  <thead>\n",
       "    <tr style=\"text-align: right;\">\n",
       "      <th></th>\n",
       "      <th>PassengerId</th>\n",
       "      <th>Survived</th>\n",
       "      <th>Pclass</th>\n",
       "      <th>Name</th>\n",
       "      <th>Sex</th>\n",
       "      <th>Age</th>\n",
       "      <th>SibSp</th>\n",
       "      <th>Parch</th>\n",
       "      <th>Ticket</th>\n",
       "      <th>Fare</th>\n",
       "      <th>Cabin</th>\n",
       "      <th>Embarked</th>\n",
       "    </tr>\n",
       "  </thead>\n",
       "  <tbody>\n",
       "    <tr>\n",
       "      <td>17</td>\n",
       "      <td>1</td>\n",
       "      <td>0</td>\n",
       "      <td>3</td>\n",
       "      <td>Braund, Mr. Owen Harris</td>\n",
       "      <td>male</td>\n",
       "      <td>22.0</td>\n",
       "      <td>1</td>\n",
       "      <td>0</td>\n",
       "      <td>A/5 21171</td>\n",
       "      <td>7.2500</td>\n",
       "      <td>NaN</td>\n",
       "      <td>S</td>\n",
       "    </tr>\n",
       "    <tr>\n",
       "      <td>18</td>\n",
       "      <td>2</td>\n",
       "      <td>1</td>\n",
       "      <td>1</td>\n",
       "      <td>Cumings, Mrs. John Bradley (Florence Briggs Th...</td>\n",
       "      <td>female</td>\n",
       "      <td>38.0</td>\n",
       "      <td>1</td>\n",
       "      <td>0</td>\n",
       "      <td>PC 17599</td>\n",
       "      <td>71.2833</td>\n",
       "      <td>C85</td>\n",
       "      <td>C</td>\n",
       "    </tr>\n",
       "    <tr>\n",
       "      <td>19</td>\n",
       "      <td>3</td>\n",
       "      <td>1</td>\n",
       "      <td>3</td>\n",
       "      <td>Heikkinen, Miss. Laina</td>\n",
       "      <td>female</td>\n",
       "      <td>26.0</td>\n",
       "      <td>0</td>\n",
       "      <td>0</td>\n",
       "      <td>STON/O2. 3101282</td>\n",
       "      <td>7.9250</td>\n",
       "      <td>NaN</td>\n",
       "      <td>S</td>\n",
       "    </tr>\n",
       "    <tr>\n",
       "      <td>20</td>\n",
       "      <td>4</td>\n",
       "      <td>1</td>\n",
       "      <td>1</td>\n",
       "      <td>Futrelle, Mrs. Jacques Heath (Lily May Peel)</td>\n",
       "      <td>female</td>\n",
       "      <td>35.0</td>\n",
       "      <td>1</td>\n",
       "      <td>0</td>\n",
       "      <td>113803</td>\n",
       "      <td>53.1000</td>\n",
       "      <td>C123</td>\n",
       "      <td>S</td>\n",
       "    </tr>\n",
       "    <tr>\n",
       "      <td>21</td>\n",
       "      <td>5</td>\n",
       "      <td>0</td>\n",
       "      <td>3</td>\n",
       "      <td>Allen, Mr. William Henry</td>\n",
       "      <td>male</td>\n",
       "      <td>35.0</td>\n",
       "      <td>0</td>\n",
       "      <td>0</td>\n",
       "      <td>373450</td>\n",
       "      <td>8.0500</td>\n",
       "      <td>NaN</td>\n",
       "      <td>S</td>\n",
       "    </tr>\n",
       "    <tr>\n",
       "      <td>...</td>\n",
       "      <td>...</td>\n",
       "      <td>...</td>\n",
       "      <td>...</td>\n",
       "      <td>...</td>\n",
       "      <td>...</td>\n",
       "      <td>...</td>\n",
       "      <td>...</td>\n",
       "      <td>...</td>\n",
       "      <td>...</td>\n",
       "      <td>...</td>\n",
       "      <td>...</td>\n",
       "      <td>...</td>\n",
       "    </tr>\n",
       "    <tr>\n",
       "      <td>903</td>\n",
       "      <td>887</td>\n",
       "      <td>0</td>\n",
       "      <td>2</td>\n",
       "      <td>Montvila, Rev. Juozas</td>\n",
       "      <td>male</td>\n",
       "      <td>27.0</td>\n",
       "      <td>0</td>\n",
       "      <td>0</td>\n",
       "      <td>211536</td>\n",
       "      <td>13.0000</td>\n",
       "      <td>NaN</td>\n",
       "      <td>S</td>\n",
       "    </tr>\n",
       "    <tr>\n",
       "      <td>904</td>\n",
       "      <td>888</td>\n",
       "      <td>1</td>\n",
       "      <td>1</td>\n",
       "      <td>Graham, Miss. Margaret Edith</td>\n",
       "      <td>female</td>\n",
       "      <td>19.0</td>\n",
       "      <td>0</td>\n",
       "      <td>0</td>\n",
       "      <td>112053</td>\n",
       "      <td>30.0000</td>\n",
       "      <td>B42</td>\n",
       "      <td>S</td>\n",
       "    </tr>\n",
       "    <tr>\n",
       "      <td>905</td>\n",
       "      <td>889</td>\n",
       "      <td>0</td>\n",
       "      <td>3</td>\n",
       "      <td>Johnston, Miss. Catherine Helen \"Carrie\"</td>\n",
       "      <td>female</td>\n",
       "      <td>NaN</td>\n",
       "      <td>1</td>\n",
       "      <td>2</td>\n",
       "      <td>W./C. 6607</td>\n",
       "      <td>23.4500</td>\n",
       "      <td>NaN</td>\n",
       "      <td>S</td>\n",
       "    </tr>\n",
       "    <tr>\n",
       "      <td>906</td>\n",
       "      <td>890</td>\n",
       "      <td>1</td>\n",
       "      <td>1</td>\n",
       "      <td>Behr, Mr. Karl Howell</td>\n",
       "      <td>male</td>\n",
       "      <td>26.0</td>\n",
       "      <td>0</td>\n",
       "      <td>0</td>\n",
       "      <td>111369</td>\n",
       "      <td>30.0000</td>\n",
       "      <td>C148</td>\n",
       "      <td>C</td>\n",
       "    </tr>\n",
       "    <tr>\n",
       "      <td>907</td>\n",
       "      <td>891</td>\n",
       "      <td>0</td>\n",
       "      <td>3</td>\n",
       "      <td>Dooley, Mr. Patrick</td>\n",
       "      <td>male</td>\n",
       "      <td>32.0</td>\n",
       "      <td>0</td>\n",
       "      <td>0</td>\n",
       "      <td>370376</td>\n",
       "      <td>7.7500</td>\n",
       "      <td>NaN</td>\n",
       "      <td>Q</td>\n",
       "    </tr>\n",
       "  </tbody>\n",
       "</table>\n",
       "<p>891 rows × 12 columns</p>\n",
       "</div>"
      ],
      "text/plain": [
       "     PassengerId  Survived  Pclass  \\\n",
       "17             1         0       3   \n",
       "18             2         1       1   \n",
       "19             3         1       3   \n",
       "20             4         1       1   \n",
       "21             5         0       3   \n",
       "..           ...       ...     ...   \n",
       "903          887         0       2   \n",
       "904          888         1       1   \n",
       "905          889         0       3   \n",
       "906          890         1       1   \n",
       "907          891         0       3   \n",
       "\n",
       "                                                  Name     Sex   Age  SibSp  \\\n",
       "17                             Braund, Mr. Owen Harris    male  22.0      1   \n",
       "18   Cumings, Mrs. John Bradley (Florence Briggs Th...  female  38.0      1   \n",
       "19                              Heikkinen, Miss. Laina  female  26.0      0   \n",
       "20        Futrelle, Mrs. Jacques Heath (Lily May Peel)  female  35.0      1   \n",
       "21                            Allen, Mr. William Henry    male  35.0      0   \n",
       "..                                                 ...     ...   ...    ...   \n",
       "903                              Montvila, Rev. Juozas    male  27.0      0   \n",
       "904                       Graham, Miss. Margaret Edith  female  19.0      0   \n",
       "905           Johnston, Miss. Catherine Helen \"Carrie\"  female   NaN      1   \n",
       "906                              Behr, Mr. Karl Howell    male  26.0      0   \n",
       "907                                Dooley, Mr. Patrick    male  32.0      0   \n",
       "\n",
       "     Parch            Ticket     Fare Cabin Embarked  \n",
       "17       0         A/5 21171   7.2500   NaN        S  \n",
       "18       0          PC 17599  71.2833   C85        C  \n",
       "19       0  STON/O2. 3101282   7.9250   NaN        S  \n",
       "20       0            113803  53.1000  C123        S  \n",
       "21       0            373450   8.0500   NaN        S  \n",
       "..     ...               ...      ...   ...      ...  \n",
       "903      0            211536  13.0000   NaN        S  \n",
       "904      0            112053  30.0000   B42        S  \n",
       "905      2        W./C. 6607  23.4500   NaN        S  \n",
       "906      0            111369  30.0000  C148        C  \n",
       "907      0            370376   7.7500   NaN        Q  \n",
       "\n",
       "[891 rows x 12 columns]"
      ]
     },
     "execution_count": 2,
     "metadata": {},
     "output_type": "execute_result"
    }
   ],
   "source": [
    "titanic_m_df"
   ]
  },
  {
   "cell_type": "markdown",
   "metadata": {},
   "source": [
    "#### Exercise 6.1: Demonstrate apply function"
   ]
  },
  {
   "cell_type": "code",
   "execution_count": 87,
   "metadata": {},
   "outputs": [
    {
     "name": "stdout",
     "output_type": "stream",
     "text": [
      "PassengerId                          1\n",
      "Survived                             0\n",
      "Pclass                               3\n",
      "Name           Braund, Mr. Owen Harris\n",
      "Sex                        dazdranagon\n",
      "Age                        dazdranagon\n",
      "SibSp                                1\n",
      "Parch                                0\n",
      "Ticket                       A/5 21171\n",
      "Fare                              7.25\n",
      "Cabin                              NaN\n",
      "Embarked                             S\n",
      "Name: 17, dtype: object \n",
      "\n",
      "PassengerId                          1\n",
      "Survived                             0\n",
      "Pclass                               3\n",
      "Name           Braund, Mr. Owen Harris\n",
      "Sex                        dazdranagon\n",
      "Age                        dazdranagon\n",
      "SibSp                                1\n",
      "Parch                                0\n",
      "Ticket                       A/5 21171\n",
      "Fare                              7.25\n",
      "Cabin                              NaN\n",
      "Embarked                             S\n",
      "Name: 17, dtype: object \n",
      "\n",
      "PassengerId                                                    2\n",
      "Survived                                                       1\n",
      "Pclass                                                         1\n",
      "Name           Cumings, Mrs. John Bradley (Florence Briggs Th...\n",
      "Sex                                                  dazdranagon\n",
      "Age                                                  dazdranagon\n",
      "SibSp                                                          1\n",
      "Parch                                                          0\n",
      "Ticket                                                  PC 17599\n",
      "Fare                                                     71.2833\n",
      "Cabin                                                        C85\n",
      "Embarked                                                       C\n",
      "Name: 18, dtype: object \n",
      "\n"
     ]
    },
    {
     "data": {
      "text/html": [
       "<div>\n",
       "<style scoped>\n",
       "    .dataframe tbody tr th:only-of-type {\n",
       "        vertical-align: middle;\n",
       "    }\n",
       "\n",
       "    .dataframe tbody tr th {\n",
       "        vertical-align: top;\n",
       "    }\n",
       "\n",
       "    .dataframe thead th {\n",
       "        text-align: right;\n",
       "    }\n",
       "</style>\n",
       "<table border=\"1\" class=\"dataframe\">\n",
       "  <thead>\n",
       "    <tr style=\"text-align: right;\">\n",
       "      <th></th>\n",
       "      <th>PassengerId</th>\n",
       "      <th>Survived</th>\n",
       "      <th>Pclass</th>\n",
       "      <th>Name</th>\n",
       "      <th>Sex</th>\n",
       "      <th>Age</th>\n",
       "      <th>SibSp</th>\n",
       "      <th>Parch</th>\n",
       "      <th>Ticket</th>\n",
       "      <th>Fare</th>\n",
       "      <th>Cabin</th>\n",
       "      <th>Embarked</th>\n",
       "    </tr>\n",
       "  </thead>\n",
       "  <tbody>\n",
       "    <tr>\n",
       "      <td>17</td>\n",
       "      <td>1</td>\n",
       "      <td>0</td>\n",
       "      <td>3</td>\n",
       "      <td>Braund, Mr. Owen Harris</td>\n",
       "      <td>dazdranagon</td>\n",
       "      <td>dazdranagon</td>\n",
       "      <td>1</td>\n",
       "      <td>0</td>\n",
       "      <td>A/5 21171</td>\n",
       "      <td>7.2500</td>\n",
       "      <td>NaN</td>\n",
       "      <td>S</td>\n",
       "    </tr>\n",
       "    <tr>\n",
       "      <td>18</td>\n",
       "      <td>2</td>\n",
       "      <td>1</td>\n",
       "      <td>1</td>\n",
       "      <td>Cumings, Mrs. John Bradley (Florence Briggs Th...</td>\n",
       "      <td>dazdranagon</td>\n",
       "      <td>dazdranagon</td>\n",
       "      <td>1</td>\n",
       "      <td>0</td>\n",
       "      <td>PC 17599</td>\n",
       "      <td>71.2833</td>\n",
       "      <td>C85</td>\n",
       "      <td>C</td>\n",
       "    </tr>\n",
       "  </tbody>\n",
       "</table>\n",
       "</div>"
      ],
      "text/plain": [
       "    PassengerId  Survived  Pclass  \\\n",
       "17            1         0       3   \n",
       "18            2         1       1   \n",
       "\n",
       "                                                 Name          Sex  \\\n",
       "17                            Braund, Mr. Owen Harris  dazdranagon   \n",
       "18  Cumings, Mrs. John Bradley (Florence Briggs Th...  dazdranagon   \n",
       "\n",
       "            Age  SibSp  Parch     Ticket     Fare Cabin Embarked  \n",
       "17  dazdranagon      1      0  A/5 21171   7.2500   NaN        S  \n",
       "18  dazdranagon      1      0   PC 17599  71.2833   C85        C  "
      ]
     },
     "execution_count": 87,
     "metadata": {},
     "output_type": "execute_result"
    }
   ],
   "source": [
    "def my_apply_func(x):\n",
    "    print(x,\"\\n\")\n",
    "    return(x)\n",
    "\n",
    "small_subdataset = titanic_m_df.iloc[:2,]\n",
    "small_subdataset.apply( my_apply_func, axis = 1)"
   ]
  },
  {
   "cell_type": "code",
   "execution_count": 111,
   "metadata": {},
   "outputs": [
    {
     "data": {
      "text/plain": [
       "17     1 0 3 harbour.space harbour.space 22.0 1 0 A/5...\n",
       "18     2 1 1 harbour.space harbour.space 38.0 1 0 PC ...\n",
       "19     3 1 3 dazdranagon dazdranagon 26.0 0 0 STON/O2...\n",
       "20     4 1 1 Futrelle, Mrs. Jacques Heath (Lily May P...\n",
       "21     5 0 3 Allen, Mr. William Henry male 39.0 0 0 3...\n",
       "                             ...                        \n",
       "903    887 0 2 Montvila, Rev. Juozas male 31.0 0 0 21...\n",
       "904    888 1 1 Graham, Miss. Margaret Edith female 19...\n",
       "905    889 0 3 Johnston, Miss. Catherine Helen \"Carri...\n",
       "906    890 1 1 Behr, Mr. Karl Howell male 30.0 0 0 11...\n",
       "907    891 0 3 Dooley, Mr. Patrick male 36.0 0 0 3703...\n",
       "Length: 891, dtype: object"
      ]
     },
     "execution_count": 111,
     "metadata": {},
     "output_type": "execute_result"
    }
   ],
   "source": [
    "titanic_m_df.apply(lambda row : \" \".join(row.astype(sstr)), axis =1)"
   ]
  },
  {
   "cell_type": "markdown",
   "metadata": {},
   "source": [
    "#### Exercise 6.2: Use apply function to extract data"
   ]
  },
  {
   "cell_type": "code",
   "execution_count": 1,
   "metadata": {},
   "outputs": [],
   "source": [
    "def is_there_a_mrs_in_the_string(input_str):\n",
    "    if 'Mrs.' in input_str:\n",
    "        return True\n",
    "    else:\n",
    "        return False"
   ]
  },
  {
   "cell_type": "code",
   "execution_count": 2,
   "metadata": {},
   "outputs": [
    {
     "data": {
      "text/plain": [
       "True"
      ]
     },
     "execution_count": 2,
     "metadata": {},
     "output_type": "execute_result"
    }
   ],
   "source": [
    "is_there_a_mrs_in_the_string(\"Here's To You, Mrs. Anderson\")"
   ]
  },
  {
   "cell_type": "code",
   "execution_count": 3,
   "metadata": {},
   "outputs": [
    {
     "data": {
      "text/plain": [
       "False"
      ]
     },
     "execution_count": 3,
     "metadata": {},
     "output_type": "execute_result"
    }
   ],
   "source": [
    "is_there_a_mrs_in_the_string(\"Overly manly statement without any mention of women\")"
   ]
  },
  {
   "cell_type": "code",
   "execution_count": 7,
   "metadata": {},
   "outputs": [
    {
     "data": {
      "text/plain": [
       "17     False\n",
       "18      True\n",
       "19     False\n",
       "20      True\n",
       "21     False\n",
       "       ...  \n",
       "903    False\n",
       "904    False\n",
       "905    False\n",
       "906    False\n",
       "907    False\n",
       "Name: Name, Length: 891, dtype: bool"
      ]
     },
     "execution_count": 7,
     "metadata": {},
     "output_type": "execute_result"
    }
   ],
   "source": [
    "titanic_m_df['Name'].apply(is_there_a_mrs_in_the_string)"
   ]
  },
  {
   "cell_type": "markdown",
   "metadata": {},
   "source": [
    "#### Exercise 6.3: Apply to column, row, and subdataframe"
   ]
  },
  {
   "cell_type": "code",
   "execution_count": 10,
   "metadata": {},
   "outputs": [
    {
     "data": {
      "text/plain": [
       "17     Braund, Mr. Owen Harris_trace_of_intelligent_life\n",
       "18     Cumings, Mrs. John Bradley (Florence Briggs Th...\n",
       "19      Heikkinen, Miss. Laina_trace_of_intelligent_life\n",
       "20     Futrelle, Mrs. Jacques Heath (Lily May Peel)_t...\n",
       "21     Allen, Mr. William Henry_trace_of_intelligent_...\n",
       "                             ...                        \n",
       "903      Montvila, Rev. Juozas_trace_of_intelligent_life\n",
       "904    Graham, Miss. Margaret Edith_trace_of_intellig...\n",
       "905    Johnston, Miss. Catherine Helen \"Carrie\"_trace...\n",
       "906      Behr, Mr. Karl Howell_trace_of_intelligent_life\n",
       "907        Dooley, Mr. Patrick_trace_of_intelligent_life\n",
       "Name: Name, Length: 891, dtype: object"
      ]
     },
     "execution_count": 10,
     "metadata": {},
     "output_type": "execute_result"
    }
   ],
   "source": [
    "titanic_m_df['Name'].apply(lambda x: str(x) + \"_trace_of_intelligent_life\")"
   ]
  },
  {
   "cell_type": "code",
   "execution_count": 15,
   "metadata": {},
   "outputs": [
    {
     "data": {
      "text/plain": [
       "PassengerId                         18_trace_of_intelligent_life\n",
       "Survived                             1_trace_of_intelligent_life\n",
       "Pclass                               2_trace_of_intelligent_life\n",
       "Name           Williams, Mr. Charles Eugene_trace_of_intellig...\n",
       "Sex                               male_trace_of_intelligent_life\n",
       "Age                                nan_trace_of_intelligent_life\n",
       "SibSp                                0_trace_of_intelligent_life\n",
       "Parch                                0_trace_of_intelligent_life\n",
       "Ticket                          244373_trace_of_intelligent_life\n",
       "Fare                              13.0_trace_of_intelligent_life\n",
       "Cabin                              nan_trace_of_intelligent_life\n",
       "Embarked                             S_trace_of_intelligent_life\n",
       "Name: 34, dtype: object"
      ]
     },
     "execution_count": 15,
     "metadata": {},
     "output_type": "execute_result"
    }
   ],
   "source": [
    "titanic_m_df.iloc[17].apply(lambda x: str(x) + \"_trace_of_intelligent_life\")"
   ]
  },
  {
   "cell_type": "code",
   "execution_count": 20,
   "metadata": {},
   "outputs": [
    {
     "data": {
      "text/plain": [
       "PassengerId    34    18\\n35    19\\nName: PassengerId, dtype: ...\n",
       "Survived       34    1\\n35    0\\nName: Survived, dtype: objec...\n",
       "Pclass         34    2\\n35    3\\nName: Pclass, dtype: object_...\n",
       "Name           34                         Williams, Mr. Charl...\n",
       "Sex            34      male\\n35    female\\nName: Sex, dtype: ...\n",
       "Age            34    NaN\\n35     31\\nName: Age, dtype: object...\n",
       "SibSp          34    0\\n35    1\\nName: SibSp, dtype: object_t...\n",
       "Parch          34    0\\n35    0\\nName: Parch, dtype: object_t...\n",
       "Ticket         34    244373\\n35    345763\\nName: Ticket, dtyp...\n",
       "Fare           34    13\\n35    18\\nName: Fare, dtype: object_...\n",
       "Cabin          34    NaN\\n35    NaN\\nName: Cabin, dtype: obje...\n",
       "Embarked       34    S\\n35    S\\nName: Embarked, dtype: objec...\n",
       "dtype: object"
      ]
     },
     "execution_count": 20,
     "metadata": {},
     "output_type": "execute_result"
    }
   ],
   "source": [
    "titanic_m_df.iloc[17:19].apply(lambda x: str(x) + \"_trace_of_intelligent_life\", axis =0)"
   ]
  },
  {
   "cell_type": "code",
   "execution_count": 21,
   "metadata": {},
   "outputs": [
    {
     "data": {
      "text/plain": [
       "34    PassengerId                              18\\nS...\n",
       "35    PassengerId                                   ...\n",
       "dtype: object"
      ]
     },
     "execution_count": 21,
     "metadata": {},
     "output_type": "execute_result"
    }
   ],
   "source": [
    "titanic_m_df.iloc[17:19].apply(lambda x: str(x) + \"_trace_of_intelligent_life\", axis =1)"
   ]
  },
  {
   "cell_type": "code",
   "execution_count": null,
   "metadata": {},
   "outputs": [],
   "source": []
  }
 ],
 "metadata": {
  "kernelspec": {
   "display_name": "Python 3",
   "language": "python",
   "name": "python3"
  },
  "language_info": {
   "codemirror_mode": {
    "name": "ipython",
    "version": 3
   },
   "file_extension": ".py",
   "mimetype": "text/x-python",
   "name": "python",
   "nbconvert_exporter": "python",
   "pygments_lexer": "ipython3",
   "version": "3.6.9"
  }
 },
 "nbformat": 4,
 "nbformat_minor": 2
}
