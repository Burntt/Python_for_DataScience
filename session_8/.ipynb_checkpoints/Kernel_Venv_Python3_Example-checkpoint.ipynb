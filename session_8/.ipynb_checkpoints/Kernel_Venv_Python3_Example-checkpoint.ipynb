{
 "cells": [
  {
   "cell_type": "code",
   "execution_count": null,
   "metadata": {},
   "outputs": [],
   "source": []
  }
 ],
 "metadata": {
  "kernelspec": {
   "display_name": "Berend_Python3_env",
   "language": "python",
   "name": "berend_python3_env"
  }
 },
 "nbformat": 4,
 "nbformat_minor": 2
}
