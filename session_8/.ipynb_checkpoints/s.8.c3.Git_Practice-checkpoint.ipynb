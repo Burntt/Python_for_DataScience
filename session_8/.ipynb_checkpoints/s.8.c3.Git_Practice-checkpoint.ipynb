{
 "cells": [
  {
   "cell_type": "markdown",
   "metadata": {},
   "source": [
    "#### Exercise 3.1: Create an account on github"
   ]
  },
  {
   "cell_type": "markdown",
   "metadata": {},
   "source": [
    "https://github.com/Burntt"
   ]
  },
  {
   "cell_type": "markdown",
   "metadata": {},
   "source": [
    "#### Exercise 3.2: Join collaboration for our group\n",
    "\n",
    "https://github.com/maxmmsu/harbour.space.DS.402.playground"
   ]
  },
  {
   "cell_type": "markdown",
   "metadata": {},
   "source": [
    "#### Exercise 3.3: Create a branch with your name"
   ]
  },
  {
   "cell_type": "markdown",
   "metadata": {},
   "source": [
    "#### Exercise 3.4: Clone your branch to your directory at the server\n",
    "\n",
    "git clone --single-branch --branch Berend_Gort https://github.com/maxmmsu/harbour.space.DS.402.playground.git"
   ]
  },
  {
   "cell_type": "markdown",
   "metadata": {},
   "source": [
    "#### Exercise 3.5: Create an exp_1_1 folder with a __init__.py file in it and commit it to git"
   ]
  },
  {
   "cell_type": "code",
   "execution_count": 6,
   "metadata": {
    "scrolled": true
   },
   "outputs": [
    {
     "name": "stdout",
     "output_type": "stream",
     "text": [
      "Berend_Python3_env\t\t   s.8.c.1.Unix_basics.ipynb\r\n",
      "Kernel_Venv_Python3_Example.ipynb  s.8.c2.Environments_and_kernells.ipynb\r\n",
      "create_eth_file.eth\t\t   s.8.c3.Git_Practice.ipynb\r\n",
      "harbour.space.DS.402.playground    textgenrnn\r\n",
      "ls_output.out\t\t\t   vim_writefile_from_terminal\r\n"
     ]
    }
   ],
   "source": [
    "!ls\n",
    "!cd harbour.space.DS.402.playground"
   ]
  },
  {
   "cell_type": "code",
   "execution_count": 9,
   "metadata": {
    "scrolled": true
   },
   "outputs": [],
   "source": [
    "!mkdir harbour.space.DS.402.playground/exp_1_1"
   ]
  },
  {
   "cell_type": "code",
   "execution_count": 10,
   "metadata": {
    "scrolled": true
   },
   "outputs": [
    {
     "name": "stdout",
     "output_type": "stream",
     "text": [
      "Writing harbour.space.DS.402.playground/exp_1_1/__init__.py\n"
     ]
    }
   ],
   "source": [
    "%%writefile harbour.space.DS.402.playground/exp_1_1/__init__.py\n",
    "\n",
    "#just an empty file"
   ]
  },
  {
   "cell_type": "markdown",
   "metadata": {
    "scrolled": true
   },
   "source": [
    "git add . # add all untracked files\n",
    "git commit -a # commit untracked files, and leave commit msg, ctrl+X to leave screen to leave GNU"
   ]
  },
  {
   "cell_type": "markdown",
   "metadata": {},
   "source": [
    "#### Exercise 3.6: Push the commit to your remote branch"
   ]
  },
  {
   "cell_type": "markdown",
   "metadata": {},
   "source": [
    "git push #push to branch"
   ]
  },
  {
   "cell_type": "markdown",
   "metadata": {},
   "source": [
    "#### Exercise 3.7: Merge master brach contents to your local branch "
   ]
  },
  {
   "cell_type": "markdown",
   "metadata": {},
   "source": [
    "#### Exercise 3.9: Commit merge result to you  branch, and push the commit"
   ]
  },
  {
   "cell_type": "markdown",
   "metadata": {},
   "source": [
    "#### Exercise 3.10: Checkout the master branch and say to everyone that you are now commiting to master"
   ]
  },
  {
   "cell_type": "markdown",
   "metadata": {},
   "source": [
    "#### Exercise 3.11: Merge your branch contents into local master branch"
   ]
  },
  {
   "cell_type": "markdown",
   "metadata": {},
   "source": [
    "#### Exercise 3.12: Commit merge result to master branch"
   ]
  }
 ],
 "metadata": {
  "kernelspec": {
   "display_name": "Berend_Python3_env",
   "language": "python",
   "name": "berend_python3_env"
  },
  "language_info": {
   "codemirror_mode": {
    "name": "ipython",
    "version": 3
   },
   "file_extension": ".py",
   "mimetype": "text/x-python",
   "name": "python",
   "nbconvert_exporter": "python",
   "pygments_lexer": "ipython3",
   "version": "3.6.6"
  }
 },
 "nbformat": 4,
 "nbformat_minor": 2
}
