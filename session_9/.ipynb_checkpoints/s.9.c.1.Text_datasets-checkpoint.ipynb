{
 "cells": [
  {
   "cell_type": "code",
   "execution_count": 2,
   "metadata": {
    "scrolled": true
   },
   "outputs": [
    {
     "name": "stdout",
     "output_type": "stream",
     "text": [
      "/home/ubuntu/Berend_Gort/session_9\r\n"
     ]
    }
   ],
   "source": [
    "!pwd"
   ]
  },
  {
   "cell_type": "code",
   "execution_count": 3,
   "metadata": {
    "scrolled": true
   },
   "outputs": [
    {
     "name": "stdout",
     "output_type": "stream",
     "text": [
      "/home/ubuntu/Berend_Gort/session_9\r\n"
     ]
    }
   ],
   "source": [
    "!cd /home/ubuntu/Berend_Gort/session_9\n",
    "!pwd"
   ]
  },
  {
   "cell_type": "code",
   "execution_count": 4,
   "metadata": {},
   "outputs": [],
   "source": [
    "import pandas as pd\n",
    "import numpy as np"
   ]
  },
  {
   "cell_type": "markdown",
   "metadata": {},
   "source": [
    "### Text datasets"
   ]
  },
  {
   "cell_type": "code",
   "execution_count": 5,
   "metadata": {},
   "outputs": [],
   "source": [
    "from sklearn.datasets import fetch_20newsgroups"
   ]
  },
  {
   "cell_type": "code",
   "execution_count": 6,
   "metadata": {},
   "outputs": [
    {
     "data": {
      "text/plain": [
       "['alt.atheism',\n",
       " 'comp.graphics',\n",
       " 'comp.os.ms-windows.misc',\n",
       " 'comp.sys.ibm.pc.hardware',\n",
       " 'comp.sys.mac.hardware',\n",
       " 'comp.windows.x',\n",
       " 'misc.forsale',\n",
       " 'rec.autos',\n",
       " 'rec.motorcycles',\n",
       " 'rec.sport.baseball',\n",
       " 'rec.sport.hockey',\n",
       " 'sci.crypt',\n",
       " 'sci.electronics',\n",
       " 'sci.med',\n",
       " 'sci.space',\n",
       " 'soc.religion.christian',\n",
       " 'talk.politics.guns',\n",
       " 'talk.politics.mideast',\n",
       " 'talk.politics.misc',\n",
       " 'talk.religion.misc']"
      ]
     },
     "execution_count": 6,
     "metadata": {},
     "output_type": "execute_result"
    }
   ],
   "source": [
    "test_data = fetch_20newsgroups()\n",
    "\n",
    "test_data.target_names"
   ]
  },
  {
   "cell_type": "code",
   "execution_count": 7,
   "metadata": {
    "scrolled": false
   },
   "outputs": [
    {
     "data": {
      "text/plain": [
       "11314"
      ]
     },
     "execution_count": 7,
     "metadata": {},
     "output_type": "execute_result"
    }
   ],
   "source": [
    "len(test_data.data)"
   ]
  },
  {
   "cell_type": "code",
   "execution_count": 8,
   "metadata": {},
   "outputs": [
    {
     "name": "stdout",
     "output_type": "stream",
     "text": [
      "Loading 20 newsgroups dataset for categories:\n",
      "['sci.electronics', 'sci.med', 'sci.space']\n",
      "1778 documents\n",
      "3 categories\n"
     ]
    }
   ],
   "source": [
    "categories = [\n",
    "   'sci.electronics', 'sci.med', 'sci.space',\n",
    "]\n",
    "print(\"Loading 20 newsgroups dataset for categories:\")\n",
    "print(categories)\n",
    "data = fetch_20newsgroups(subset='train', categories=categories)\n",
    "print(\"%d documents\"  % len(data.filenames))\n",
    "print(\"%d categories\" % len(data.target_names))"
   ]
  },
  {
   "cell_type": "code",
   "execution_count": 9,
   "metadata": {},
   "outputs": [
    {
     "data": {
      "text/plain": [
       "array([2, 0, 1, ..., 1, 1, 1])"
      ]
     },
     "execution_count": 9,
     "metadata": {},
     "output_type": "execute_result"
    }
   ],
   "source": [
    "data.target"
   ]
  },
  {
   "cell_type": "code",
   "execution_count": 10,
   "metadata": {},
   "outputs": [
    {
     "data": {
      "text/html": [
       "<div>\n",
       "<style scoped>\n",
       "    .dataframe tbody tr th:only-of-type {\n",
       "        vertical-align: middle;\n",
       "    }\n",
       "\n",
       "    .dataframe tbody tr th {\n",
       "        vertical-align: top;\n",
       "    }\n",
       "\n",
       "    .dataframe thead th {\n",
       "        text-align: right;\n",
       "    }\n",
       "</style>\n",
       "<table border=\"1\" class=\"dataframe\">\n",
       "  <thead>\n",
       "    <tr style=\"text-align: right;\">\n",
       "      <th></th>\n",
       "      <th>text</th>\n",
       "      <th>target</th>\n",
       "    </tr>\n",
       "  </thead>\n",
       "  <tbody>\n",
       "    <tr>\n",
       "      <th>0</th>\n",
       "      <td>From: landis@stsci.edu (Robert Landis,S202,,)\\...</td>\n",
       "      <td>2</td>\n",
       "    </tr>\n",
       "    <tr>\n",
       "      <th>1</th>\n",
       "      <td>From: markz@ssc.com (Mark Zenier)\\nSubject: Re...</td>\n",
       "      <td>0</td>\n",
       "    </tr>\n",
       "    <tr>\n",
       "      <th>2</th>\n",
       "      <td>From: bj368@cleveland.Freenet.Edu (Mike E. Rom...</td>\n",
       "      <td>1</td>\n",
       "    </tr>\n",
       "    <tr>\n",
       "      <th>3</th>\n",
       "      <td>From: sasghm@theseus.unx.sas.com (Gary Merrill...</td>\n",
       "      <td>1</td>\n",
       "    </tr>\n",
       "    <tr>\n",
       "      <th>4</th>\n",
       "      <td>From: Leigh Palmer &lt;palmer@sfu.ca&gt;\\nSubject: R...</td>\n",
       "      <td>2</td>\n",
       "    </tr>\n",
       "  </tbody>\n",
       "</table>\n",
       "</div>"
      ],
      "text/plain": [
       "                                                text  target\n",
       "0  From: landis@stsci.edu (Robert Landis,S202,,)\\...       2\n",
       "1  From: markz@ssc.com (Mark Zenier)\\nSubject: Re...       0\n",
       "2  From: bj368@cleveland.Freenet.Edu (Mike E. Rom...       1\n",
       "3  From: sasghm@theseus.unx.sas.com (Gary Merrill...       1\n",
       "4  From: Leigh Palmer <palmer@sfu.ca>\\nSubject: R...       2"
      ]
     },
     "execution_count": 10,
     "metadata": {},
     "output_type": "execute_result"
    }
   ],
   "source": [
    "df = pd.DataFrame({'text': data.data, 'target': data.target})\n",
    "df.head()"
   ]
  },
  {
   "cell_type": "code",
   "execution_count": 11,
   "metadata": {},
   "outputs": [],
   "source": [
    "from sklearn.model_selection import train_test_split"
   ]
  },
  {
   "cell_type": "code",
   "execution_count": 12,
   "metadata": {},
   "outputs": [],
   "source": [
    "X = df['text']\n",
    "y = df['target']\n",
    "X_train, X_test, y_train, y_test = train_test_split(X, \n",
    "                                                    y, \n",
    "                                                    test_size=0.2, \n",
    "                                                    random_state=2019)"
   ]
  },
  {
   "cell_type": "code",
   "execution_count": 12,
   "metadata": {
    "scrolled": true
   },
   "outputs": [
    {
     "data": {
      "text/plain": [
       "1433    From: webb@itu1 (90-29265  Webber  AH)\\nSubjec...\n",
       "967     From: shafer@rigel.dfrf.nasa.gov (Mary Shafer)...\n",
       "210     From: drickel@bounce.mentorg.com (Dave Rickel)...\n",
       "1616    From: ron.roth@rose.com (ron roth)\\nSubject: S...\n",
       "445     From: jim.zisfein@factory.com (Jim Zisfein) \\n...\n",
       "308     From: tony@nexus.yorku.ca (Anthony Wallis)\\nSu...\n",
       "1373    From: nsmca@aurora.alaska.edu\\nSubject: MACH 2...\n",
       "824     Subject: good book\\nFrom: RGINZBERG@eagle.wesl...\n",
       "821     From: jam@ameslab.gov (Jerry Musselman)\\nSubje...\n",
       "398     From: lancer@oconnor.WPI.EDU (Stephe Lewis Fos...\n",
       "1261    Subject: Broken rib\\nFrom: jc@oneb.almanac.bc....\n",
       "244     From: squish@endor.uucp (Shishin Yamada)\\nSubj...\n",
       "1691    From: prb@access.digex.com (Pat)\\nSubject: Re:...\n",
       "165     From: aldridge@netcom.com (Jacquelin Aldridge)...\n",
       "876     From: ETRAT@ttacs1.ttu.edu (Pack Rat)\\nSubject...\n",
       "211     From: pete@extro.ucc.su.OZ.AU (Peter Alexander...\n",
       "1702    From: LLBGB@utxdp.dp.utexas.edu\\nSubject: chip...\n",
       "718     From: avm1993@sigma.tamu.edu (MAMISHEV, ALEXAN...\n",
       "219     From: lady@uhunix.uhcc.Hawaii.Edu (Lee Lady)\\n...\n",
       "55      From: med50003@nusunix1.nus.sg (WANSAICHEONG K...\n",
       "174     From: long@spk.hp.com (Jerry Long)\\nSubject: R...\n",
       "1706    From: henry@zoo.toronto.edu (Henry Spencer)\\nS...\n",
       "614     From: xrcjd@mudpuppy.gsfc.nasa.gov (Charles J....\n",
       "638     From: baden@sys6626.bison.mb.ca (baden de bari...\n",
       "844     From: ml@chiron.astro.uu.se (Mats Lindgren)\\nS...\n",
       "351     From: shafer@rigel.dfrf.nasa.gov (Mary Shafer)...\n",
       "620     From: gfk39017@uxa.cso.uiuc.edu (George F. Kru...\n",
       "950     From: gallas2@marcus.its.rpi.edu (Sean Michael...\n",
       "1066    From: nickh@CS.CMU.EDU (Nick Haines)\\nSubject:...\n",
       "50      From: pgf@srl03.cacs.usl.edu (Phil G. Fraering...\n",
       "                              ...                        \n",
       "1006    From: jkeais@ucssun1.sdsu.edu (keais j)\\nSubje...\n",
       "822     From: geb@cs.pitt.edu (Gordon Banks)\\nSubject:...\n",
       "577     From: kolstad@cae.wisc.edu (Joel Kolstad)\\nSub...\n",
       "1679    Subject: Re: Can Microwaves Be Used To Collect...\n",
       "1499    From: rind@enterprise.bih.harvard.edu (David R...\n",
       "432     From: rainer@spot.Colorado.EDU (Rainer Malzben...\n",
       "1652    From: tsp@ccd.harris.com (Timothy S. Pillsbury...\n",
       "789     From: higgins@fnalf.fnal.gov (Bill Higgins-- B...\n",
       "1308    From: swalker@uts.EDU.AU (-s87271077-s.walker-...\n",
       "792     From: aws@iti.org (Allen W. Sherzer)\\nSubject:...\n",
       "375     From: karl@anasazi.com (Karl Dussik)\\nSubject:...\n",
       "133     From: wright@duca.hi.com (David Wright)\\nSubje...\n",
       "690     From: dzenc@hal.gnu.ai.mit.edu (Dan Zenchelsky...\n",
       "976     From: jgd@dixie.com (John De Armond)\\nSubject:...\n",
       "12      From: jperkski@kentcomm.uucp (Jim Perkowski)\\n...\n",
       "595     From: bhjelle@carina.unm.edu ()\\nSubject: Re: ...\n",
       "1016    From: borowski@spk.hp.com (Don T. Borowski)\\nS...\n",
       "1223    From: Wales.Larrison@ofa123.fidonet.org\\nSubje...\n",
       "1200    From: sasghm@theseus.unx.sas.com (Gary Merrill...\n",
       "1040    From: kwp@wag.caltech.edu (Kevin W. Plaxco)\\nS...\n",
       "106     From: steinly@topaz.ucsc.edu (Steinn Sigurdsso...\n",
       "396     From: wallacen@CS.ColoState.EDU (nathan wallac...\n",
       "1295    From: cash@convex.com (Peter Cash)\\nSubject: R...\n",
       "797     From: sysmgr@king.eng.umd.edu (Doug Mohney)\\nS...\n",
       "24      From: kludge@grissom.larc.nasa.gov (Scott Dors...\n",
       "190     From: markz@ssc.com (Mark Zenier)\\nSubject: Re...\n",
       "1752    From: bmdelane@midway.uchicago.edu (brian mann...\n",
       "1183    From: timd@fenian.dell.com (Tim Deagan)\\nSubje...\n",
       "370     From: mlee@eng.sdsu.edu (Mike Lee)\\nSubject: W...\n",
       "1096    From: baez@guitar.ucr.edu (john baez)\\nSubject...\n",
       "Name: text, Length: 1422, dtype: object"
      ]
     },
     "execution_count": 12,
     "metadata": {},
     "output_type": "execute_result"
    }
   ],
   "source": [
    "X_train"
   ]
  },
  {
   "cell_type": "code",
   "execution_count": 13,
   "metadata": {},
   "outputs": [],
   "source": [
    "import pickle"
   ]
  },
  {
   "cell_type": "code",
   "execution_count": 14,
   "metadata": {},
   "outputs": [],
   "source": [
    "pickle.dump(  (X_train, X_test, y_train, y_test) , open(' train_test_split_session_9.pklz', \"wb\") )"
   ]
  },
  {
   "cell_type": "code",
   "execution_count": 14,
   "metadata": {},
   "outputs": [
    {
     "data": {
      "text/plain": [
       "pandas.core.series.Series"
      ]
     },
     "execution_count": 14,
     "metadata": {},
     "output_type": "execute_result"
    }
   ],
   "source": [
    "type(X_train)"
   ]
  },
  {
   "cell_type": "code",
   "execution_count": 15,
   "metadata": {
    "scrolled": true
   },
   "outputs": [
    {
     "name": "stdout",
     "output_type": "stream",
     "text": [
      "From: webb@itu1 (90-29265  Webber  AH)\n",
      "Subject: Re: Adcom cheap products?\n",
      "Organization: Rhodes University, Grahamstown, South Africa\n",
      "X-Newsreader: TIN [version 1.1 PL8]\n",
      "Lines: 52\n",
      "\n",
      "Aaron Lung (alung@megatest.com) wrote:\n",
      ": >I was also sceptical about the amps being built in the far-east\n",
      ": >  or where-ever.  But if you look in the amp and see what components\n",
      ": >  they use and how it was designed, you can easily see why the\n",
      ": >  amplifiers sound so brilliant.\n",
      "\n",
      ": Good point...also, I wouldn't be surprised that the components\n",
      ": they use off-shore are of inferior quality.  As long as it was\n",
      ": properly designed and robust, premium components are used, it\n",
      ": shouldn't matter where it is assembled.\n",
      "\n",
      "Definately, I agree wholeheartedly.  If they can build the amp where\n",
      "  the labour is not so expensive, they can afford to put decent\n",
      "  components in and go to more effort to improve the design of the\n",
      "  amplifier - as Adcom has done.\n",
      "\n",
      ": >I cannot see why people say the amplifier won't last - not with\n",
      ": >  those quality components inside.  Sure the amp runs very fairly\n",
      ": >  hot - but that's how you get an amp to sound incredibly good.\n",
      "\n",
      ": An amp that runs hot has no bearing on how it's gonna sound.\n",
      ": The amp you have probably is running Class-A the whole day.\n",
      "\n",
      ": Actually, I'd be wary of excessively hot amps, 'cauz even though\n",
      ": the components inside may be rated to run that way, excessive \n",
      ": heat will dramatically shorten the life of *any* electronic component\n",
      ": regardless of quality.  In fact, an amp that does run hot to the touch is\n",
      ": because either the engineer or manufacturer of that amp wanted\n",
      ": to skimp on heatsinking or cooling to save costs!  Hmmmmm....\n",
      "\n",
      "Sure, I didn't mean to imply that because of the heat generated, the\n",
      "  amp sounds good.  My Adcom GFP 535II runs fairly warm - not hot to\n",
      "  the touch - but enough to satisfy me that the amp is running nicely.\n",
      "I don't like it when an amp runs dead-cold.  It makes one think that\n",
      "  the amp is doing nothing :)\n",
      "The heatsinks that Adcom uses in their amps are certainly far for\n",
      "  skimpy - they're massive things with heating vents both below\n",
      "  and above.  More than enough to carry away excessive heat.\n",
      "\n",
      "My opinions once again.\n",
      "\n",
      "--\n",
      "***********************************************************************\n",
      "**    Alan Webber                                                    **\n",
      "**                      webb@itu1.sun.ac.za                          **\n",
      "**                      webb@itu2.sun.ac.za                          **\n",
      "**                                                                   **\n",
      "** The path you tread is narrow and the drop is sheer and very high  **\n",
      "** The ravens all are watching from a vantage point near by          **\n",
      "** Apprehension creeping like a choo-train up your spine             **\n",
      "** Will the tightrope reach the end; will the final couplet rhyme    **\n",
      "***********************************************************************\n",
      "\n"
     ]
    }
   ],
   "source": [
    "print(X_train[1433])"
   ]
  },
  {
   "cell_type": "markdown",
   "metadata": {},
   "source": [
    "#### Exercise 1.1: download sklearn fetch_20newsgroups datasets for categories, perform train/test split, save it in a pickle format\n",
    "'sci.electronics',\n",
    "'sci.med',\n",
    "'sci.space',\n",
    "\n",
    "\n",
    "same as above, other cat, but in other varaiables"
   ]
  },
  {
   "cell_type": "code",
   "execution_count": 18,
   "metadata": {},
   "outputs": [
    {
     "name": "stdout",
     "output_type": "stream",
     "text": [
      "Loading 20 newsgroups dataset for categories:\n",
      "['alt.atheism', 'talk.religion.misc', 'comp.graphics']\n",
      "1441 documents\n",
      "3 categories\n"
     ]
    }
   ],
   "source": [
    "test_data = fetch_20newsgroups()\n",
    "\n",
    "categories = [\n",
    "   'alt.atheism', 'talk.religion.misc','comp.graphics'\n",
    "]\n",
    "\n",
    "print(\"Loading 20 newsgroups dataset for categories:\")\n",
    "print(categories)\n",
    "data = fetch_20newsgroups(subset='train', categories=categories)\n",
    "print(\"%d documents\" % len(data.filenames))\n",
    "print(\"%d categories\" % len(data.target_names))"
   ]
  },
  {
   "cell_type": "code",
   "execution_count": 19,
   "metadata": {},
   "outputs": [
    {
     "data": {
      "text/html": [
       "<div>\n",
       "<style scoped>\n",
       "    .dataframe tbody tr th:only-of-type {\n",
       "        vertical-align: middle;\n",
       "    }\n",
       "\n",
       "    .dataframe tbody tr th {\n",
       "        vertical-align: top;\n",
       "    }\n",
       "\n",
       "    .dataframe thead th {\n",
       "        text-align: right;\n",
       "    }\n",
       "</style>\n",
       "<table border=\"1\" class=\"dataframe\">\n",
       "  <thead>\n",
       "    <tr style=\"text-align: right;\">\n",
       "      <th></th>\n",
       "      <th>text</th>\n",
       "      <th>target</th>\n",
       "    </tr>\n",
       "  </thead>\n",
       "  <tbody>\n",
       "    <tr>\n",
       "      <th>0</th>\n",
       "      <td>From: psyrobtw@ubvmsd.cc.buffalo.edu (Robert W...</td>\n",
       "      <td>2</td>\n",
       "    </tr>\n",
       "    <tr>\n",
       "      <th>1</th>\n",
       "      <td>From: myless@vaxc.cc.monash.edu.au (Myles Stro...</td>\n",
       "      <td>1</td>\n",
       "    </tr>\n",
       "    <tr>\n",
       "      <th>2</th>\n",
       "      <td>Organization: Penn State University\\nFrom: &lt;DG...</td>\n",
       "      <td>2</td>\n",
       "    </tr>\n",
       "    <tr>\n",
       "      <th>3</th>\n",
       "      <td>From: jaeger@buphy.bu.edu (Gregg Jaeger)\\nSubj...</td>\n",
       "      <td>0</td>\n",
       "    </tr>\n",
       "    <tr>\n",
       "      <th>4</th>\n",
       "      <td>From: thinman@netcom.com (Technically Sweet)\\n...</td>\n",
       "      <td>1</td>\n",
       "    </tr>\n",
       "  </tbody>\n",
       "</table>\n",
       "</div>"
      ],
      "text/plain": [
       "                                                text  target\n",
       "0  From: psyrobtw@ubvmsd.cc.buffalo.edu (Robert W...       2\n",
       "1  From: myless@vaxc.cc.monash.edu.au (Myles Stro...       1\n",
       "2  Organization: Penn State University\\nFrom: <DG...       2\n",
       "3  From: jaeger@buphy.bu.edu (Gregg Jaeger)\\nSubj...       0\n",
       "4  From: thinman@netcom.com (Technically Sweet)\\n...       1"
      ]
     },
     "execution_count": 19,
     "metadata": {},
     "output_type": "execute_result"
    }
   ],
   "source": [
    "df = pd.DataFrame({'text': data.data, 'target': data.target})\n",
    "df.head()"
   ]
  },
  {
   "cell_type": "code",
   "execution_count": 16,
   "metadata": {},
   "outputs": [
    {
     "name": "stdout",
     "output_type": "stream",
     "text": [
      "<class 'pandas.core.series.Series'>\n"
     ]
    }
   ],
   "source": [
    "print(type(X_train))\n",
    "pickle.dump(  (X_train, X_test, y_train, y_test) , open('Train_and_Test_local.pklz', \"wb\") )\n",
    "pickle.dump( df, open('df', 'wb'))"
   ]
  },
  {
   "cell_type": "code",
   "execution_count": 21,
   "metadata": {},
   "outputs": [
    {
     "data": {
      "text/plain": [
       "(1433    From: webb@itu1 (90-29265  Webber  AH)\\nSubjec...\n",
       " 967     From: shafer@rigel.dfrf.nasa.gov (Mary Shafer)...\n",
       " 210     From: drickel@bounce.mentorg.com (Dave Rickel)...\n",
       " 1616    From: ron.roth@rose.com (ron roth)\\nSubject: S...\n",
       " 445     From: jim.zisfein@factory.com (Jim Zisfein) \\n...\n",
       " 308     From: tony@nexus.yorku.ca (Anthony Wallis)\\nSu...\n",
       " 1373    From: nsmca@aurora.alaska.edu\\nSubject: MACH 2...\n",
       " 824     Subject: good book\\nFrom: RGINZBERG@eagle.wesl...\n",
       " 821     From: jam@ameslab.gov (Jerry Musselman)\\nSubje...\n",
       " 398     From: lancer@oconnor.WPI.EDU (Stephe Lewis Fos...\n",
       " 1261    Subject: Broken rib\\nFrom: jc@oneb.almanac.bc....\n",
       " 244     From: squish@endor.uucp (Shishin Yamada)\\nSubj...\n",
       " 1691    From: prb@access.digex.com (Pat)\\nSubject: Re:...\n",
       " 165     From: aldridge@netcom.com (Jacquelin Aldridge)...\n",
       " 876     From: ETRAT@ttacs1.ttu.edu (Pack Rat)\\nSubject...\n",
       " 211     From: pete@extro.ucc.su.OZ.AU (Peter Alexander...\n",
       " 1702    From: LLBGB@utxdp.dp.utexas.edu\\nSubject: chip...\n",
       " 718     From: avm1993@sigma.tamu.edu (MAMISHEV, ALEXAN...\n",
       " 219     From: lady@uhunix.uhcc.Hawaii.Edu (Lee Lady)\\n...\n",
       " 55      From: med50003@nusunix1.nus.sg (WANSAICHEONG K...\n",
       " 174     From: long@spk.hp.com (Jerry Long)\\nSubject: R...\n",
       " 1706    From: henry@zoo.toronto.edu (Henry Spencer)\\nS...\n",
       " 614     From: xrcjd@mudpuppy.gsfc.nasa.gov (Charles J....\n",
       " 638     From: baden@sys6626.bison.mb.ca (baden de bari...\n",
       " 844     From: ml@chiron.astro.uu.se (Mats Lindgren)\\nS...\n",
       " 351     From: shafer@rigel.dfrf.nasa.gov (Mary Shafer)...\n",
       " 620     From: gfk39017@uxa.cso.uiuc.edu (George F. Kru...\n",
       " 950     From: gallas2@marcus.its.rpi.edu (Sean Michael...\n",
       " 1066    From: nickh@CS.CMU.EDU (Nick Haines)\\nSubject:...\n",
       " 50      From: pgf@srl03.cacs.usl.edu (Phil G. Fraering...\n",
       "                               ...                        \n",
       " 1006    From: jkeais@ucssun1.sdsu.edu (keais j)\\nSubje...\n",
       " 822     From: geb@cs.pitt.edu (Gordon Banks)\\nSubject:...\n",
       " 577     From: kolstad@cae.wisc.edu (Joel Kolstad)\\nSub...\n",
       " 1679    Subject: Re: Can Microwaves Be Used To Collect...\n",
       " 1499    From: rind@enterprise.bih.harvard.edu (David R...\n",
       " 432     From: rainer@spot.Colorado.EDU (Rainer Malzben...\n",
       " 1652    From: tsp@ccd.harris.com (Timothy S. Pillsbury...\n",
       " 789     From: higgins@fnalf.fnal.gov (Bill Higgins-- B...\n",
       " 1308    From: swalker@uts.EDU.AU (-s87271077-s.walker-...\n",
       " 792     From: aws@iti.org (Allen W. Sherzer)\\nSubject:...\n",
       " 375     From: karl@anasazi.com (Karl Dussik)\\nSubject:...\n",
       " 133     From: wright@duca.hi.com (David Wright)\\nSubje...\n",
       " 690     From: dzenc@hal.gnu.ai.mit.edu (Dan Zenchelsky...\n",
       " 976     From: jgd@dixie.com (John De Armond)\\nSubject:...\n",
       " 12      From: jperkski@kentcomm.uucp (Jim Perkowski)\\n...\n",
       " 595     From: bhjelle@carina.unm.edu ()\\nSubject: Re: ...\n",
       " 1016    From: borowski@spk.hp.com (Don T. Borowski)\\nS...\n",
       " 1223    From: Wales.Larrison@ofa123.fidonet.org\\nSubje...\n",
       " 1200    From: sasghm@theseus.unx.sas.com (Gary Merrill...\n",
       " 1040    From: kwp@wag.caltech.edu (Kevin W. Plaxco)\\nS...\n",
       " 106     From: steinly@topaz.ucsc.edu (Steinn Sigurdsso...\n",
       " 396     From: wallacen@CS.ColoState.EDU (nathan wallac...\n",
       " 1295    From: cash@convex.com (Peter Cash)\\nSubject: R...\n",
       " 797     From: sysmgr@king.eng.umd.edu (Doug Mohney)\\nS...\n",
       " 24      From: kludge@grissom.larc.nasa.gov (Scott Dors...\n",
       " 190     From: markz@ssc.com (Mark Zenier)\\nSubject: Re...\n",
       " 1752    From: bmdelane@midway.uchicago.edu (brian mann...\n",
       " 1183    From: timd@fenian.dell.com (Tim Deagan)\\nSubje...\n",
       " 370     From: mlee@eng.sdsu.edu (Mike Lee)\\nSubject: W...\n",
       " 1096    From: baez@guitar.ucr.edu (john baez)\\nSubject...\n",
       " Name: text, Length: 1422, dtype: object,\n",
       " 92      From: young@serum.kodak.com (Rich Young)\\nSubj...\n",
       " 330     From: pauls@trsvax.tandy.com\\nSubject: Re: Nee...\n",
       " 9       Subject: Burzynski's \"Antineoplastons\"\\nFrom: ...\n",
       " 1039    From: corleyg@ul.ie\\nSubject: Microstrip help ...\n",
       " 677     From: scst83@csc.liv.ac.uk (Mr. C.D. Smith)\\nS...\n",
       " 807     From: will@rins.ryukoku.ac.jp (William Reiken)...\n",
       " 1032    From: iisakkil@gamma.hut.fi (Mika Iisakkila)\\n...\n",
       " 1648    From: dbm0000@tm0006.lerc.nasa.gov (David B. M...\n",
       " 676     From: ab961@Freenet.carleton.ca (Robert Alliso...\n",
       " 1633    From: dpage@ra.csc.ti.com (Doug Page)\\nSubject...\n",
       " 724     From: geb@cs.pitt.edu (Gordon Banks)\\nSubject:...\n",
       " 903     From: mcovingt@aisun3.ai.uga.edu (Michael Covi...\n",
       " 1526    From: jbh55289@uxa.cso.uiuc.edu (Josh Hopkins)...\n",
       " 954     From: mont@netcom.com (Mont Pierce)\\nSubject: ...\n",
       " 1536    From: km@ky3b.pgh.pa.us (Ken Mitchum)\\nSubject...\n",
       " 1229    From: robg@citr.uq.oz.au (Rob Geraghty)\\nSubje...\n",
       " 403     From: med50003@nusunix1.nus.sg (WANSAICHEONG K...\n",
       " 1030    From: edhall@rand.org (Ed Hall)\\nSubject: Re: ...\n",
       " 372     From: geb@cs.pitt.edu (Gordon Banks)\\nSubject:...\n",
       " 1274    From: rborden@ugly.UVic.CA (Ross  Borden)\\nSub...\n",
       " 1028    From: sheaffer@netcom.com (Robert Sheaffer)\\nS...\n",
       " 216     From: mjhill@eos.ncsu.edu (MICHAEL JAMES HILL)...\n",
       " 1509    From: pgf@srl03.cacs.usl.edu (Phil G. Fraering...\n",
       " 929     Subject: Re: Arythmia\\nFrom: perry1@husc10.har...\n",
       " 826     From: aj008@cleveland.Freenet.Edu (Aaron M. Ba...\n",
       " 1163    From: sue@netcom.com (Sue Miller)\\nSubject: Re...\n",
       " 229     From: mpaul@unl.edu (marxhausen paul)\\nSubject...\n",
       " 1502    From: zstewart@nyx.cs.du.edu (Zhahai Stewart)\\...\n",
       " 870     From: palmer@cco.caltech.edu (David M. Palmer)...\n",
       " 0       From: landis@stsci.edu (Robert Landis,S202,,)\\...\n",
       "                               ...                        \n",
       " 1281    From: steinly@topaz.ucsc.edu (Steinn Sigurdsso...\n",
       " 127     From: drand@spinner.osf.org (Douglas S. Rand)\\...\n",
       " 805     From: degroff@netcom.com (21012d)\\nSubject: Re...\n",
       " 1379    From: jcm@head-cfa.harvard.edu (Jonathan McDow...\n",
       " 1124    From: vilok@bmerh322.bnr.ca (Vilok Kusumakar)\\...\n",
       " 1292    From: cain@geomag.gly.fsu.edu (Joe Cain)\\nSubj...\n",
       " 1350    From: et@teal.csn.org (Eric H. Taylor)\\nSubjec...\n",
       " 912     From: whit@carson.u.washington.edu (John Whitm...\n",
       " 1298    From: dclaar@cup.hp.com (Doug Claar)\\nSubject:...\n",
       " 468     Organization: Queen's University at Kingston\\n...\n",
       " 1624    From: russ@pmafire.inel.gov (Russ Brown)\\nSubj...\n",
       " 555     From: alan@apple.com (Alan Mimms)\\nSubject: Re...\n",
       " 1164    From: euclid@mrcnext.cso.uiuc.edu (Euclid K.)\\...\n",
       " 1471    From: jgreen@trumpet.calpoly.edu (James Thomas...\n",
       " 456     From: gsh7w@fermi.clas.Virginia.EDU (Greg Henn...\n",
       " 1397    From: jgreen@trumpet.calpoly.edu (James Thomas...\n",
       " 558     From: dgempey@ucscb.UCSC.EDU (David Gordon Emp...\n",
       " 1693    From: daviss@sweetpea.jsc.nasa.gov (S.F. Davis...\n",
       " 1475    From: green@island.COM (Robert Greenstein)\\nSu...\n",
       " 1455    From: ron.roth@rose.com (ron roth)\\nSubject: S...\n",
       " 1656    From: tomca@microsoft.com (Tom B. Carey)\\nSubj...\n",
       " 994     From: johne@vcd.hp.com (John Eaton)\\nSubject: ...\n",
       " 1243    From: kxgst1+@pitt.edu (Kenneth Gilbert)\\nSubj...\n",
       " 1065    From: mike@starburst.umd.edu (Michael F. Santa...\n",
       " 1250    From: maverick@wpi.WPI.EDU (T. Giaquinto)\\nSub...\n",
       " 77      From: C.H.A.Wong@bradford.ac.uk (CHA WONG)\\nSu...\n",
       " 1725    From: marco@sdf.lonestar.org (Steve Giammarco)...\n",
       " 674     From: mancus@sweetpea.jsc.nasa.gov (Keith Manc...\n",
       " 186     From: cmwolf@mtu.edu (Engineer by Day - Asleep...\n",
       " 1607    From: gerald.belton@ozonehole.com (Gerald Belt...\n",
       " Name: text, Length: 356, dtype: object,\n",
       " 1433    0\n",
       " 967     2\n",
       " 210     2\n",
       " 1616    1\n",
       " 445     1\n",
       " 308     1\n",
       " 1373    2\n",
       " 824     1\n",
       " 821     0\n",
       " 398     0\n",
       " 1261    1\n",
       " 244     0\n",
       " 1691    2\n",
       " 165     1\n",
       " 876     2\n",
       " 211     2\n",
       " 1702    0\n",
       " 718     0\n",
       " 219     1\n",
       " 55      1\n",
       " 174     0\n",
       " 1706    2\n",
       " 614     2\n",
       " 638     0\n",
       " 844     2\n",
       " 351     1\n",
       " 620     2\n",
       " 950     2\n",
       " 1066    2\n",
       " 50      2\n",
       "        ..\n",
       " 1006    0\n",
       " 822     1\n",
       " 577     0\n",
       " 1679    0\n",
       " 1499    1\n",
       " 432     0\n",
       " 1652    0\n",
       " 789     2\n",
       " 1308    0\n",
       " 792     2\n",
       " 375     1\n",
       " 133     1\n",
       " 690     0\n",
       " 976     1\n",
       " 12      1\n",
       " 595     1\n",
       " 1016    0\n",
       " 1223    2\n",
       " 1200    1\n",
       " 1040    2\n",
       " 106     2\n",
       " 396     2\n",
       " 1295    1\n",
       " 797     2\n",
       " 24      0\n",
       " 190     0\n",
       " 1752    1\n",
       " 1183    0\n",
       " 370     0\n",
       " 1096    2\n",
       " Name: target, Length: 1422, dtype: int64,\n",
       " 92      1\n",
       " 330     0\n",
       " 9       1\n",
       " 1039    0\n",
       " 677     0\n",
       " 807     2\n",
       " 1032    0\n",
       " 1648    2\n",
       " 676     1\n",
       " 1633    2\n",
       " 724     1\n",
       " 903     0\n",
       " 1526    2\n",
       " 954     0\n",
       " 1536    1\n",
       " 1229    1\n",
       " 403     1\n",
       " 1030    0\n",
       " 372     1\n",
       " 1274    2\n",
       " 1028    2\n",
       " 216     0\n",
       " 1509    2\n",
       " 929     1\n",
       " 826     0\n",
       " 1163    1\n",
       " 229     0\n",
       " 1502    0\n",
       " 870     2\n",
       " 0       2\n",
       "        ..\n",
       " 1281    2\n",
       " 127     0\n",
       " 805     2\n",
       " 1379    2\n",
       " 1124    1\n",
       " 1292    2\n",
       " 1350    0\n",
       " 912     0\n",
       " 1298    0\n",
       " 468     0\n",
       " 1624    1\n",
       " 555     0\n",
       " 1164    1\n",
       " 1471    2\n",
       " 456     2\n",
       " 1397    2\n",
       " 558     2\n",
       " 1693    2\n",
       " 1475    1\n",
       " 1455    1\n",
       " 1656    1\n",
       " 994     0\n",
       " 1243    1\n",
       " 1065    2\n",
       " 1250    2\n",
       " 77      2\n",
       " 1725    1\n",
       " 674     2\n",
       " 186     0\n",
       " 1607    0\n",
       " Name: target, Length: 356, dtype: int64)"
      ]
     },
     "execution_count": 21,
     "metadata": {},
     "output_type": "execute_result"
    }
   ],
   "source": [
    "pickle.load( open('Train_and_Test_local.pklz',\"rb\") ) \n",
    "pickle.load( open('df.pklz',\"rb\") ) "
   ]
  }
 ],
 "metadata": {
  "kernelspec": {
   "display_name": "Python 3",
   "language": "python",
   "name": "python3"
  },
  "language_info": {
   "codemirror_mode": {
    "name": "ipython",
    "version": 3
   },
   "file_extension": ".py",
   "mimetype": "text/x-python",
   "name": "python",
   "nbconvert_exporter": "python",
   "pygments_lexer": "ipython3",
   "version": "3.6.6"
  }
 },
 "nbformat": 4,
 "nbformat_minor": 2
}
