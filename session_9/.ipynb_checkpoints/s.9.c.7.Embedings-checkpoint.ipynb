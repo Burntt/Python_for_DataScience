{
 "cells": [
  {
   "cell_type": "markdown",
   "metadata": {},
   "source": [
    "#### Cosine distance"
   ]
  },
  {
   "cell_type": "code",
   "execution_count": 1,
   "metadata": {},
   "outputs": [],
   "source": [
    "from scipy.spatial import distance"
   ]
  },
  {
   "cell_type": "code",
   "execution_count": 2,
   "metadata": {
    "collapsed": true
   },
   "outputs": [
    {
     "ename": "TypeError",
     "evalue": "cosine() missing 2 required positional arguments: 'u' and 'v'",
     "output_type": "error",
     "traceback": [
      "\u001b[0;31m---------------------------------------------------------------------------\u001b[0m",
      "\u001b[0;31mTypeError\u001b[0m                                 Traceback (most recent call last)",
      "\u001b[0;32m<ipython-input-2-390b3cfce30e>\u001b[0m in \u001b[0;36m<module>\u001b[0;34m\u001b[0m\n\u001b[0;32m----> 1\u001b[0;31m \u001b[0mdistance\u001b[0m\u001b[0;34m.\u001b[0m\u001b[0mcosine\u001b[0m\u001b[0;34m(\u001b[0m\u001b[0;34m)\u001b[0m\u001b[0;34m\u001b[0m\u001b[0m\n\u001b[0m",
      "\u001b[0;31mTypeError\u001b[0m: cosine() missing 2 required positional arguments: 'u' and 'v'"
     ]
    }
   ],
   "source": [
    "distance.cosine()"
   ]
  },
  {
   "cell_type": "markdown",
   "metadata": {},
   "source": [
    "#### Gensim embeding"
   ]
  },
  {
   "cell_type": "code",
   "execution_count": 3,
   "metadata": {},
   "outputs": [],
   "source": [
    "from gensim.test.utils import common_texts, get_tmpfile\n",
    "from gensim.models import Word2Vec\n",
    "\n",
    "path = get_tmpfile(\"word2vec.model\")\n",
    "\n",
    "model = Word2Vec(common_texts, size=100, window=5, min_count=1, workers=4)\n",
    "model.save(\"word2vec.model\")"
   ]
  },
  {
   "cell_type": "code",
   "execution_count": 4,
   "metadata": {},
   "outputs": [],
   "source": [
    "from gensim.models import KeyedVectors"
   ]
  },
  {
   "cell_type": "code",
   "execution_count": 6,
   "metadata": {},
   "outputs": [
    {
     "name": "stdout",
     "output_type": "stream",
     "text": [
      "--2020-10-29 10:46:35--  https://s3.amazonaws.com/dl4j-distribution/GoogleNews-vectors-negative300.bin.gz\n",
      "Resolving s3.amazonaws.com (s3.amazonaws.com)... 52.216.114.205\n",
      "Connecting to s3.amazonaws.com (s3.amazonaws.com)|52.216.114.205|:443... connected.\n",
      "HTTP request sent, awaiting response... 200 OK\n",
      "Length: 1647046227 (1.5G) [application/x-gzip]\n",
      "Saving to: ‘GoogleNews-vectors-negative300.bin.gz’\n",
      "\n",
      "GoogleNews-vectors- 100%[===================>]   1.53G  25.1MB/s    in 63s     \n",
      "\n",
      "2020-10-29 10:47:38 (24.8 MB/s) - ‘GoogleNews-vectors-negative300.bin.gz’ saved [1647046227/1647046227]\n",
      "\n"
     ]
    }
   ],
   "source": [
    "!wget -c https://s3.amazonaws.com/dl4j-distribution/GoogleNews-vectors-negative300.bin.gz"
   ]
  },
  {
   "cell_type": "code",
   "execution_count": 9,
   "metadata": {},
   "outputs": [],
   "source": [
    "!gzip -d GoogleNews-vectors-negative300.bin.gz"
   ]
  },
  {
   "cell_type": "code",
   "execution_count": 10,
   "metadata": {},
   "outputs": [],
   "source": [
    "!mv GoogleNews-vectors-negative300.bin .."
   ]
  },
  {
   "cell_type": "code",
   "execution_count": 11,
   "metadata": {},
   "outputs": [],
   "source": [
    "model = KeyedVectors.load_word2vec_format('/home/ubuntu/GoogleNews-vectors-negative300.bin', binary=True)\n"
   ]
  },
  {
   "cell_type": "code",
   "execution_count": 12,
   "metadata": {},
   "outputs": [],
   "source": [
    "text_for_analysis = \\\n",
    "    'The most innovative technology lives hand in hand with great design'"
   ]
  },
  {
   "cell_type": "code",
   "execution_count": 13,
   "metadata": {
    "scrolled": true
   },
   "outputs": [],
   "source": [
    "vectors = [model[x] for x in text_for_analysis.split(' ')]"
   ]
  },
  {
   "cell_type": "code",
   "execution_count": 14,
   "metadata": {},
   "outputs": [
    {
     "data": {
      "text/plain": [
       "(300,)"
      ]
     },
     "execution_count": 14,
     "metadata": {},
     "output_type": "execute_result"
    }
   ],
   "source": [
    "vectors[0].shape"
   ]
  },
  {
   "cell_type": "code",
   "execution_count": 15,
   "metadata": {},
   "outputs": [
    {
     "data": {
      "text/plain": [
       "0.6884577870368958"
      ]
     },
     "execution_count": 15,
     "metadata": {},
     "output_type": "execute_result"
    }
   ],
   "source": [
    "distance.cosine( model['Harbor'], model['sea'])"
   ]
  },
  {
   "cell_type": "code",
   "execution_count": 16,
   "metadata": {},
   "outputs": [
    {
     "data": {
      "text/plain": [
       "0.8935506716370583"
      ]
     },
     "execution_count": 16,
     "metadata": {},
     "output_type": "execute_result"
    }
   ],
   "source": [
    "distance.cosine( model['Harbor'], model['Barcelona'])"
   ]
  },
  {
   "cell_type": "code",
   "execution_count": 17,
   "metadata": {},
   "outputs": [
    {
     "data": {
      "text/plain": [
       "0.7504943758249283"
      ]
     },
     "execution_count": 17,
     "metadata": {},
     "output_type": "execute_result"
    }
   ],
   "source": [
    "distance.cosine( model['Harbor'], model['ship'])"
   ]
  },
  {
   "cell_type": "code",
   "execution_count": 18,
   "metadata": {},
   "outputs": [
    {
     "data": {
      "text/plain": [
       "0.38310855627059937"
      ]
     },
     "execution_count": 18,
     "metadata": {},
     "output_type": "execute_result"
    }
   ],
   "source": [
    "distance.cosine( model['boat'], model['ship'])"
   ]
  },
  {
   "cell_type": "code",
   "execution_count": 19,
   "metadata": {},
   "outputs": [
    {
     "data": {
      "text/plain": [
       "0.8759516403079033"
      ]
     },
     "execution_count": 19,
     "metadata": {},
     "output_type": "execute_result"
    }
   ],
   "source": [
    "distance.cosine( model['boat'], model['goat'])"
   ]
  },
  {
   "cell_type": "code",
   "execution_count": 21,
   "metadata": {},
   "outputs": [
    {
     "name": "stdout",
     "output_type": "stream",
     "text": [
      "1.0291901398450136 The\n",
      "0.8965152725577354 most\n",
      "0.7164721190929413 innovative\n",
      "0.7040139734745026 technology\n",
      "0.9470963552594185 lives\n",
      "0.9176338538527489 hand\n",
      "0.8761060982942581 in\n",
      "0.9176338538527489 hand\n",
      "0.9169945791363716 with\n",
      "0.8278181999921799 great\n",
      "0.6652568876743317 design\n"
     ]
    }
   ],
   "source": [
    "for i,vector in enumerate(vectors):\n",
    "    print(distance.cosine(vector,model['art']), text_for_analysis.split(' ')[i])"
   ]
  },
  {
   "cell_type": "code",
   "execution_count": 39,
   "metadata": {},
   "outputs": [
    {
     "data": {
      "text/plain": [
       "0.4597814679145813"
      ]
     },
     "execution_count": 39,
     "metadata": {},
     "output_type": "execute_result"
    }
   ],
   "source": [
    "distance.cosine(model['Spain'], model['Germany'])"
   ]
  },
  {
   "cell_type": "code",
   "execution_count": 43,
   "metadata": {},
   "outputs": [
    {
     "data": {
      "text/plain": [
       "0.3935779929161072"
      ]
     },
     "execution_count": 43,
     "metadata": {},
     "output_type": "execute_result"
    }
   ],
   "source": [
    "distance.cosine(model['Spain'], model['France'])"
   ]
  },
  {
   "cell_type": "code",
   "execution_count": 41,
   "metadata": {},
   "outputs": [
    {
     "data": {
      "text/plain": [
       "0.2779642343521118"
      ]
     },
     "execution_count": 41,
     "metadata": {},
     "output_type": "execute_result"
    }
   ],
   "source": [
    "distance.cosine(model['Spain'], model['Portugal'])"
   ]
  },
  {
   "cell_type": "code",
   "execution_count": 16,
   "metadata": {},
   "outputs": [
    {
     "data": {
      "text/plain": [
       "9"
      ]
     },
     "execution_count": 16,
     "metadata": {},
     "output_type": "execute_result"
    }
   ],
   "source": [
    "len(vectors)"
   ]
  },
  {
   "cell_type": "code",
   "execution_count": 21,
   "metadata": {},
   "outputs": [
    {
     "data": {
      "text/plain": [
       "(300,)"
      ]
     },
     "execution_count": 21,
     "metadata": {},
     "output_type": "execute_result"
    }
   ],
   "source": [
    "vectors[0].shape"
   ]
  },
  {
   "cell_type": "markdown",
   "metadata": {},
   "source": [
    "#### Exercise 3: try context aware embedings with ELMO"
   ]
  },
  {
   "cell_type": "code",
   "execution_count": 8,
   "metadata": {},
   "outputs": [
    {
     "name": "stdout",
     "output_type": "stream",
     "text": [
      "elmo_2x4096_512_2048cnn_2xhighway_5.5B_weights.hdf5\r\n"
     ]
    }
   ],
   "source": [
    "!ls /home/ubuntu/elmo_2x4096_512_2048cnn_2xhighway_5.5B_weights.hdf5"
   ]
  },
  {
   "cell_type": "code",
   "execution_count": 23,
   "metadata": {
    "collapsed": true
   },
   "outputs": [
    {
     "ename": "ModuleNotFoundError",
     "evalue": "No module named 'allennlp'",
     "output_type": "error",
     "traceback": [
      "\u001b[0;31m---------------------------------------------------------------------------\u001b[0m",
      "\u001b[0;31mModuleNotFoundError\u001b[0m                       Traceback (most recent call last)",
      "\u001b[0;32m<ipython-input-23-d50cc941ae08>\u001b[0m in \u001b[0;36m<module>\u001b[0;34m\u001b[0m\n\u001b[0;32m----> 1\u001b[0;31m \u001b[0;32mfrom\u001b[0m \u001b[0mallennlp\u001b[0m\u001b[0;34m.\u001b[0m\u001b[0mcommands\u001b[0m\u001b[0;34m.\u001b[0m\u001b[0melmo\u001b[0m \u001b[0;32mimport\u001b[0m \u001b[0mElmoEmbedder\u001b[0m\u001b[0;34m\u001b[0m\u001b[0m\n\u001b[0m\u001b[1;32m      2\u001b[0m elmo = ElmoEmbedder(weight_file\\\n\u001b[1;32m      3\u001b[0m                         =' /home/ubuntu/elmo_2x4096_512_2048cnn_2xhighway_5.5B_weights.hdf5')\n",
      "\u001b[0;31mModuleNotFoundError\u001b[0m: No module named 'allennlp'"
     ]
    }
   ],
   "source": [
    "from allennlp.commands.elmo import ElmoEmbedder\n",
    "elmo = ElmoEmbedder(weight_file\\\n",
    "                        =' /home/ubuntu/elmo_2x4096_512_2048cnn_2xhighway_5.5B_weights.hdf5')"
   ]
  },
  {
   "cell_type": "code",
   "execution_count": null,
   "metadata": {},
   "outputs": [],
   "source": [
    "vectors_elmo = elmo.embed_sentence(\n",
    "        'I ate an apple for breakfast'.split(\" \")\n",
    ")"
   ]
  },
  {
   "cell_type": "code",
   "execution_count": null,
   "metadata": {},
   "outputs": [],
   "source": []
  },
  {
   "cell_type": "code",
   "execution_count": 28,
   "metadata": {},
   "outputs": [
    {
     "data": {
      "text/plain": [
       "'I ate an apple for breakfast'"
      ]
     },
     "execution_count": 28,
     "metadata": {},
     "output_type": "execute_result"
    }
   ],
   "source": [
    "\" \".join( [\"I\", \"ate\", \"an\", \"apple\", \"for\", \"breakfast\"])"
   ]
  },
  {
   "cell_type": "code",
   "execution_count": 17,
   "metadata": {},
   "outputs": [],
   "source": [
    "tokens = [\"I\", \"ate\", \"an\", \"apple\", \"for\", \"breakfast\"]\n",
    "vectors_elmo = elmo.embed_sentence(tokens)"
   ]
  },
  {
   "cell_type": "code",
   "execution_count": 19,
   "metadata": {
    "collapsed": true
   },
   "outputs": [
    {
     "data": {
      "text/plain": [
       "array([[[-6.79333657e-02, -2.52559334e-01, -1.03589855e-01, ...,\n",
       "         -8.72765258e-02, -8.70569646e-02, -1.18727833e-02],\n",
       "        [-7.98218846e-02, -1.86040878e-01,  2.00441986e-01, ...,\n",
       "          5.48470989e-02,  2.88392484e-01, -1.89526588e-01],\n",
       "        [-3.64798903e-01, -6.85286894e-02,  5.60156107e-02, ...,\n",
       "         -4.17151377e-02, -1.18192822e-01, -1.74395293e-02],\n",
       "        [-3.60579431e-01,  4.20438260e-01,  3.40165555e-01, ...,\n",
       "          4.02825892e-01,  1.83227465e-01, -5.59873432e-02],\n",
       "        [ 5.95672391e-02,  7.17996806e-02,  2.72936746e-03, ...,\n",
       "         -3.90242599e-02,  2.69145537e-02, -3.22407395e-01],\n",
       "        [-5.85217118e-01, -3.92053604e-01,  3.08201492e-01, ...,\n",
       "          6.06921196e-01, -2.73451954e-01, -1.35265872e-01]],\n",
       "\n",
       "       [[-1.77582875e-01, -3.56286913e-01, -2.12286919e-01, ...,\n",
       "          6.09414279e-02, -2.31909454e-02, -7.69036412e-02],\n",
       "        [-2.52683073e-01,  2.57170200e-01,  3.14080417e-01, ...,\n",
       "         -1.77171379e-01, -8.70924369e-02,  8.63923505e-02],\n",
       "        [ 1.16311088e-02,  5.48783064e-01,  8.87098908e-02, ...,\n",
       "         -1.41617462e-01, -6.21326506e-01, -7.95776770e-03],\n",
       "        [-7.84100592e-02,  3.05809140e-01, -2.35995203e-01, ...,\n",
       "         -3.81675780e-01, -4.62204903e-01, -2.27804571e-01],\n",
       "        [-3.89384329e-02,  1.44214451e-01, -6.80292696e-02, ...,\n",
       "          1.92307264e-01, -1.02678806e-01,  4.98093665e-03],\n",
       "        [-8.99820775e-02,  4.34201241e-01, -2.32286364e-01, ...,\n",
       "          1.51605114e-01,  4.14886445e-01, -5.24983034e-02]],\n",
       "\n",
       "       [[-3.50691557e-01, -5.88951170e-01,  7.81525075e-02, ...,\n",
       "          4.84691054e-01,  3.87920856e-01,  1.62527174e-01],\n",
       "        [-7.32999563e-01,  8.72361958e-01,  5.37704229e-02, ...,\n",
       "         -7.10427046e-01, -1.15903415e-01, -7.33678564e-02],\n",
       "        [-4.27410930e-01,  3.54878306e+00, -2.84474522e-01, ...,\n",
       "         -8.08567703e-01, -1.42336392e+00,  9.15421918e-03],\n",
       "        [ 1.18175879e-01,  2.03441933e-01, -7.57262707e-01, ...,\n",
       "         -1.36361468e+00, -2.00970507e+00, -5.67098141e-01],\n",
       "        [-4.72496063e-01,  6.11086726e-01, -1.08752835e+00, ...,\n",
       "         -7.05339551e-01,  3.58175248e-01, -4.00514543e-01],\n",
       "        [-2.57613897e-01,  4.50902700e-01, -6.62229300e-01, ...,\n",
       "         -3.64938915e-01,  5.69544792e-01, -6.19473234e-02]]],\n",
       "      dtype=float32)"
      ]
     },
     "execution_count": 19,
     "metadata": {},
     "output_type": "execute_result"
    }
   ],
   "source": [
    "vectors_elmo"
   ]
  },
  {
   "cell_type": "code",
   "execution_count": 20,
   "metadata": {},
   "outputs": [
    {
     "data": {
      "text/plain": [
       "(3, 6, 1024)"
      ]
     },
     "execution_count": 20,
     "metadata": {},
     "output_type": "execute_result"
    }
   ],
   "source": [
    "vectors_elmo.shape"
   ]
  },
  {
   "cell_type": "code",
   "execution_count": 26,
   "metadata": {},
   "outputs": [
    {
     "data": {
      "text/plain": [
       "0.3587740659713745"
      ]
     },
     "execution_count": 26,
     "metadata": {},
     "output_type": "execute_result"
    }
   ],
   "source": [
    "vectors_elmo = elmo.embed_sentence([\"I\", \"just\", \"need\", \"to\", \"fix\",  \"the\", \"bug\", \"in\", \"the\", \"code\", \"today\"])\n",
    "target_word_sense_0 = vectors_elmo[2][6] # the bug in the code vector\n",
    "\n",
    "\n",
    "vectors2 = elmo.embed_sentence([\"I\", \"just\", \"saw\", \"a\", \"bug\", \"in\", \"the\", \"sunny\", \"forest\"])\n",
    "target_word_sense_1 = vectors2[2][4] # the bug in the forest vector\n",
    "distance.cosine(target_word_sense_0, target_word_sense_1)"
   ]
  },
  {
   "cell_type": "code",
   "execution_count": 33,
   "metadata": {},
   "outputs": [
    {
     "data": {
      "text/plain": [
       "0.20674782991409302"
      ]
     },
     "execution_count": 33,
     "metadata": {},
     "output_type": "execute_result"
    }
   ],
   "source": [
    "vectors3 = elmo.embed_sentence([\"I\", \"just\", \"saw\", \"a\", \"bug\", \"in\", \"the\", \"code\"])\n",
    "target_word_sense_2 = vectors3[2][4] \n",
    "distance.cosine(target_word_sense_0, target_word_sense_2)"
   ]
  },
  {
   "cell_type": "code",
   "execution_count": 34,
   "metadata": {},
   "outputs": [
    {
     "data": {
      "text/plain": [
       "0.0"
      ]
     },
     "execution_count": 34,
     "metadata": {},
     "output_type": "execute_result"
    }
   ],
   "source": [
    "distance.cosine(target_word_sense_0, target_word_sense_0)"
   ]
  },
  {
   "cell_type": "code",
   "execution_count": null,
   "metadata": {},
   "outputs": [],
   "source": [
    "import scipy"
   ]
  },
  {
   "cell_type": "code",
   "execution_count": null,
   "metadata": {},
   "outputs": [],
   "source": [
    "\n",
    "vectors2 = elmo.embed_sentence([\"I\", \"ate\", \"a\", \"carrot\", \"for\", \n",
    "\"breakfast\"])\n",
    "scipy.spatial.distance.cosine(vectors[2][3], vectors2[2][3])"
   ]
  }
 ],
 "metadata": {
  "kernelspec": {
   "display_name": "Python 3",
   "language": "python",
   "name": "python3"
  },
  "language_info": {
   "codemirror_mode": {
    "name": "ipython",
    "version": 3
   },
   "file_extension": ".py",
   "mimetype": "text/x-python",
   "name": "python",
   "nbconvert_exporter": "python",
   "pygments_lexer": "ipython3",
   "version": "3.6.6"
  }
 },
 "nbformat": 4,
 "nbformat_minor": 2
}
