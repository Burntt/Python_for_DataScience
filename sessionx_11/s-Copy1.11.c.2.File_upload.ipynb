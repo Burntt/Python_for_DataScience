{
 "cells": [
  {
   "cell_type": "code",
   "execution_count": 7,
   "metadata": {},
   "outputs": [],
   "source": [
    "import pandas as pd\n",
    "import numpy as np"
   ]
  },
  {
   "cell_type": "code",
   "execution_count": 8,
   "metadata": {},
   "outputs": [],
   "source": [
    "from __future__ import print_function\n",
    "from ipywidgets import interact, interactive, fixed, interact_manual\n",
    "import ipywidgets as widgets"
   ]
  },
  {
   "cell_type": "code",
   "execution_count": 9,
   "metadata": {},
   "outputs": [],
   "source": [
    "from IPython.display import display\n",
    "import IPython.display\n",
    "import ipywidgets as widgets"
   ]
  },
  {
   "cell_type": "markdown",
   "metadata": {},
   "source": [
    "#### File upload"
   ]
  },
  {
   "cell_type": "code",
   "execution_count": 6,
   "metadata": {},
   "outputs": [],
   "source": [
    "import fileupload"
   ]
  },
  {
   "cell_type": "code",
   "execution_count": 13,
   "metadata": {},
   "outputs": [
    {
     "name": "stdout",
     "output_type": "stream",
     "text": [
      "Known nbextensions:\r\n",
      "  config dir: /home/ubuntu/.jupyter/nbconfig\r\n",
      "    notebook section\r\n",
      "      ipyannotate/extension \u001b[32m enabled \u001b[0m\r\n",
      "      - Validating: \u001b[32mOK\u001b[0m\r\n",
      "  config dir: /opt/Anaconda3-5.2.0-Linux-x86_64/etc/jupyter/nbconfig\r\n",
      "    notebook section\r\n",
      "      jupyter-js-widgets/extension \u001b[32m enabled \u001b[0m\r\n",
      "      - Validating: \u001b[32mOK\u001b[0m\r\n"
     ]
    }
   ],
   "source": [
    "!jupyter nbextension list"
   ]
  },
  {
   "cell_type": "raw",
   "metadata": {},
   "source": [
    "Known nbextensions:\n",
    "  config dir: /home/maxmmsu/.jupyter/nbconfig\n",
    "    notebook section\n",
    "      jupyter-js-widgets/extension  enabled \n",
    "      - Validating: OK\n",
    "      fileupload/extension  enabled \n",
    "      - Validating: OK\n",
    "      ipyannotate/extension  enabled \n",
    "      - Validating: OK\n",
    "  config dir: /usr/local/etc/jupyter/nbconfig\n",
    "    notebook section\n",
    "      jupyter-js-widgets/extension  enabled \n",
    "      - Validating: OK"
   ]
  },
  {
   "cell_type": "code",
   "execution_count": 12,
   "metadata": {
    "scrolled": true
   },
   "outputs": [
    {
     "name": "stdout",
     "output_type": "stream",
     "text": [
      "Defaulting to user installation because normal site-packages is not writeable\n",
      "Collecting fileupload\n",
      "  Downloading fileupload-0.1.5-py2.py3-none-any.whl (6.2 kB)\n",
      "Requirement already satisfied: ipywidgets>=5.1 in /opt/Anaconda3-5.2.0-Linux-x86_64/lib/python3.6/site-packages (from fileupload) (7.4.1)\n",
      "Requirement already satisfied: notebook>=4.2 in /opt/Anaconda3-5.2.0-Linux-x86_64/lib/python3.6/site-packages (from fileupload) (5.6.0)\n",
      "Requirement already satisfied: traitlets>=4.2 in /home/ubuntu/.local/lib/python3.6/site-packages (from fileupload) (4.3.3)\n",
      "Requirement already satisfied: ipykernel>=4.5.1 in /home/ubuntu/.local/lib/python3.6/site-packages (from ipywidgets>=5.1->fileupload) (5.3.4)\n",
      "Requirement already satisfied: nbformat>=4.2.0 in /opt/Anaconda3-5.2.0-Linux-x86_64/lib/python3.6/site-packages (from ipywidgets>=5.1->fileupload) (4.4.0)\n",
      "Requirement already satisfied: widgetsnbextension~=3.4.0 in /opt/Anaconda3-5.2.0-Linux-x86_64/lib/python3.6/site-packages (from ipywidgets>=5.1->fileupload) (3.4.1)\n",
      "Requirement already satisfied: ipython>=4.0.0 in /home/ubuntu/.local/lib/python3.6/site-packages (from ipywidgets>=5.1->fileupload) (7.16.1)\n",
      "Requirement already satisfied: ipython-genutils in /home/ubuntu/.local/lib/python3.6/site-packages (from notebook>=4.2->fileupload) (0.2.0)\n",
      "Requirement already satisfied: nbconvert in /opt/Anaconda3-5.2.0-Linux-x86_64/lib/python3.6/site-packages (from notebook>=4.2->fileupload) (5.3.1)\n",
      "Requirement already satisfied: tornado>=4 in /home/ubuntu/.local/lib/python3.6/site-packages (from notebook>=4.2->fileupload) (5.1.1)\n",
      "Requirement already satisfied: jupyter-core>=4.4.0 in /home/ubuntu/.local/lib/python3.6/site-packages (from notebook>=4.2->fileupload) (4.6.3)\n",
      "Requirement already satisfied: Send2Trash in /opt/Anaconda3-5.2.0-Linux-x86_64/lib/python3.6/site-packages (from notebook>=4.2->fileupload) (1.5.0)\n",
      "Requirement already satisfied: jupyter-client>=5.2.0 in /home/ubuntu/.local/lib/python3.6/site-packages (from notebook>=4.2->fileupload) (6.1.7)\n",
      "Requirement already satisfied: pyzmq>=17 in /home/ubuntu/.local/lib/python3.6/site-packages (from notebook>=4.2->fileupload) (19.0.2)\n",
      "Requirement already satisfied: prometheus-client in /opt/Anaconda3-5.2.0-Linux-x86_64/lib/python3.6/site-packages (from notebook>=4.2->fileupload) (0.3.1)\n",
      "Requirement already satisfied: jinja2 in /opt/Anaconda3-5.2.0-Linux-x86_64/lib/python3.6/site-packages (from notebook>=4.2->fileupload) (2.10)\n",
      "Requirement already satisfied: terminado>=0.8.1 in /opt/Anaconda3-5.2.0-Linux-x86_64/lib/python3.6/site-packages (from notebook>=4.2->fileupload) (0.8.1)\n",
      "Requirement already satisfied: six in /home/ubuntu/.local/lib/python3.6/site-packages (from traitlets>=4.2->fileupload) (1.15.0)\n",
      "Requirement already satisfied: decorator in /home/ubuntu/.local/lib/python3.6/site-packages (from traitlets>=4.2->fileupload) (4.4.2)\n",
      "Requirement already satisfied: jsonschema!=2.5.0,>=2.4 in /opt/Anaconda3-5.2.0-Linux-x86_64/lib/python3.6/site-packages (from nbformat>=4.2.0->ipywidgets>=5.1->fileupload) (2.6.0)\n",
      "Requirement already satisfied: pickleshare in /home/ubuntu/.local/lib/python3.6/site-packages (from ipython>=4.0.0->ipywidgets>=5.1->fileupload) (0.7.5)\n",
      "Requirement already satisfied: prompt-toolkit!=3.0.0,!=3.0.1,<3.1.0,>=2.0.0 in /home/ubuntu/.local/lib/python3.6/site-packages (from ipython>=4.0.0->ipywidgets>=5.1->fileupload) (3.0.8)\n",
      "Requirement already satisfied: pexpect; sys_platform != \"win32\" in /home/ubuntu/.local/lib/python3.6/site-packages (from ipython>=4.0.0->ipywidgets>=5.1->fileupload) (4.8.0)\n",
      "Requirement already satisfied: jedi>=0.10 in /home/ubuntu/.local/lib/python3.6/site-packages (from ipython>=4.0.0->ipywidgets>=5.1->fileupload) (0.17.2)\n",
      "Requirement already satisfied: setuptools>=18.5 in /opt/Anaconda3-5.2.0-Linux-x86_64/lib/python3.6/site-packages (from ipython>=4.0.0->ipywidgets>=5.1->fileupload) (40.2.0)\n",
      "Requirement already satisfied: pygments in /home/ubuntu/.local/lib/python3.6/site-packages (from ipython>=4.0.0->ipywidgets>=5.1->fileupload) (2.7.2)\n",
      "Requirement already satisfied: backcall in /home/ubuntu/.local/lib/python3.6/site-packages (from ipython>=4.0.0->ipywidgets>=5.1->fileupload) (0.2.0)\n",
      "Requirement already satisfied: entrypoints>=0.2.2 in /opt/Anaconda3-5.2.0-Linux-x86_64/lib/python3.6/site-packages (from nbconvert->notebook>=4.2->fileupload) (0.2.3)\n",
      "Requirement already satisfied: bleach in /opt/Anaconda3-5.2.0-Linux-x86_64/lib/python3.6/site-packages (from nbconvert->notebook>=4.2->fileupload) (2.1.4)\n",
      "Requirement already satisfied: pandocfilters>=1.4.1 in /opt/Anaconda3-5.2.0-Linux-x86_64/lib/python3.6/site-packages (from nbconvert->notebook>=4.2->fileupload) (1.4.2)\n",
      "Requirement already satisfied: mistune>=0.7.4 in /opt/Anaconda3-5.2.0-Linux-x86_64/lib/python3.6/site-packages (from nbconvert->notebook>=4.2->fileupload) (0.8.3)\n",
      "Requirement already satisfied: testpath in /opt/Anaconda3-5.2.0-Linux-x86_64/lib/python3.6/site-packages (from nbconvert->notebook>=4.2->fileupload) (0.3.1)\n",
      "Requirement already satisfied: python-dateutil>=2.1 in /opt/Anaconda3-5.2.0-Linux-x86_64/lib/python3.6/site-packages (from jupyter-client>=5.2.0->notebook>=4.2->fileupload) (2.7.3)\n",
      "Requirement already satisfied: MarkupSafe>=0.23 in /opt/Anaconda3-5.2.0-Linux-x86_64/lib/python3.6/site-packages (from jinja2->notebook>=4.2->fileupload) (1.0)\n",
      "Requirement already satisfied: wcwidth in /home/ubuntu/.local/lib/python3.6/site-packages (from prompt-toolkit!=3.0.0,!=3.0.1,<3.1.0,>=2.0.0->ipython>=4.0.0->ipywidgets>=5.1->fileupload) (0.2.5)\n",
      "Requirement already satisfied: ptyprocess>=0.5 in /home/ubuntu/.local/lib/python3.6/site-packages (from pexpect; sys_platform != \"win32\"->ipython>=4.0.0->ipywidgets>=5.1->fileupload) (0.6.0)\n",
      "Requirement already satisfied: parso<0.8.0,>=0.7.0 in /home/ubuntu/.local/lib/python3.6/site-packages (from jedi>=0.10->ipython>=4.0.0->ipywidgets>=5.1->fileupload) (0.7.1)\n",
      "Requirement already satisfied: html5lib!=1.0b1,!=1.0b2,!=1.0b3,!=1.0b4,!=1.0b5,!=1.0b6,!=1.0b7,!=1.0b8,>=0.99999999pre in /opt/Anaconda3-5.2.0-Linux-x86_64/lib/python3.6/site-packages (from bleach->nbconvert->notebook>=4.2->fileupload) (1.0.1)\n",
      "Requirement already satisfied: webencodings in /opt/Anaconda3-5.2.0-Linux-x86_64/lib/python3.6/site-packages (from html5lib!=1.0b1,!=1.0b2,!=1.0b3,!=1.0b4,!=1.0b5,!=1.0b6,!=1.0b7,!=1.0b8,>=0.99999999pre->bleach->nbconvert->notebook>=4.2->fileupload) (0.5.1)\n",
      "Installing collected packages: fileupload\n",
      "Successfully installed fileupload-0.1.5\n"
     ]
    }
   ],
   "source": [
    "!pip3 install fileupload"
   ]
  },
  {
   "cell_type": "code",
   "execution_count": 14,
   "metadata": {
    "scrolled": true
   },
   "outputs": [
    {
     "name": "stdout",
     "output_type": "stream",
     "text": [
      "Installing /home/ubuntu/.local/lib/python3.6/site-packages/fileupload/static -> fileupload\r\n",
      "Making directory: /home/ubuntu/.local/share/jupyter/nbextensions/fileupload/\r\n",
      "Copying: /home/ubuntu/.local/lib/python3.6/site-packages/fileupload/static/widget.js -> /home/ubuntu/.local/share/jupyter/nbextensions/fileupload/widget.js\r\n",
      "Copying: /home/ubuntu/.local/lib/python3.6/site-packages/fileupload/static/extension.js -> /home/ubuntu/.local/share/jupyter/nbextensions/fileupload/extension.js\r\n",
      "Making directory: /home/ubuntu/.local/share/jupyter/nbextensions/fileupload/fileupload\r\n",
      "Copying: /home/ubuntu/.local/lib/python3.6/site-packages/fileupload/static/fileupload/widget.js -> /home/ubuntu/.local/share/jupyter/nbextensions/fileupload/fileupload/widget.js\r\n",
      "- Validating: \u001b[32mOK\u001b[0m\r\n",
      "\r\n",
      "    To initialize this nbextension in the browser every time the notebook (or other app) loads:\r\n",
      "    \r\n",
      "          jupyter nbextension enable fileupload --user --py\r\n",
      "    \r\n"
     ]
    }
   ],
   "source": [
    "!jupyter nbextension install --user --py fileupload "
   ]
  },
  {
   "cell_type": "code",
   "execution_count": 17,
   "metadata": {},
   "outputs": [
    {
     "name": "stdout",
     "output_type": "stream",
     "text": [
      "Enabling notebook extension fileupload/extension...\r\n",
      "      - Validating: \u001b[32mOK\u001b[0m\r\n"
     ]
    }
   ],
   "source": [
    "!jupyter nbextension enable fileupload --user --py"
   ]
  },
  {
   "cell_type": "code",
   "execution_count": 1,
   "metadata": {},
   "outputs": [
    {
     "name": "stdout",
     "output_type": "stream",
     "text": [
      "Known nbextensions:\r\n",
      "  config dir: /home/ubuntu/.jupyter/nbconfig\r\n",
      "    notebook section\r\n",
      "      ipyannotate/extension \u001b[32m enabled \u001b[0m\r\n",
      "      - Validating: \u001b[32mOK\u001b[0m\r\n",
      "      fileupload \u001b[32m enabled \u001b[0m\r\n",
      "      - Validating: problems found:\r\n",
      "        - require? \u001b[31m X\u001b[0m fileupload\r\n",
      "      fileupload/extension \u001b[32m enabled \u001b[0m\r\n",
      "      - Validating: \u001b[32mOK\u001b[0m\r\n",
      "  config dir: /opt/Anaconda3-5.2.0-Linux-x86_64/etc/jupyter/nbconfig\r\n",
      "    notebook section\r\n",
      "      jupyter-js-widgets/extension \u001b[32m enabled \u001b[0m\r\n",
      "      - Validating: \u001b[32mOK\u001b[0m\r\n"
     ]
    }
   ],
   "source": [
    "!jupyter nbextension list"
   ]
  },
  {
   "cell_type": "code",
   "execution_count": 16,
   "metadata": {
    "collapsed": true
   },
   "outputs": [
    {
     "name": "stdout",
     "output_type": "stream",
     "text": [
      "Enabling notebook extension jupyter-js-widgets/extension...\r\n",
      "Traceback (most recent call last):\r\n",
      "  File \"/opt/anaconda/bin/jupyter-nbextension\", line 11, in <module>\r\n",
      "    sys.exit(main())\r\n",
      "  File \"/home/ubuntu/.local/lib/python3.6/site-packages/jupyter_core/application.py\", line 270, in launch_instance\r\n",
      "    return super(JupyterApp, cls).launch_instance(argv=argv, **kwargs)\r\n",
      "  File \"/home/ubuntu/.local/lib/python3.6/site-packages/traitlets/config/application.py\", line 664, in launch_instance\r\n",
      "    app.start()\r\n",
      "  File \"/opt/Anaconda3-5.2.0-Linux-x86_64/lib/python3.6/site-packages/notebook/nbextensions.py\", line 988, in start\r\n",
      "    super(NBExtensionApp, self).start()\r\n",
      "  File \"/home/ubuntu/.local/lib/python3.6/site-packages/jupyter_core/application.py\", line 259, in start\r\n",
      "    self.subapp.start()\r\n",
      "  File \"/opt/Anaconda3-5.2.0-Linux-x86_64/lib/python3.6/site-packages/notebook/nbextensions.py\", line 896, in start\r\n",
      "    self.toggle_nbextension_python(self.extra_args[0])\r\n",
      "  File \"/opt/Anaconda3-5.2.0-Linux-x86_64/lib/python3.6/site-packages/notebook/nbextensions.py\", line 872, in toggle_nbextension_python\r\n",
      "    logger=self.log)\r\n",
      "  File \"/opt/Anaconda3-5.2.0-Linux-x86_64/lib/python3.6/site-packages/notebook/nbextensions.py\", line 483, in enable_nbextension_python\r\n",
      "    logger=logger)\r\n",
      "  File \"/opt/Anaconda3-5.2.0-Linux-x86_64/lib/python3.6/site-packages/notebook/nbextensions.py\", line 386, in _set_nbextension_state_python\r\n",
      "    for nbext in nbexts]\r\n",
      "  File \"/opt/Anaconda3-5.2.0-Linux-x86_64/lib/python3.6/site-packages/notebook/nbextensions.py\", line 386, in <listcomp>\r\n",
      "    for nbext in nbexts]\r\n",
      "  File \"/opt/Anaconda3-5.2.0-Linux-x86_64/lib/python3.6/site-packages/notebook/nbextensions.py\", line 351, in _set_nbextension_state\r\n",
      "    cm.update(section, {\"load_extensions\": {require: state}})\r\n",
      "  File \"/opt/Anaconda3-5.2.0-Linux-x86_64/lib/python3.6/site-packages/notebook/config_manager.py\", line 136, in update\r\n",
      "    self.set(section_name, data)\r\n",
      "  File \"/opt/Anaconda3-5.2.0-Linux-x86_64/lib/python3.6/site-packages/notebook/config_manager.py\", line 123, in set\r\n",
      "    f = io.open(filename, 'w', encoding='utf-8')\r\n",
      "PermissionError: [Errno 13] Permission denied: '/opt/Anaconda3-5.2.0-Linux-x86_64/etc/jupyter/nbconfig/notebook.json'\r\n"
     ]
    }
   ],
   "source": [
    "!jupyter nbextension enable --py --sys-prefix widgetsnbextension"
   ]
  },
  {
   "cell_type": "code",
   "execution_count": 4,
   "metadata": {},
   "outputs": [
    {
     "name": "stdout",
     "output_type": "stream",
     "text": [
      "Writing ../test_for_upload.txt\n"
     ]
    }
   ],
   "source": [
    "%%writefile ../test_for_upload.txt\n",
    "\n",
    "this is a test for upload purposes"
   ]
  },
  {
   "cell_type": "code",
   "execution_count": 10,
   "metadata": {},
   "outputs": [],
   "source": [
    "def handle_upload(input_x):\n",
    "    \n",
    "    w = input_x['owner']\n",
    "#     if w.filename:   \n",
    "    with open(w.filename, 'wb+') as f:\n",
    "        f.write(w.data)\n",
    "    print('Uploaded `{}` ({:.2f} kB)'.format(\n",
    "        w.filename, len(w.data) / 2**10))\n",
    "\n",
    "#     print(input_x,\"\\n\\n\\n\\n\",w)"
   ]
  },
  {
   "cell_type": "code",
   "execution_count": 11,
   "metadata": {},
   "outputs": [],
   "source": [
    "uploader = fileupload.FileUploadWidget()\n",
    "\n",
    "uploader.observe(handle_upload, names = 'data')"
   ]
  },
  {
   "cell_type": "code",
   "execution_count": 13,
   "metadata": {},
   "outputs": [
    {
     "data": {
      "application/vnd.jupyter.widget-view+json": {
       "model_id": "510cf15e80e74659a377c101943ad57a",
       "version_major": 2,
       "version_minor": 0
      },
      "text/plain": [
       "FileUploadWidget(label='Browse', _dom_classes=('widget_item', 'btn-group'))"
      ]
     },
     "metadata": {},
     "output_type": "display_data"
    }
   ],
   "source": [
    "uploader"
   ]
  },
  {
   "cell_type": "code",
   "execution_count": 9,
   "metadata": {},
   "outputs": [
    {
     "name": "stdout",
     "output_type": "stream",
     "text": [
      "A_survey_on_feature_selection_methods.pdf\r\n"
     ]
    }
   ],
   "source": [
    "!ls A_survey_on_feature_selection_methods.pdf"
   ]
  }
 ],
 "metadata": {
  "kernelspec": {
   "display_name": "Python 3",
   "language": "python",
   "name": "python3"
  },
  "language_info": {
   "codemirror_mode": {
    "name": "ipython",
    "version": 3
   },
   "file_extension": ".py",
   "mimetype": "text/x-python",
   "name": "python",
   "nbconvert_exporter": "python",
   "pygments_lexer": "ipython3",
   "version": "3.6.6"
  }
 },
 "nbformat": 4,
 "nbformat_minor": 2
}
